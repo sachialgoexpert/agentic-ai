{
 "cells": [
  {
   "cell_type": "code",
   "execution_count": 1,
   "id": "7ff4de2e",
   "metadata": {},
   "outputs": [],
   "source": [
    "from typing_extensions import TypedDict\n",
    "class State(TypedDict):\n",
    "    graph_info:str"
   ]
  },
  {
   "cell_type": "code",
   "execution_count": 2,
   "id": "055be7a0",
   "metadata": {},
   "outputs": [],
   "source": [
    "def start_play(state:State):\n",
    "    print(\"Start play node has been called\")\n",
    "    return {\"graph_info\":state[\"graph_info\"] + \" I am planning to play\"}\n"
   ]
  },
  {
   "cell_type": "code",
   "execution_count": 3,
   "id": "d4a263cf",
   "metadata": {},
   "outputs": [],
   "source": [
    "def play_cricket(state:State):\n",
    "    print(\"Cricket node has been called\")\n",
    "    return {\"graph_info\":state[\"graph_info\"] + \" I am planning to play Cricket\"}"
   ]
  },
  {
   "cell_type": "code",
   "execution_count": 4,
   "id": "e66e18d7",
   "metadata": {},
   "outputs": [],
   "source": [
    "def play_badminton(state:State):\n",
    "    print(\"Badminton node has been called\")\n",
    "    return {\"graph_info\":state[\"graph_info\"] + \" I am planning to play Badminton\"}"
   ]
  },
  {
   "cell_type": "code",
   "execution_count": 5,
   "id": "fa50e699",
   "metadata": {},
   "outputs": [],
   "source": [
    "import random\n",
    "from typing import Literal\n",
    "\n",
    "def random_play(state:State)->Literal['cricket','badminton']:\n",
    "    graph_info=state['graph_info']\n",
    "    if random.random()>0.5:\n",
    "        return 'cricket'\n",
    "    else:\n",
    "        return 'badminton'\n"
   ]
  },
  {
   "cell_type": "code",
   "execution_count": 6,
   "id": "1671e5a8",
   "metadata": {},
   "outputs": [],
   "source": [
    "from IPython.display import Image,display\n",
    "from langgraph.graph import StateGraph,START,END"
   ]
  },
  {
   "cell_type": "markdown",
   "id": "9963bfd6",
   "metadata": {},
   "source": [
    "### Building the Graph"
   ]
  },
  {
   "cell_type": "code",
   "execution_count": 7,
   "id": "57547d1b",
   "metadata": {},
   "outputs": [
    {
     "data": {
      "image/png": "[encoded data removed]",
      "text/plain": [
       "<IPython.core.display.Image object>"
      ]
     },
     "metadata": {},
     "output_type": "display_data"
    }
   ],
   "source": [
    "graph=StateGraph(State)\n",
    "### Add node\n",
    "graph.add_node(\"start_play\",start_play)\n",
    "graph.add_node(\"cricket\",play_cricket)\n",
    "graph.add_node(\"badminton\",play_badminton)\n",
    "### Add Edge\n",
    "graph.add_edge(START,\"start_play\")\n",
    "graph.add_conditional_edges(\"start_play\",random_play)\n",
    "graph.add_edge(\"badminton\",END)\n",
    "graph.add_edge(\"cricket\",END)\n",
    "### compile the graph\n",
    "graph_builder=graph.compile()\n",
    "\n",
    "display(Image(graph_builder.get_graph().draw_mermaid_png()))"
   ]
  },
  {
   "cell_type": "code",
   "execution_count": 12,
   "id": "27425753",
   "metadata": {},
   "outputs": [
    {
     "name": "stdout",
     "output_type": "stream",
     "text": [
      "Start play node has been called\n",
      "Cricket node has been called\n"
     ]
    },
    {
     "data": {
      "text/plain": [
       "{'graph_info': 'My name is Sachchida I am planning to play I am planning to play Cricket'}"
      ]
     },
     "execution_count": 12,
     "metadata": {},
     "output_type": "execute_result"
    }
   ],
   "source": [
    "### Graph invokation\n",
    "graph_builder.invoke({\"graph_info\":\"My name is Sachchida\"})"
   ]
  }
 ],
 "metadata": {
  "kernelspec": {
   "display_name": "torch-cuda12_8",
   "language": "python",
   "name": "python3"
  },
  "language_info": {
   "codemirror_mode": {
    "name": "ipython",
    "version": 3
   },
   "file_extension": ".py",
   "mimetype": "text/x-python",
   "name": "python",
   "nbconvert_exporter": "python",
   "pygments_lexer": "ipython3",
   "version": "3.12.11"
  }
 },
 "nbformat": 4,
 "nbformat_minor": 5
}
