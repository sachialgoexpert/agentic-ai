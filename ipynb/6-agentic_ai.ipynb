{
 "cells": [
  {
   "cell_type": "code",
   "execution_count": 27,
   "id": "23529898",
   "metadata": {},
   "outputs": [],
   "source": [
    "from typing_extensions import TypedDict\n",
    "from langgraph.graph import StateGraph,START,END"
   ]
  },
  {
   "cell_type": "code",
   "execution_count": 28,
   "id": "6de348ff",
   "metadata": {},
   "outputs": [],
   "source": [
    "### Reducers\n",
    "from typing import Annotated\n",
    "from langgraph.graph.message import add_messages"
   ]
  },
  {
   "cell_type": "code",
   "execution_count": 29,
   "id": "e775ca2c",
   "metadata": {},
   "outputs": [],
   "source": [
    "class State(TypedDict):\n",
    "    messages:Annotated[list,add_messages]"
   ]
  },
  {
   "cell_type": "code",
   "execution_count": 30,
   "id": "357fc794",
   "metadata": {},
   "outputs": [],
   "source": [
    "import os\n",
    "from dotenv import load_dotenv\n",
    "load_dotenv()\n",
    "os.environ[\"OPENAI_API_KEY\"]=os.getenv(\"OPENAI_API_KEY\")\n",
    "os.environ[\"GROQ_API_KEY\"]=os.getenv(\"GROQ_API_KEY\")"
   ]
  },
  {
   "cell_type": "code",
   "execution_count": 31,
   "id": "c4242d9f",
   "metadata": {},
   "outputs": [],
   "source": [
    "from langchain_openai import ChatOpenAI\n",
    "llm=ChatOpenAI(model=\"gpt-4.1-nano\")\n",
    "# llm.invoke(\"hell\")"
   ]
  },
  {
   "cell_type": "code",
   "execution_count": 32,
   "id": "6266d19d",
   "metadata": {},
   "outputs": [
    {
     "data": {
      "text/plain": [
       "AIMessage(content=\"Hello Sachchida, nice to meet you. It's great to hear that you're an AI enthusiast. Artificial Intelligence is a fascinating field with endless possibilities and applications. What aspects of AI interest you the most? Are you into machine learning, natural language processing, computer vision, or something else?\", additional_kwargs={}, response_metadata={'token_usage': {'completion_tokens': 61, 'prompt_tokens': 46, 'total_tokens': 107, 'completion_time': 0.14941559, 'prompt_time': 0.00226369, 'queue_time': 0.04902887, 'total_time': 0.15167928}, 'model_name': 'llama-3.3-70b-versatile', 'system_fingerprint': 'fp_9e1e8f8435', 'service_tier': 'on_demand', 'finish_reason': 'stop', 'logprobs': None}, id='run--d12ca183-9167-4dc1-863b-28564a7e8b88-0', usage_metadata={'input_tokens': 46, 'output_tokens': 61, 'total_tokens': 107})"
      ]
     },
     "execution_count": 32,
     "metadata": {},
     "output_type": "execute_result"
    }
   ],
   "source": [
    "from langchain_groq import ChatGroq\n",
    "llm_groq=ChatGroq(model=\"llama-3.3-70b-versatile\")\n",
    "llm_groq.invoke(\"hi I am sachchida. I am AI enthusiast\")"
   ]
  },
  {
   "cell_type": "code",
   "execution_count": 33,
   "id": "efe83cc4",
   "metadata": {},
   "outputs": [],
   "source": [
    "def superbot(state:State):\n",
    "    return {\"messages\": llm_groq.invoke(state[\"messages\"])}"
   ]
  },
  {
   "cell_type": "code",
   "execution_count": 34,
   "id": "93a1de4d",
   "metadata": {},
   "outputs": [
    {
     "data": {
      "image/png": "[encoded data removed]",
      "text/plain": [
       "<IPython.core.display.Image object>"
      ]
     },
     "metadata": {},
     "output_type": "display_data"
    }
   ],
   "source": [
    "from IPython.display import Image,display\n",
    "graph=StateGraph(State)\n",
    "graph.add_node(\"superbot\",superbot)\n",
    "graph.add_edge(START,\"superbot\")\n",
    "graph.add_edge(\"superbot\",END)\n",
    "graph_builder=graph.compile()\n",
    "## display\n",
    "display(Image(graph_builder.get_graph().draw_mermaid_png()))"
   ]
  },
  {
   "cell_type": "code",
   "execution_count": 35,
   "id": "52c21a1c",
   "metadata": {},
   "outputs": [
    {
     "data": {
      "text/plain": [
       "{'messages': [HumanMessage(content='Hi My Nameis Sachchida I like cricket and I am an AI enthusiast', additional_kwargs={}, response_metadata={}, id='08f31dd3-dca0-4a93-a9a3-7d690229e681'),\n",
       "  AIMessage(content=\"Hello Sachchida, nice to meet you. It's great to hear that you're a cricket fan and an AI enthusiast. Cricket is an exciting sport with a huge following, and AI is a rapidly evolving field with many interesting applications.\\n\\nWhat aspect of cricket do you enjoy the most? Are you a fan of a particular team or player? And what sparked your interest in AI? Are you exploring its applications in cricket or other areas? I'm here to chat and learn more about your interests.\", additional_kwargs={}, response_metadata={'token_usage': {'completion_tokens': 101, 'prompt_tokens': 51, 'total_tokens': 152, 'completion_time': 0.234564055, 'prompt_time': 0.002619591, 'queue_time': 0.048873965, 'total_time': 0.237183646}, 'model_name': 'llama-3.3-70b-versatile', 'system_fingerprint': 'fp_9e1e8f8435', 'service_tier': 'on_demand', 'finish_reason': 'stop', 'logprobs': None}, id='run--cb225db7-91fb-4a18-8b4a-0c0b37f01e85-0', usage_metadata={'input_tokens': 51, 'output_tokens': 101, 'total_tokens': 152})]}"
      ]
     },
     "execution_count": 35,
     "metadata": {},
     "output_type": "execute_result"
    }
   ],
   "source": [
    "graph_builder.invoke({'messages':'Hi My Nameis Sachchida I like cricket and I am an AI enthusiast'})"
   ]
  },
  {
   "cell_type": "markdown",
   "id": "94d33333",
   "metadata": {},
   "source": [
    "### Because we are usign reducers Human message and AIMessage both are appeneded in messages"
   ]
  },
  {
   "cell_type": "markdown",
   "id": "cf1bf3fa",
   "metadata": {},
   "source": [
    "### Streaming the responses"
   ]
  },
  {
   "cell_type": "code",
   "execution_count": 36,
   "id": "3ae43875",
   "metadata": {},
   "outputs": [
    {
     "data": {
      "text/plain": [
       "<generator object Pregel.stream at 0x25c35130>"
      ]
     },
     "execution_count": 36,
     "metadata": {},
     "output_type": "execute_result"
    }
   ],
   "source": [
    "graph_builder.stream({\"messages\":\"Hello\"})"
   ]
  },
  {
   "cell_type": "code",
   "execution_count": 37,
   "id": "65b1a34e",
   "metadata": {},
   "outputs": [
    {
     "name": "stdout",
     "output_type": "stream",
     "text": [
      "{'messages': [HumanMessage(content='Hi This side Sachchida', additional_kwargs={}, response_metadata={}, id='760b09c7-d053-4463-83d5-73aef66eb9e0')]}\n",
      "{'messages': [HumanMessage(content='Hi This side Sachchida', additional_kwargs={}, response_metadata={}, id='760b09c7-d053-4463-83d5-73aef66eb9e0'), AIMessage(content='Hello Sachchida, how can I assist you today?', additional_kwargs={}, response_metadata={'token_usage': {'completion_tokens': 13, 'prompt_tokens': 41, 'total_tokens': 54, 'completion_time': 0.036828526, 'prompt_time': 0.00207196, 'queue_time': 0.061816625, 'total_time': 0.038900486}, 'model_name': 'llama-3.3-70b-versatile', 'system_fingerprint': 'fp_155ab82e98', 'service_tier': 'on_demand', 'finish_reason': 'stop', 'logprobs': None}, id='run--c93c588b-4461-4f1f-9d14-d3eb3b369e40-0', usage_metadata={'input_tokens': 41, 'output_tokens': 13, 'total_tokens': 54})]}\n"
     ]
    }
   ],
   "source": [
    "for event in graph_builder.stream({\"messages\":\"Hi This side Sachchida\"},stream_mode=\"values\"):\n",
    "    print(event)"
   ]
  },
  {
   "cell_type": "code",
   "execution_count": 38,
   "id": "3b1835e2",
   "metadata": {},
   "outputs": [
    {
     "name": "stdout",
     "output_type": "stream",
     "text": [
      "{'superbot': {'messages': AIMessage(content='Hello Sachchida, how can I assist you today?', additional_kwargs={}, response_metadata={'token_usage': {'completion_tokens': 13, 'prompt_tokens': 41, 'total_tokens': 54, 'completion_time': 0.036808203, 'prompt_time': 0.002076113, 'queue_time': 0.048926347, 'total_time': 0.038884316}, 'model_name': 'llama-3.3-70b-versatile', 'system_fingerprint': 'fp_9e1e8f8435', 'service_tier': 'on_demand', 'finish_reason': 'stop', 'logprobs': None}, id='run--abf3b4dd-bbcc-49a1-be7e-3f590495a62c-0', usage_metadata={'input_tokens': 41, 'output_tokens': 13, 'total_tokens': 54})}}\n"
     ]
    }
   ],
   "source": [
    "### Stream mode update\n",
    "for event in graph_builder.stream({\"messages\":\"Hi This side Sachchida\"},stream_mode=\"updates\"):\n",
    "    print(event)"
   ]
  },
  {
   "cell_type": "markdown",
   "id": "0e91bfe7",
   "metadata": {},
   "source": [
    "##### Tool calling"
   ]
  },
  {
   "cell_type": "code",
   "execution_count": null,
   "id": "6d845cbb",
   "metadata": {},
   "outputs": [],
   "source": [
    "def add(a:int, b:int)-> int:\n",
    "    \"\"\" Add a and b\n",
    "    Args:\n",
    "        a (int) first int\n",
    "        b (int) second int\n",
    "\n",
    "        Returns:\n",
    "            int\n",
    "    \"\"\"\n",
    "    print(\"a->\",a)\n",
    "    print(\"b->\",b)\n",
    "    return a+b"
   ]
  },
  {
   "cell_type": "markdown",
   "id": "916241cd",
   "metadata": {},
   "source": [
    "### binding tool with llm"
   ]
  },
  {
   "cell_type": "code",
   "execution_count": 40,
   "id": "6b75d8e9",
   "metadata": {},
   "outputs": [],
   "source": [
    "from langchain_core.messages import HumanMessage,AIMessage"
   ]
  },
  {
   "cell_type": "code",
   "execution_count": 42,
   "id": "30dd128b",
   "metadata": {},
   "outputs": [],
   "source": [
    "llm_with_tool=llm.bind_tools([add])\n",
    "tool_call=llm_with_tool.invoke([HumanMessage(content=f\"What is 2 plus 2\",name=\"Sachi\")])"
   ]
  },
  {
   "cell_type": "code",
   "execution_count": 43,
   "id": "71a31e2c",
   "metadata": {},
   "outputs": [
    {
     "data": {
      "text/plain": [
       "[{'name': 'add',\n",
       "  'args': {'a': 2, 'b': 2},\n",
       "  'id': 'call_pHcU18EgdMusFUAUYC3264hu',\n",
       "  'type': 'tool_call'}]"
      ]
     },
     "execution_count": 43,
     "metadata": {},
     "output_type": "execute_result"
    }
   ],
   "source": [
    "tool_call.tool_calls"
   ]
  },
  {
   "cell_type": "markdown",
   "id": "7d98e888",
   "metadata": {},
   "source": [
    "### Messages as State"
   ]
  },
  {
   "cell_type": "code",
   "execution_count": null,
   "id": "9f8f4306",
   "metadata": {},
   "outputs": [],
   "source": [
    "from typing_extensions import TypedDict\n",
    "from langchain_core.messages import AnyMessage\n",
    "from langgraph.graph.message import add_messages\n",
    "from typing import Annotated\n",
    "\n",
    "class State(TypedDict):\n",
    "    messages:Annotated[list[AnyMessage],add_messages]\n",
    "    # name:str\n",
    "\n"
   ]
  },
  {
   "cell_type": "markdown",
   "id": "0af579fa",
   "metadata": {},
   "source": [
    "### Reducers with add_messages"
   ]
  },
  {
   "cell_type": "code",
   "execution_count": 48,
   "id": "b4ab6b3e",
   "metadata": {},
   "outputs": [
    {
     "data": {
      "text/plain": [
       "[AIMessage(content='Please tell me how can I help', additional_kwargs={}, response_metadata={}, name='LLModel'),\n",
       " HumanMessage(content='I want to learn coding', additional_kwargs={}, response_metadata={}, name='Sachi')]"
      ]
     },
     "execution_count": 48,
     "metadata": {},
     "output_type": "execute_result"
    }
   ],
   "source": [
    "initial_messages=[AIMessage(content=f\"Please tell me how can I help\",name=\"LLModel\")]\n",
    "initial_messages.append(HumanMessage(content=f\"I want to learn coding\",name=\"Sachi\"))\n",
    "initial_messages"
   ]
  },
  {
   "cell_type": "code",
   "execution_count": 55,
   "id": "85f6d1a9",
   "metadata": {},
   "outputs": [
    {
     "data": {
      "text/plain": [
       "AIMessage(content='which programming language you want to learn', additional_kwargs={}, response_metadata={}, name='LLMModel')"
      ]
     },
     "execution_count": 55,
     "metadata": {},
     "output_type": "execute_result"
    }
   ],
   "source": [
    "ai_message=AIMessage(content=f\"which programming language you want to learn\",name=\"LLMModel\")\n",
    "ai_message"
   ]
  },
  {
   "cell_type": "code",
   "execution_count": 56,
   "id": "effe128c",
   "metadata": {},
   "outputs": [
    {
     "data": {
      "text/plain": [
       "[AIMessage(content='Please tell me how can I help', additional_kwargs={}, response_metadata={}, name='LLModel', id='dffbecf2-18ca-43eb-bca4-425a0e09e218'),\n",
       " HumanMessage(content='I want to learn coding', additional_kwargs={}, response_metadata={}, name='Sachi', id='1be5bf18-521f-44e1-8ff7-8c5ae82b7e4e'),\n",
       " AIMessage(content='which programming language you want to learn', additional_kwargs={}, response_metadata={}, name='LLMModel', id='d5424c20-38b1-49cc-85a4-2e7798471f71'),\n",
       " AIMessage(content='which programming language you want to learn', additional_kwargs={}, response_metadata={}, name='LLMModel', id='f4be30f3-c684-453f-9ddb-689472023aa1')]"
      ]
     },
     "execution_count": 56,
     "metadata": {},
     "output_type": "execute_result"
    }
   ],
   "source": [
    "### usign reducer add_message\n",
    "### Reducers is used to append instaed of override\n",
    "add_messages(initial_messages,ai_message)"
   ]
  },
  {
   "cell_type": "markdown",
   "id": "2f0b1371",
   "metadata": {},
   "source": [
    "### chatbot node functionality"
   ]
  },
  {
   "cell_type": "code",
   "execution_count": 57,
   "id": "f16cff75",
   "metadata": {},
   "outputs": [],
   "source": [
    "def llm_tool(state:State):\n",
    "    return {\"messages\":[llm_with_tool.invoke(state[\"messages\"])]}"
   ]
  },
  {
   "cell_type": "code",
   "execution_count": 58,
   "id": "8c511840",
   "metadata": {},
   "outputs": [],
   "source": [
    "from IPython.display import Image,display\n",
    "from langgraph.graph import StateGraph,START,END\n",
    "builder=StateGraph(State)\n",
    "\n",
    "builder.add_node(\"llm_tool\",llm_tool)\n",
    "builder.add_edge(START,\"llm_tool\")\n",
    "builder.add_edge(\"llm_tool\",END)\n",
    "\n",
    "graph=builder.compile()"
   ]
  },
  {
   "cell_type": "code",
   "execution_count": 59,
   "id": "7ee44413",
   "metadata": {},
   "outputs": [
    {
     "data": {
      "image/png": "[encoded data removed]",
      "text/plain": [
       "<IPython.core.display.Image object>"
      ]
     },
     "metadata": {},
     "output_type": "display_data"
    }
   ],
   "source": [
    "display(Image(graph.get_graph().draw_mermaid_png()))"
   ]
  },
  {
   "cell_type": "code",
   "execution_count": 61,
   "id": "0fe14a84",
   "metadata": {},
   "outputs": [],
   "source": [
    "from pprint import pprint, PrettyPrinter"
   ]
  },
  {
   "cell_type": "code",
   "execution_count": 63,
   "id": "743cf133",
   "metadata": {},
   "outputs": [
    {
     "name": "stdout",
     "output_type": "stream",
     "text": [
      "================================\u001b[1m Human Message \u001b[0m=================================\n",
      "\n",
      "what is 2 plus 2\n",
      "==================================\u001b[1m Ai Message \u001b[0m==================================\n",
      "Tool Calls:\n",
      "  add (call_LWSxh0rT2np1Z5zYO0DBSYMY)\n",
      " Call ID: call_LWSxh0rT2np1Z5zYO0DBSYMY\n",
      "  Args:\n",
      "    a: 2\n",
      "    b: 2\n"
     ]
    }
   ],
   "source": [
    "### Invocation\n",
    "messages=graph.invoke({\"messages\":\"what is 2 plus 2\"})\n",
    "\n",
    "for message in messages[\"messages\"]:\n",
    "    message.pretty_print()"
   ]
  }
 ],
 "metadata": {
  "kernelspec": {
   "display_name": "torch-cuda12_8",
   "language": "python",
   "name": "python3"
  },
  "language_info": {
   "codemirror_mode": {
    "name": "ipython",
    "version": 3
   },
   "file_extension": ".py",
   "mimetype": "text/x-python",
   "name": "python",
   "nbconvert_exporter": "python",
   "pygments_lexer": "ipython3",
   "version": "3.12.11"
  }
 },
 "nbformat": 4,
 "nbformat_minor": 5
}
