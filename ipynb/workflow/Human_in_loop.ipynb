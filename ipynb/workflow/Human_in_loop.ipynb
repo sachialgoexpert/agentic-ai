{
  "cells": [
    {
      "cell_type": "markdown",
      "id": "46040930",
      "metadata": {},
      "source": [
        "![Screenshot from 2025-10-19 13-15-46.png](../screenshots/Screenshot_from_2025-10-19_13-15-46.png)"
      ]
    },
    {
      "cell_type": "code",
      "execution_count": 1,
      "id": "6b335e72",
      "metadata": {},
      "outputs": [],
      "source": [
        "import os\n",
        "from dotenv import load_dotenv\n",
        "load_dotenv()\n",
        "\n",
        "os.environ[\"OPENAI_API_KEY\"]=os.getenv(\"OPENAI_API_KEY\")\n",
        "os.environ[\"GROQ_API_KEY\"]=os.getenv(\"GROQ_API_KEY\")\n",
        "os.environ[\"TAVILY_API_KEY\"]=os.getenv(\"TAVILY_API_KEY\")"
      ]
    },
    {
      "cell_type": "code",
      "execution_count": 2,
      "id": "35b39940",
      "metadata": {},
      "outputs": [
        {
          "data": {
            "text/plain": [
              "AIMessage(content=\"Hello Sachchida! Nice to meet you! It's great to hear that you're an AI enthusiast. There are so many exciting developments and advancements in the field of Artificial Intelligence, from machine learning to natural language processing, and more.\\n\\nWhat specifically interests you about AI? Are you looking to learn more about a particular aspect of AI, or are you working on any AI-related projects? I'm here to help and chat with you about all things AI!\", additional_kwargs={}, response_metadata={'token_usage': {'completion_tokens': 93, 'prompt_tokens': 46, 'total_tokens': 139, 'completion_time': 0.27265486, 'prompt_time': 0.002126569, 'queue_time': 0.055151441, 'total_time': 0.274781429}, 'model_name': 'llama-3.3-70b-versatile', 'system_fingerprint': 'fp_34d416ee39', 'service_tier': 'on_demand', 'finish_reason': 'stop', 'logprobs': None}, id='run--a5ec0774-67af-4431-a242-7556b849f0b0-0', usage_metadata={'input_tokens': 46, 'output_tokens': 93, 'total_tokens': 139})"
            ]
          },
          "execution_count": 2,
          "metadata": {},
          "output_type": "execute_result"
        }
      ],
      "source": [
        "from langchain_groq import ChatGroq\n",
        "llm=ChatGroq(model=\"llama-3.3-70b-versatile\")\n",
        "llm.invoke(\"hi I am sachchida. I am AI enthusiast\")"
      ]
    },
    {
      "cell_type": "code",
      "execution_count": 3,
      "id": "7cb0c51a",
      "metadata": {},
      "outputs": [],
      "source": [
        "from typing_extensions import TypedDict\n",
        "from langgraph.graph import StateGraph, START,END\n",
        "from IPython.display import Image,display\n",
        "from typing import Annotated, List\n",
        "import operator\n",
        "from pydantic import BaseModel, Field\n",
        "from langchain_core.messages import HumanMessage,SystemMessage\n",
        "from langgraph.graph import StateGraph,START,END\n",
        "from IPython.display import Image,display"
      ]
    },
    {
      "cell_type": "code",
      "execution_count": 54,
      "id": "60cb91f0",
      "metadata": {},
      "outputs": [
        {
          "data": {
            "text/plain": [
              "[<function __main__.add(a: int, b: int) -> int>,\n",
              " <function __main__.multiply(a: int, b: int) -> int>,\n",
              " <function __main__.divide(a: int, b: int) -> int>]"
            ]
          },
          "execution_count": 54,
          "metadata": {},
          "output_type": "execute_result"
        }
      ],
      "source": [
        "### custom tools\n",
        "\n",
        "def multiply(a: int, b:int) -> int:\n",
        "    \"\"\" multiply a and b.\n",
        "        Args: \n",
        "            a: first int\n",
        "            b: second int\n",
        "    \"\"\"\n",
        "    print(\"multiply\")\n",
        "    return a*b\n",
        "\n",
        "def add(a: int, b:int) -> int:\n",
        "    \"\"\" add two numbers a and b.\n",
        "        Args: \n",
        "            a: first int\n",
        "            b: second int\n",
        "    \"\"\"\n",
        "    print(\"add\")\n",
        "    return a+b\n",
        "\n",
        "def divide(a: int, b:int) -> int:\n",
        "    \"\"\" divide a and b.\n",
        "        Args: \n",
        "            a: first int\n",
        "            b: second int\n",
        "    \"\"\"\n",
        "    print(\"divide\")\n",
        "    return a/b\n",
        "tools=[add,multiply,divide]\n",
        "tools"
      ]
    },
    {
      "cell_type": "code",
      "execution_count": 55,
      "id": "70c61092",
      "metadata": {},
      "outputs": [
        {
          "data": {
            "text/plain": [
              "RunnableBinding(bound=ChatGroq(client=<groq.resources.chat.completions.Completions object at 0x763d27f20110>, async_client=<groq.resources.chat.completions.AsyncCompletions object at 0x763d10e3dca0>, model_name='llama-3.3-70b-versatile', model_kwargs={}, groq_api_key=SecretStr('**********')), kwargs={'tools': [{'type': 'function', 'function': {'name': 'add', 'description': 'add two numbers a and b.\\nArgs: \\n    a: first int\\n    b: second int', 'parameters': {'properties': {'a': {'type': 'integer'}, 'b': {'type': 'integer'}}, 'required': ['a', 'b'], 'type': 'object'}}}, {'type': 'function', 'function': {'name': 'multiply', 'description': 'multiply a and b.\\nArgs: \\n    a: first int\\n    b: second int', 'parameters': {'properties': {'a': {'type': 'integer'}, 'b': {'type': 'integer'}}, 'required': ['a', 'b'], 'type': 'object'}}}, {'type': 'function', 'function': {'name': 'divide', 'description': 'divide a and b.\\nArgs: \\n    a: first int\\n    b: second int', 'parameters': {'properties': {'a': {'type': 'integer'}, 'b': {'type': 'integer'}}, 'required': ['a', 'b'], 'type': 'object'}}}]}, config={}, config_factories=[])"
            ]
          },
          "execution_count": 55,
          "metadata": {},
          "output_type": "execute_result"
        }
      ],
      "source": [
        "llm_with_tools=llm.bind_tools(tools)\n",
        "llm_with_tools"
      ]
    },
    {
      "cell_type": "code",
      "execution_count": 56,
      "id": "5fda382f",
      "metadata": {},
      "outputs": [],
      "source": [
        "### workflow with langgraph\n",
        "\n",
        "from langgraph.prebuilt import tools_condition,ToolNode\n",
        "from langgraph.graph import MessagesState\n",
        "from langgraph.checkpoint.memory import MemorySaver\n",
        "from langchain_core.messages import AIMessage,HumanMessage,SystemMessage\n",
        "\n",
        "## System Message -> Instruction to llm model how my llm model should behave\n",
        "sys_msg=SystemMessage(content=\"You are a helpful assistant tasked with performing airthmatic on a set of input message\")\n",
        "\n",
        "### node\n",
        "\n",
        "def assistant(state:MessagesState):\n",
        "    return {\"messages\":[llm_with_tools.invoke([sys_msg]+state[\"messages\"])]}"
      ]
    },
    {
      "cell_type": "code",
      "execution_count": 57,
      "id": "bee144dd",
      "metadata": {},
      "outputs": [
        {
          "data": {
            "image/png": "[encoded data removed]",
            "text/plain": [
              "<IPython.core.display.Image object>"
            ]
          },
          "metadata": {},
          "output_type": "display_data"
        }
      ],
      "source": [
        "### Graph\n",
        "\n",
        "builder=StateGraph(MessagesState)\n",
        "\n",
        "## define the nodes\n",
        "\n",
        "builder.add_node(\"assistant\",assistant)\n",
        "builder.add_node(\"tools\",ToolNode(tools))\n",
        "\n",
        "#### Define Edges\n",
        "\n",
        "builder.add_edge(START,\"assistant\")\n",
        "builder.add_conditional_edges(\"assistant\",\n",
        "                              tools_condition)\n",
        "builder.add_edge(\"tools\",\"assistant\")\n",
        "\n",
        "memory=MemorySaver()\n",
        "### Human in loop\n",
        "# graph=builder.compile(checkpointer=memory)\n",
        "graph=builder.compile(interrupt_before=[\"assistant\"],checkpointer=memory)\n",
        "graph=builder.compile(interrupt_before=[\"tools\"],checkpointer=memory)\n",
        "\n",
        "display(Image(graph.get_graph().draw_mermaid_png()))\n"
      ]
    },
    {
      "cell_type": "code",
      "execution_count": 58,
      "id": "958678eb",
      "metadata": {},
      "outputs": [],
      "source": [
        "thread={\"configurable\":{\"thread_id\":\"123\"}}\n",
        "initial_input={\"message\": HumanMessage(content=\"Multiply 2 and 3\")}"
      ]
    },
    {
      "cell_type": "code",
      "execution_count": 59,
      "id": "87a81162",
      "metadata": {},
      "outputs": [
        {
          "name": "stdout",
          "output_type": "stream",
          "text": [
            "==================================\u001b[1m Ai Message \u001b[0m==================================\n",
            "\n",
            "I'm ready to help with arithmetic operations. What are the numbers you'd like to work with?\n"
          ]
        }
      ],
      "source": [
        "for event in graph.stream(initial_input,thread,stream_mode=\"values\"):\n",
        "    event['messages'][-1].pretty_print()"
      ]
    },
    {
      "cell_type": "code",
      "execution_count": 60,
      "id": "c8589273",
      "metadata": {},
      "outputs": [
        {
          "data": {
            "text/plain": [
              "()"
            ]
          },
          "execution_count": 60,
          "metadata": {},
          "output_type": "execute_result"
        }
      ],
      "source": [
        "state=graph.get_state(thread)\n",
        "state.next"
      ]
    },
    {
      "cell_type": "code",
      "execution_count": 61,
      "id": "816d4b4f",
      "metadata": {},
      "outputs": [
        {
          "data": {
            "text/plain": [
              "StateSnapshot(values={'messages': [AIMessage(content=\"I'm ready to help with arithmetic operations. What are the numbers you'd like to work with?\", additional_kwargs={}, response_metadata={'token_usage': {'completion_tokens': 21, 'prompt_tokens': 432, 'total_tokens': 453, 'completion_time': 0.076339633, 'prompt_time': 0.038153878, 'queue_time': 0.050323451, 'total_time': 0.114493511}, 'model_name': 'llama-3.3-70b-versatile', 'system_fingerprint': 'fp_155ab82e98', 'service_tier': 'on_demand', 'finish_reason': 'stop', 'logprobs': None}, id='run--de3737cd-3238-4563-805d-8e3a1a54185f-0', usage_metadata={'input_tokens': 432, 'output_tokens': 21, 'total_tokens': 453})]}, next=(), config={'configurable': {'thread_id': '123', 'checkpoint_ns': '', 'checkpoint_id': '1f0acc5e-9344-666a-8001-71464ae915c7'}}, metadata={'source': 'loop', 'step': 1, 'parents': {}}, created_at='2025-10-19T08:30:46.953726+00:00', parent_config={'configurable': {'thread_id': '123', 'checkpoint_ns': '', 'checkpoint_id': '1f0acc5e-90c4-6e1a-8000-59b37186f8f0'}}, tasks=(), interrupts=())"
            ]
          },
          "execution_count": 61,
          "metadata": {},
          "output_type": "execute_result"
        }
      ],
      "source": [
        "state"
      ]
    },
    {
      "cell_type": "markdown",
      "id": "7d032935",
      "metadata": {},
      "source": [
        "![../../screenshots/Screenshot from 2025-10-19 13-44-45.png](../screenshots/Screenshot_from_2025-10-19_13-44-45.png)"
      ]
    },
    {
      "cell_type": "code",
      "execution_count": 62,
      "id": "a6e8cba1",
      "metadata": {},
      "outputs": [
        {
          "data": {
            "text/plain": [
              "<generator object Pregel.get_state_history at 0x763d0ba11640>"
            ]
          },
          "execution_count": 62,
          "metadata": {},
          "output_type": "execute_result"
        }
      ],
      "source": [
        "graph.get_state_history(thread)"
      ]
    },
    {
      "cell_type": "code",
      "execution_count": 63,
      "id": "8c90cb3c",
      "metadata": {},
      "outputs": [
        {
          "name": "stdout",
          "output_type": "stream",
          "text": [
            "==================================\u001b[1m Ai Message \u001b[0m==================================\n",
            "\n",
            "I'm ready to help with arithmetic operations. What are the numbers you'd like to work with?\n"
          ]
        }
      ],
      "source": [
        "for event in graph.stream(None,thread,stream_mode=\"values\"):\n",
        "    event['messages'][-1].pretty_print()"
      ]
    },
    {
      "cell_type": "code",
      "execution_count": 39,
      "id": "a72d383c",
      "metadata": {},
      "outputs": [
        {
          "data": {
            "text/plain": [
              "()"
            ]
          },
          "execution_count": 39,
          "metadata": {},
          "output_type": "execute_result"
        }
      ],
      "source": [
        "state=graph.get_state(thread)\n",
        "state.next"
      ]
    },
    {
      "cell_type": "code",
      "execution_count": 64,
      "id": "cd263d55",
      "metadata": {},
      "outputs": [
        {
          "data": {
            "text/plain": [
              "{'configurable': {'thread_id': '123',\n",
              "  'checkpoint_ns': '',\n",
              "  'checkpoint_id': '1f0acc5f-49d6-65ef-8002-da841313bcf0'}}"
            ]
          },
          "execution_count": 64,
          "metadata": {},
          "output_type": "execute_result"
        }
      ],
      "source": [
        "### To pass human message in interrupted flow\n",
        "graph.update_state(thread,{\"messages\":[HumanMessage(content=\"No, pls multiply 15 and 6\")]})"
      ]
    },
    {
      "cell_type": "code",
      "execution_count": 65,
      "id": "3c731b2e",
      "metadata": {},
      "outputs": [
        {
          "name": "stdout",
          "output_type": "stream",
          "text": [
            "==================================\u001b[1m Ai Message \u001b[0m==================================\n",
            "\n",
            "I'm ready to help with arithmetic operations. What are the numbers you'd like to work with?\n",
            "================================\u001b[1m Human Message \u001b[0m=================================\n",
            "\n",
            "No, pls multiply 15 and 6\n"
          ]
        }
      ],
      "source": [
        "new_state=graph.get_state(thread).values\n",
        "\n",
        "for m in new_state['messages']:\n",
        "    m.pretty_print()"
      ]
    },
    {
      "cell_type": "code",
      "execution_count": 66,
      "id": "cc4119ca",
      "metadata": {},
      "outputs": [
        {
          "name": "stdout",
          "output_type": "stream",
          "text": [
            "================================\u001b[1m Human Message \u001b[0m=================================\n",
            "\n",
            "No, pls multiply 15 and 6\n"
          ]
        }
      ],
      "source": [
        "for event in graph.stream(None,thread,stream_mode=\"values\"):\n",
        "    event['messages'][-1].pretty_print()"
      ]
    },
    {
      "cell_type": "markdown",
      "id": "67245e28",
      "metadata": {},
      "source": [
        "### Wait for the user input\n"
      ]
    },
    {
      "cell_type": "code",
      "execution_count": null,
      "id": "4375f89f",
      "metadata": {},
      "outputs": [],
      "source": []
    }
  ],
  "metadata": {
    "kernelspec": {
      "display_name": "torch-cuda12_8",
      "language": "python",
      "name": "python3"
    },
    "language_info": {
      "codemirror_mode": {
        "name": "ipython",
        "version": 3
      },
      "file_extension": ".py",
      "mimetype": "text/x-python",
      "name": "python",
      "nbconvert_exporter": "python",
      "pygments_lexer": "ipython3",
      "version": "3.12.11"
    }
  },
  "nbformat": 4,
  "nbformat_minor": 5
}