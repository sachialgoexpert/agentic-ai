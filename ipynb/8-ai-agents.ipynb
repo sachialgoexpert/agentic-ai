{
 "cells": [
  {
   "cell_type": "markdown",
   "id": "79d803b4",
   "metadata": {},
   "source": [
    "### Reactive Agent"
   ]
  },
  {
   "cell_type": "code",
   "execution_count": null,
   "id": "a6c838b8",
   "metadata": {},
   "outputs": [],
   "source": []
  }
 ],
 "metadata": {
  "kernelspec": {
   "display_name": "torch-cuda12_8",
   "language": "python",
   "name": "python3"
  },
  "language_info": {
   "name": "python",
   "version": "3.12.11"
  }
 },
 "nbformat": 4,
 "nbformat_minor": 5
}
