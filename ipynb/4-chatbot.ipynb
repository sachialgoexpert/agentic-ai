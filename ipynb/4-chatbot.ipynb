{
 "cells": [
  {
   "cell_type": "code",
   "execution_count": 7,
   "id": "c505c677",
   "metadata": {},
   "outputs": [],
   "source": [
    "import os\n",
    "from dotenv import load_dotenv\n",
    "load_dotenv()\n",
    "groq_api_key=os.getenv(\"GROQ_API_KEY\")"
   ]
  },
  {
   "cell_type": "code",
   "execution_count": 8,
   "id": "eb64ec8e",
   "metadata": {},
   "outputs": [],
   "source": [
    "from langchain_core.messages import HumanMessage, SystemMessage\n",
    "from langchain_groq import ChatGroq\n",
    "messages=[\n",
    "    SystemMessage(content=\"Translate the following from English to French\"),\n",
    "    HumanMessage(content=\"Hello How are you\")\n",
    "]\n",
    "model=ChatGroq(model=\"llama-3.1-8b-instant\",groq_api_key=os.getenv(\"GROQ_API_KEY\"))\n",
    "result=model.invoke(messages)"
   ]
  },
  {
   "cell_type": "code",
   "execution_count": 9,
   "id": "b8059b61",
   "metadata": {},
   "outputs": [
    {
     "data": {
      "text/plain": [
       "AIMessage(content=\"Hello Sachchida, nice to meet you. It's great to hear that you're an AI enthusiast working at SAP. SAP is a leading enterprise software company, and I'm sure you're working on some exciting projects that involve the integration of AI and machine learning.\\n\\nAs an AI enthusiast, you must be aware of the latest advancements in the field. I'd love to hear more about your work and projects. Are you involved in any specific areas such as natural language processing, computer vision, or predictive analytics?\\n\\nFeel free to share your experiences and insights, and I'll do my best to provide helpful information and engage in a conversation. What's on your mind, Sachchida?\", additional_kwargs={}, response_metadata={'token_usage': {'completion_tokens': 139, 'prompt_tokens': 51, 'total_tokens': 190, 'completion_time': 0.209537432, 'prompt_time': 0.003199247, 'queue_time': 0.044924463, 'total_time': 0.212736679}, 'model_name': 'llama-3.1-8b-instant', 'system_fingerprint': 'fp_ab04adca7d', 'service_tier': 'on_demand', 'finish_reason': 'stop', 'logprobs': None}, id='run--7abbb0fe-edcd-4315-8dc4-47c8fe572616-0', usage_metadata={'input_tokens': 51, 'output_tokens': 139, 'total_tokens': 190})"
      ]
     },
     "execution_count": 9,
     "metadata": {},
     "output_type": "execute_result"
    }
   ],
   "source": [
    "from langchain_core.messages import HumanMessage\n",
    "model.invoke([HumanMessage(content=\"Hi my nameis sachchida, I am a AI enthusiast working at SAP\")])"
   ]
  },
  {
   "cell_type": "code",
   "execution_count": 10,
   "id": "3c7a2bc9",
   "metadata": {},
   "outputs": [
    {
     "data": {
      "text/plain": [
       "AIMessage(content='Your name is Sachchida, and you are working at SAP Labs in Bangalore.', additional_kwargs={}, response_metadata={'token_usage': {'completion_tokens': 18, 'prompt_tokens': 157, 'total_tokens': 175, 'completion_time': 0.029176298, 'prompt_time': 0.011149145, 'queue_time': 0.045639555, 'total_time': 0.040325443}, 'model_name': 'llama-3.1-8b-instant', 'system_fingerprint': 'fp_e32974efee', 'service_tier': 'on_demand', 'finish_reason': 'stop', 'logprobs': None}, id='run--e556abcd-3e0f-4aa1-aefa-c70776e88509-0', usage_metadata={'input_tokens': 157, 'output_tokens': 18, 'total_tokens': 175})"
      ]
     },
     "execution_count": 10,
     "metadata": {},
     "output_type": "execute_result"
    }
   ],
   "source": [
    "from langchain_core.messages import AIMessage\n",
    "model.invoke(\n",
    "    [\n",
    "        HumanMessage(content=\"Hi I am Sachchida, I am working in SAP Labs in bangalore.\"),\n",
    "        AIMessage(content=\"Nice to meet you, Sachchida. It's great to know that you're an AI enthusiast working at SAP. SAP is a renowned company in the enterprise software space, and AI is a rapidly evolving field with many exciting applications.\\n\\nWhat specific areas of AI are you interested in or working on at SAP? Are you involved in developing AI-powered solutions for customers, or are you working on research and development of new AI technologies?\"),\n",
    "        HumanMessage(content=\"Whats my name and where I am working.\")\n",
    "    ]\n",
    ")"
   ]
  },
  {
   "cell_type": "markdown",
   "id": "29784d64",
   "metadata": {},
   "source": [
    "#### Message History\n",
    "We can use a message history class to wrap our model and make it stateful. This will keep track of input and output of the model and store them in some datastore. future interactions will then load those messages and pass them into the chain as par tof the input."
   ]
  },
  {
   "cell_type": "code",
   "execution_count": 12,
   "id": "9e44b5b9",
   "metadata": {},
   "outputs": [],
   "source": [
    "from langchain_community.chat_message_histories import ChatMessageHistory\n",
    "from langchain_core.chat_history import BaseChatMessageHistory\n",
    "from langchain_core.runnables.history import RunnableWithMessageHistory"
   ]
  },
  {
   "cell_type": "code",
   "execution_count": 15,
   "id": "f5cae9ba",
   "metadata": {},
   "outputs": [],
   "source": [
    "store={}\n",
    "def get_session_history(session_id:str)->BaseChatMessageHistory:\n",
    "    if session_id not in store:\n",
    "        store[session_id]=ChatMessageHistory()\n",
    "    return store[session_id]\n",
    "with_message_history=RunnableWithMessageHistory(model,get_session_history=get_session_history)"
   ]
  },
  {
   "cell_type": "code",
   "execution_count": 14,
   "id": "6e7e38bb",
   "metadata": {},
   "outputs": [],
   "source": [
    "config={\"configurable\":{\"session_id\":\"chat1\"}}\n"
   ]
  },
  {
   "cell_type": "code",
   "execution_count": 17,
   "id": "134ee6d1",
   "metadata": {},
   "outputs": [
    {
     "data": {
      "text/plain": [
       "'Nice to meet you again Sachchida. I see you repeated your introduction. Are you looking to discuss something specific or just wanting to start a conversation about AI and its applications?'"
      ]
     },
     "execution_count": 17,
     "metadata": {},
     "output_type": "execute_result"
    }
   ],
   "source": [
    "response=with_message_history.invoke(\n",
    "    [HumanMessage(content=\"Hi I am Sachchida, I am an AI Engineer.\")],config=config\n",
    ")\n",
    "response.content"
   ]
  },
  {
   "cell_type": "code",
   "execution_count": 18,
   "id": "35fd7a28",
   "metadata": {},
   "outputs": [
    {
     "data": {
      "text/plain": [
       "\"Your name is Sachchida, and you're an AI Engineer.\""
      ]
     },
     "execution_count": 18,
     "metadata": {},
     "output_type": "execute_result"
    }
   ],
   "source": [
    "response=with_message_history.invoke(\n",
    "    [HumanMessage(content=\"what is my name\")],config=config\n",
    ")\n",
    "response.content"
   ]
  },
  {
   "cell_type": "markdown",
   "id": "dfb97332",
   "metadata": {},
   "source": [
    "### change the config"
   ]
  },
  {
   "cell_type": "code",
   "execution_count": 19,
   "id": "c1ae0222",
   "metadata": {},
   "outputs": [
    {
     "data": {
      "text/plain": [
       "\"I don't have any information about your name as our conversation has just started. You can tell me your name if you'd like, or we can explore a different topic.\""
      ]
     },
     "execution_count": 19,
     "metadata": {},
     "output_type": "execute_result"
    }
   ],
   "source": [
    "config1={\"configurable\":{\"session_id\":\"chat2\"}}\n",
    "response=with_message_history.invoke(\n",
    "    [HumanMessage(content=\"what is my name\")],config=config1\n",
    ")\n",
    "response.content"
   ]
  },
  {
   "cell_type": "code",
   "execution_count": 23,
   "id": "a42a7940",
   "metadata": {},
   "outputs": [
    {
     "data": {
      "text/plain": [
       "AIMessage(content=\"Nice to meet you, Sachchida! It's great to have you here. Is there something I can help you with or would you like to chat?\", additional_kwargs={}, response_metadata={'token_usage': {'completion_tokens': 33, 'prompt_tokens': 57, 'total_tokens': 90, 'completion_time': 0.050409758, 'prompt_time': 0.003493282, 'queue_time': 0.044591884, 'total_time': 0.05390304}, 'model_name': 'llama-3.1-8b-instant', 'system_fingerprint': 'fp_ab04adca7d', 'service_tier': 'on_demand', 'finish_reason': 'stop', 'logprobs': None}, id='run--ca59ff17-1378-4be1-bbad-a796a4af1c08-0', usage_metadata={'input_tokens': 57, 'output_tokens': 33, 'total_tokens': 90})"
      ]
     },
     "execution_count": 23,
     "metadata": {},
     "output_type": "execute_result"
    }
   ],
   "source": [
    "from langchain_core.prompts import ChatPromptTemplate,MessagesPlaceholder\n",
    "prompt=ChatPromptTemplate.from_messages(\n",
    "    [\n",
    "        (\"system\",\"you are helpful assistant. Answer all the questions to the best of your ability\"),\n",
    "        MessagesPlaceholder(variable_name=\"messages\")\n",
    "    ]\n",
    ")\n",
    "chain=prompt|model\n",
    "chain.invoke({\"messages\":[HumanMessage(content=\"Hi My name is Sachchida\")]})"
   ]
  }
 ],
 "metadata": {
  "kernelspec": {
   "display_name": "torch-cuda12_8",
   "language": "python",
   "name": "python3"
  },
  "language_info": {
   "codemirror_mode": {
    "name": "ipython",
    "version": 3
   },
   "file_extension": ".py",
   "mimetype": "text/x-python",
   "name": "python",
   "nbconvert_exporter": "python",
   "pygments_lexer": "ipython3",
   "version": "3.12.11"
  }
 },
 "nbformat": 4,
 "nbformat_minor": 5
}
