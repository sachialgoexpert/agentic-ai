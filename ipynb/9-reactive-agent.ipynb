{
 "cells": [],
 "metadata": {
  "kernelspec": {
   "display_name": "torch-cuda12_8",
   "language": "python",
   "name": "python3"
  },
  "language_info": {
   "name": "python",
   "version": "3.12.11"
  }
 },
 "nbformat": 4,
 "nbformat_minor": 5
}
