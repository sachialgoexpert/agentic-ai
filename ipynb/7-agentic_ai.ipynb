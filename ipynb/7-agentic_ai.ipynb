{
 "cells": [
  {
   "cell_type": "markdown",
   "id": "bd6fc4f7",
   "metadata": {},
   "source": [
    "### Building chatbot with multiple tools using langgraph"
   ]
  },
  {
   "cell_type": "markdown",
   "id": "3978ca10",
   "metadata": {},
   "source": [
    "### Create a chatbot with tool capabilities with arxiv, wikipedia search and some functions"
   ]
  },
  {
   "cell_type": "code",
   "execution_count": 1,
   "id": "68d5ea4a",
   "metadata": {},
   "outputs": [],
   "source": [
    "from typing_extensions import TypedDict\n",
    "from langgraph.graph import StateGraph,START,END"
   ]
  },
  {
   "cell_type": "code",
   "execution_count": 2,
   "id": "23a8290e",
   "metadata": {},
   "outputs": [],
   "source": [
    "import os\n",
    "from dotenv import load_dotenv\n",
    "load_dotenv()\n",
    "os.environ[\"OPENAI_API_KEY\"]=os.getenv(\"OPENAI_API_KEY\")\n",
    "os.environ[\"GROQ_API_KEY\"]=os.getenv(\"GROQ_API_KEY\")\n",
    "os.environ[\"TAVILY_API_KEY\"]=os.getenv(\"TAVILY_API_KEY\")"
   ]
  },
  {
   "cell_type": "code",
   "execution_count": 3,
   "id": "440f133f",
   "metadata": {},
   "outputs": [
    {
     "name": "stderr",
     "output_type": "stream",
     "text": [
      "/home/sachchida/anaconda3/envs/torch-cuda12_8/lib/python3.12/site-packages/tqdm/auto.py:21: TqdmWarning: IProgress not found. Please update jupyter and ipywidgets. See https://ipywidgets.readthedocs.io/en/stable/user_install.html\n",
      "  from .autonotebook import tqdm as notebook_tqdm\n"
     ]
    },
    {
     "data": {
      "text/plain": [
       "AIMessage(content=\"Hello Sachchida, nice to meet you. It's great to hear that you're an AI enthusiast. Artificial Intelligence is a fascinating field with endless possibilities. What aspects of AI interest you the most? Are you into machine learning, natural language processing, computer vision, or something else? I'm here to chat and learn with you.\", additional_kwargs={}, response_metadata={'token_usage': {'completion_tokens': 69, 'prompt_tokens': 46, 'total_tokens': 115, 'completion_time': 0.191611529, 'prompt_time': 0.002469814, 'queue_time': 0.056263356, 'total_time': 0.194081343}, 'model_name': 'llama-3.3-70b-versatile', 'system_fingerprint': 'fp_9e1e8f8435', 'service_tier': 'on_demand', 'finish_reason': 'stop', 'logprobs': None}, id='run--ff583a94-b675-4df6-a965-7565c9a281f8-0', usage_metadata={'input_tokens': 46, 'output_tokens': 69, 'total_tokens': 115})"
      ]
     },
     "execution_count": 3,
     "metadata": {},
     "output_type": "execute_result"
    }
   ],
   "source": [
    "from langchain_groq import ChatGroq\n",
    "llm_groq=ChatGroq(model=\"llama-3.3-70b-versatile\")\n",
    "llm_groq.invoke(\"hi I am sachchida. I am AI enthusiast\")"
   ]
  },
  {
   "cell_type": "code",
   "execution_count": 4,
   "id": "1dbd2cf1",
   "metadata": {},
   "outputs": [],
   "source": [
    "from langchain_community.tools import ArxivQueryRun,WikipediaQueryRun\n",
    "from langchain_community.utilities import WikipediaAPIWrapper, ArxivAPIWrapper"
   ]
  },
  {
   "cell_type": "code",
   "execution_count": 5,
   "id": "954ccedd",
   "metadata": {},
   "outputs": [
    {
     "name": "stdout",
     "output_type": "stream",
     "text": [
      "arxiv\n"
     ]
    }
   ],
   "source": [
    "api_wrapper_arxiv=ArxivAPIWrapper(top_k_results=2, doc_content_chars_max=500)\n",
    "arxiv=ArxivQueryRun(api_wrapper=api_wrapper_arxiv)\n",
    "print(arxiv.name)"
   ]
  },
  {
   "cell_type": "code",
   "execution_count": 6,
   "id": "992f85fa",
   "metadata": {},
   "outputs": [
    {
     "data": {
      "text/plain": [
       "\"Published: 2024-07-22\\nTitle: Attention Is All You Need But You Don't Need All Of It For Inference of Large Language Models\\nAuthors: Georgy Tyukin, Gbetondji J-S Dovonon, Jean Kaddour, Pasquale Minervini\\nSummary: The inference demand for LLMs has skyrocketed in recent months, and serving\\nmodels with low latencies remains challenging due to the quadratic input length\\ncomplexity of the attention layers. In this work, we investigate the effect of\\ndropping MLP and attention layers at inference time o\""
      ]
     },
     "execution_count": 6,
     "metadata": {},
     "output_type": "execute_result"
    }
   ],
   "source": [
    "arxiv.invoke(\"Attention is all you need\")"
   ]
  },
  {
   "cell_type": "code",
   "execution_count": 7,
   "id": "5b34e09b",
   "metadata": {},
   "outputs": [
    {
     "name": "stdout",
     "output_type": "stream",
     "text": [
      "wikipedia\n"
     ]
    }
   ],
   "source": [
    "api_wrapper_wiki=WikipediaAPIWrapper(top_k_results=2, doc_content_chars_max=500)\n",
    "wiki=WikipediaQueryRun(api_wrapper=api_wrapper_wiki)\n",
    "print(wiki.name)"
   ]
  },
  {
   "cell_type": "code",
   "execution_count": 8,
   "id": "39d67ae5",
   "metadata": {},
   "outputs": [
    {
     "data": {
      "text/plain": [
       "'Page: Barack Obama\\nSummary: Barack Hussein Obama II (born August 4, 1961) is an American politician who served as the 44th president of the United States from 2009 to 2017. A member of the Democratic Party, he was the first African American president. Obama previously served as a U.S. senator representing Illinois from 2005 to 2008 and as an Illinois state senator from 1997 to 2004.\\nBorn in Honolulu, Hawaii, Obama graduated from Columbia University in 1983 with a Bachelor of Arts degree in polit'"
      ]
     },
     "execution_count": 8,
     "metadata": {},
     "output_type": "execute_result"
    }
   ],
   "source": [
    "wiki.invoke(\"barack obama\")"
   ]
  },
  {
   "cell_type": "code",
   "execution_count": 9,
   "id": "4796726f",
   "metadata": {},
   "outputs": [
    {
     "name": "stderr",
     "output_type": "stream",
     "text": [
      "/tmp/ipykernel_6462/3543858584.py:2: LangChainDeprecationWarning: The class `TavilySearchResults` was deprecated in LangChain 0.3.25 and will be removed in 1.0. An updated version of the class exists in the :class:`~langchain-tavily package and should be used instead. To use it run `pip install -U :class:`~langchain-tavily` and import as `from :class:`~langchain_tavily import TavilySearch``.\n",
      "  tavily=TavilySearchResults()\n"
     ]
    }
   ],
   "source": [
    "from langchain_community.tools.tavily_search import TavilySearchResults\n",
    "tavily=TavilySearchResults()"
   ]
  },
  {
   "cell_type": "code",
   "execution_count": 10,
   "id": "b94f70d3",
   "metadata": {},
   "outputs": [
    {
     "data": {
      "text/plain": [
       "[{'title': 'Indian Rupee - Quote - Chart - Historical Data - News',\n",
       "  'url': 'https://tradingeconomics.com/india/currency',\n",
       "  'content': \"## The USD/INR exchange rate rose to 88.0070 on October 17, 2025, up 0.02% from the previous session. Over the past month, the Indian Rupee has strengthened 0.23%, but it's down by 4.68% over the last 12 months. Historically, the USDINR reached an all time high of 88.97 in September of 2025. Indian Rupee - data, forecasts, historical chart - was last updated on October 17 of 2025. [...] ### The USD/INR exchange rate rose to 88.0070 on October 17, 2025, up 0.02% from the previous session. Over the past month, the Indian Rupee has strengthened 0.23%, but it's down by 4.68% over the last 12 months. The Indian Rupee is expected to trade at 88.48 by the end of this quarter, according to Trading Economics global macro models and analysts expectations. Looking forward, we estimate it to trade at 87.52 in 12 months time. [...] | Crosses | Price |  |  | Day | Year | Date |\\n ---  ---  --- \\n| USDINR | 87.9990 |  | 0.0084 | 0.01% | 4.67% | Oct/17 |\\n| EURINR | 102.7695 |  | -0.0677 | -0.07% | 12.48% | Oct/17 |\\n| GBPINR | 118.1654 |  | -0.0394 | -0.03% | 7.73% | Oct/17 |\\n| AUDINR | 57.0896 |  | 0.0313 | 0.05% | 1.26% | Oct/17 |\\n| NZDINR | 50.4170 |  | 0.0010 | 0.002% | -1.01% | Oct/17 |\\n| INRJPY | 1.7092 |  | -0.0004 | -0.03% | -3.89% | Oct/17 |\\n| INRCHF | 0.0090 |  | -0.00001 | -0.12% | -12.47% | Oct/17 |\",\n",
       "  'score': 0.8488849},\n",
       " {'title': 'US dollar to Indian rupees Exchange Rate History - Wise',\n",
       "  'url': 'https://wise.com/us/currency-converter/usd-to-inr-rate/history',\n",
       "  'content': 'During the past week, the exchange rate of US dollar to Indian rupees has fluctuated between a high of 88.8244 on 13-10-2025 and a low of 87.6904 on 16-10-2025.',\n",
       "  'score': 0.8325776},\n",
       " {'title': 'USD to INR | Convert US Dollar to Indian Rupee',\n",
       "  'url': 'https://www.westernunion.com/us/en/currency-converter/usd-to-inr-rate.html',\n",
       "  'content': '# Convert {sendAmount} US Dollar to Indian Rupee\\n\\nConvert USD to INR now for today’s Western Union exchange rate. Enter the amount, choose your currencies, and see the latest rates. \\u200b\\n\\nFX: 1.00 USD –   Exchange Rates and Fees shown are estimates, vary by a number of factors including payment and payout methods, and are subject to change. To check current rates and other options, simply click “Send money”.\\u200b  X Fee:\\n\\nBe informed. Be aware. Protect yourself from fraud\\n\\nBe informed. Be aware. [...] .828%200-1.41-.499-1.41-1.255V13.393h3.706l-.052-4.595h-3.654V1.972l-5.338%201.337v5.489h-2.786l-.015%204.595h2.801zM266.636%2011.832V8.798h-4.699v23.988h5.648l-.046-14.67c.073-1.476.568-2.607%201.472-3.36%201.186-.99%203.033-1.328%205.486-1.003l.295.039.05-5.006-.23-.031c-3.384-.462-6.446.572-7.976%203.077%22%2F%3E%3Cg%20transform%3D%22translate(137.638%208 [...] .346%22%2F%3E%3C%2Fg%3E%3C%2Fsvg%3E)',\n",
       "  'score': 0.8025714},\n",
       " {'title': 'USD to INR Exchange Rates - Convert US dollars to Indian ...',\n",
       "  'url': 'https://www.remitly.com/us/en/currency-converter/usd-to-inr-rate',\n",
       "  'content': 'United States\\nIndia\\nMenu Icon\\n\\n# USD to INR\\n\\n## Remitly offers dependable exchange rates for USD to INR with no hidden fees. Join today and get a promotional rate of 88.41 INR to 1 USD on your first money transfer.\\n\\nUS\\nIN\\nHDFC Bank\\nState Bank of India (SBI)\\nFederal Bank\\n\\n## Send money to India\\n\\nFees for when you send from USD to INR\\n\\n| Send Amount (USD) | Fee |\\n --- |\\n| Below $1,000 | $3.99 |\\n| $1,000 or more | $0 |\\n\\n## What affects the exchange rate for US dollars to Indian rupees? [...] Many factors can determine exchange rates, including:\\n\\nMany factors can determine exchange rates, including:\\n\\n### Central banks\\n\\n### Economic performance\\n\\n### Political stability\\n\\n### Inflation rates\\n\\n## Why choose Remitly?\\n\\nGuaranteed Delivery\\n\\n### Guaranteed Delivery\\n\\nSecure Transactions\\n\\n### Secure Transactions\\n\\nGlobal Network\\n\\n### Global Network\\n\\nTrusted Worldwide \\n\\n### Trusted Worldwide\\n\\n## Download the app:\\n\\nGoogle Play\\nApp Store\\n\\nScan the code with your phone to get the app [...] ## INR conversion rates\\n\\nFacebook\\nX\\nRemitly\\nGoogle Play\\nApp Store\\n\\nScan the code with your phone to get the app\\n\\nQR Code\\n\\n©2012 - 2025 Remitly, Inc. All rights reserved\\n\\nRemitly, Inc. is Licensed as a Money Transmitter by the New York State Department of Financial Services and in PR (TM-143), a Foreign Transmittal Agency in MA, and a Currency Transmitter in RI. NMLS No. 1028236. Registered address: 401 Union Street, Suite 1000, Seattle, WA, 98101, USA.',\n",
       "  'score': 0.7099254},\n",
       " {'title': 'USD to INR Exchange Rate',\n",
       "  'url': 'https://www.bloomberg.com/quote/USDINR:CUR',\n",
       "  'content': \"For inquiries related to this message please contact our support team and provide the reference ID below.\\n\\nBlock reference ID:7b5c4f96-ab5b-11f0-8326-0baae9055379\\n\\nGet the most important global markets news at your fingertips with a Bloomberg.com subscription.\\n\\nSUBSCRIBE NOW [...] # Bloomberg\\n\\nNeed help? Contact us \\n\\n## We've detected unusual activity from your computer network\\n\\nTo continue, please click the box below to let us know you're not a robot.\\n\\n### Why did this happen?\\n\\nPlease make sure your browser supports JavaScript and cookies and that you are not blocking them from loading. For more information you can review our Terms of Service and Cookie Policy.\\n\\n### Need Help?\",\n",
       "  'score': 0.6044228}]"
      ]
     },
     "execution_count": 10,
     "metadata": {},
     "output_type": "execute_result"
    }
   ],
   "source": [
    "tavily.invoke(\"provide the current USD to INR conversion rate\")"
   ]
  },
  {
   "cell_type": "code",
   "execution_count": 11,
   "id": "d8bd2170",
   "metadata": {},
   "outputs": [],
   "source": [
    "### combine all the tools in the list\n",
    "tools=[arxiv,wiki,tavily]"
   ]
  },
  {
   "cell_type": "code",
   "execution_count": 12,
   "id": "4ecf529a",
   "metadata": {},
   "outputs": [],
   "source": [
    "### intialize my llm model\n",
    "from langchain_groq import ChatGroq\n",
    "llm=ChatGroq(model=\"openai/gpt-oss-20b\")\n",
    "### bind llm with tools (list of tools)\n",
    "llm_with_tools=llm.bind_tools(tools)"
   ]
  },
  {
   "cell_type": "code",
   "execution_count": 13,
   "id": "315c9302",
   "metadata": {},
   "outputs": [],
   "source": [
    "from langchain_core.messages import AIMessage, HumanMessage\n",
    "from pprint import pprint"
   ]
  },
  {
   "cell_type": "code",
   "execution_count": 14,
   "id": "03a1dc30",
   "metadata": {},
   "outputs": [
    {
     "data": {
      "text/plain": [
       "AIMessage(content='', additional_kwargs={'reasoning_content': 'User: \"what is the recent AI news\". They want recent AI news. We should browse. Use tavily_search_results_json to get recent AI news. Let\\'s do that.', 'tool_calls': [{'id': 'fc_509dc93a-bf20-4e80-b715-eab1fe045cae', 'function': {'arguments': '{\"query\":\"recent AI news\"}', 'name': 'tavily_search_results_json'}, 'type': 'function'}]}, response_metadata={'token_usage': {'completion_tokens': 66, 'prompt_tokens': 291, 'total_tokens': 357, 'completion_time': 0.066743488, 'prompt_time': 0.017782365, 'queue_time': 0.046936995, 'total_time': 0.084525853}, 'model_name': 'openai/gpt-oss-20b', 'system_fingerprint': 'fp_3d587a02fb', 'service_tier': 'on_demand', 'finish_reason': 'tool_calls', 'logprobs': None}, id='run--1db96e68-c3fa-4f74-b8ea-430cfbcbe504-0', tool_calls=[{'name': 'tavily_search_results_json', 'args': {'query': 'recent AI news'}, 'id': 'fc_509dc93a-bf20-4e80-b715-eab1fe045cae', 'type': 'tool_call'}], usage_metadata={'input_tokens': 291, 'output_tokens': 66, 'total_tokens': 357})"
      ]
     },
     "execution_count": 14,
     "metadata": {},
     "output_type": "execute_result"
    }
   ],
   "source": [
    "llm_with_tools.invoke([HumanMessage(content=f\"what is the recent AI news\")])"
   ]
  },
  {
   "cell_type": "code",
   "execution_count": 15,
   "id": "5862fb00",
   "metadata": {},
   "outputs": [
    {
     "data": {
      "text/plain": [
       "[{'name': 'tavily_search_results_json',\n",
       "  'args': {'query': 'recent AI news 2025'},\n",
       "  'id': 'fc_0d49d25d-32d8-43ae-a73a-584a86f94383',\n",
       "  'type': 'tool_call'}]"
      ]
     },
     "execution_count": 15,
     "metadata": {},
     "output_type": "execute_result"
    }
   ],
   "source": [
    "llm_with_tools.invoke([HumanMessage(content=f\"what is the recent AI news\")]).tool_calls"
   ]
  },
  {
   "cell_type": "code",
   "execution_count": 16,
   "id": "c5c9cb1a",
   "metadata": {},
   "outputs": [],
   "source": [
    "### Entire chatbot with langgraph\n",
    "from IPython.display import Image, display\n",
    "from langgraph.graph import StateGraph, START,END\n",
    "from langgraph.prebuilt import ToolNode\n",
    "from langgraph.prebuilt import tools_condition"
   ]
  },
  {
   "cell_type": "code",
   "execution_count": 17,
   "id": "c1023279",
   "metadata": {},
   "outputs": [],
   "source": [
    "from typing_extensions import TypedDict\n",
    "from langchain_core.messages import AnyMessage\n",
    "from typing import Annotated\n",
    "from langgraph.graph.message import add_messages\n",
    "class State(TypedDict):\n",
    "    messages:Annotated[list[AnyMessage],add_messages]"
   ]
  },
  {
   "cell_type": "code",
   "execution_count": 18,
   "id": "4a1ec369",
   "metadata": {},
   "outputs": [],
   "source": [
    "### Node definition\n",
    "def tool_calling_llm(state:State):\n",
    "    return {\"messages\":[llm_with_tools.invoke(state[\"messages\"])]}"
   ]
  },
  {
   "cell_type": "code",
   "execution_count": 19,
   "id": "3f944874",
   "metadata": {},
   "outputs": [],
   "source": [
    "builder=StateGraph(State)\n",
    "builder.add_node(\"tool_calling_llm\",tool_calling_llm)\n",
    "builder.add_node(\"tools\",ToolNode(tools))\n",
    "builder.add_edge(START,\"tool_calling_llm\")\n",
    "\n",
    "builder.add_conditional_edges(\n",
    "    \"tool_calling_llm\",\n",
    "    tools_condition\n",
    ")\n",
    "builder.add_edge(\"tools\",END)\n",
    "graph=builder.compile()"
   ]
  },
  {
   "cell_type": "code",
   "execution_count": 20,
   "id": "af543c8a",
   "metadata": {},
   "outputs": [],
   "source": [
    "from pprint import pprint, PrettyPrinter"
   ]
  },
  {
   "cell_type": "code",
   "execution_count": 21,
   "id": "529e9af3",
   "metadata": {},
   "outputs": [
    {
     "name": "stdout",
     "output_type": "stream",
     "text": [
      "================================\u001b[1m Human Message \u001b[0m=================================\n",
      "\n",
      "what is attention is all you need\n",
      "==================================\u001b[1m Ai Message \u001b[0m==================================\n",
      "\n",
      "**“Attention Is All You Need”** is a landmark research paper published in 2017 by Vaswani et al. that introduced the *Transformer* architecture, which has since become the foundation of most state‑of‑the‑art models in natural language processing (NLP) and beyond.\n",
      "\n",
      "---\n",
      "\n",
      "## 1. Why the paper matters\n",
      "| Problem with previous seq‑to‑seq models | What the Transformer offers |\n",
      "|----------------------------------------|-----------------------------|\n",
      "| Recurrent layers (RNN/LSTM/GRU) must process tokens one by one, limiting parallelism and making training slow | Self‑attention lets every token attend to every other token *in parallel* |\n",
      "| RNNs struggle with long‑range dependencies and suffer from vanishing/exploding gradients | Multi‑head attention captures both local and global relationships directly |\n",
      "| Heavy reliance on hand‑crafted positional encodings or recurrence to encode order | Sinusoidal positional encodings (or learnable ones) give each token a unique position vector that can be added to the embeddings |\n",
      "| Training often required very large datasets and many GPU hours | The Transformer is computationally efficient, scales well, and converges faster |\n",
      "\n",
      "---\n",
      "\n",
      "## 2. Core ideas\n",
      "\n",
      "### 2.1 Self‑Attention\n",
      "- **Scaled Dot‑Product Attention**:  \n",
      "  \\[\n",
      "  \\text{Attention}(Q,K,V)=\\text{softmax}\\!\\left(\\frac{QK^\\top}{\\sqrt{d_k}}\\right)V\n",
      "  \\]\n",
      "  Where *Q*, *K*, *V* are query, key, and value matrices derived from the same input embeddings.\n",
      "- **Multi‑Head Attention**: Parallel attention layers (heads) with different linear projections allow the model to jointly attend to information from different representation subspaces.\n",
      "\n",
      "### 2.2 Encoder–Decoder Structure\n",
      "- **Encoder**: stack of identical layers, each with multi‑head self‑attention and a position‑wise feed‑forward network (FFN).\n",
      "- **Decoder**: similar stack, but the self‑attention is *masked* (preventing positions from attending to future positions) and has an additional cross‑attention layer that attends to the encoder outputs.\n",
      "\n",
      "### 2.3 Positional Encoding\n",
      "- Adds a deterministic sinusoidal signal to token embeddings:\n",
      "  \\[\n",
      "  PE_{(pos,2i)} = \\sin\\!\\left(\\frac{pos}{10000^{2i/d_{\\text{model}}}}\\right),\\quad\n",
      "  PE_{(pos,2i+1)} = \\cos\\!\\left(\\frac{pos}{10000^{2i/d_{\\text{model}}}}\\right)\n",
      "  \\]\n",
      "  This lets the model distinguish token order without recurrence.\n",
      "\n",
      "### 2.4 Feed‑Forward Networks\n",
      "- Two linear layers with a ReLU (or GELU) activation in between, applied identically to every position:\n",
      "  \\[\n",
      "  \\text{FFN}(x) = \\max(0, xW_1 + b_1)W_2 + b_2\n",
      "  \\]\n",
      "  Depth‑wise fully connected layers give each token a rich, non‑linear transformation.\n",
      "\n",
      "### 2.5 Training & Optimization\n",
      "- Uses *label smoothing*, *Adam* optimizer with a warmup schedule, and *dropout* for regularization.\n",
      "- The model is trained on large parallel corpora (e.g., WMT 2014 English‑German) with *byte‑pair encoding* (BPE) tokenization.\n",
      "\n",
      "---\n",
      "\n",
      "## 3. Results & Impact\n",
      "\n",
      "| Task | Baseline (RNN) | Transformer (paper) |\n",
      "|------|----------------|---------------------|\n",
      "| WMT14 En→De | 28.4 BLEU | **31.4 BLEU** |\n",
      "| WMT14 De→En | 27.4 BLEU | **30.6 BLEU** |\n",
      "| WMT14 En→Fr | 34.5 BLEU | **35.3 BLEU** |\n",
      "\n",
      "- **Speed**: Training 3–4× faster on GPUs due to parallelism.\n",
      "- **Scalability**: The architecture scales to hundreds of millions of parameters (e.g., BERT, GPT, T5) and billions of tokens.\n",
      "- **Versatility**: Beyond translation, it powers language modeling, summarization, question answering, vision‑language tasks, and even pure vision models (Vision Transformers).\n",
      "\n",
      "---\n",
      "\n",
      "## 4. Key Takeaways\n",
      "\n",
      "1. **Attention alone is sufficient**: By replacing recurrence with self‑attention, the Transformer can learn long‑range dependencies more effectively.\n",
      "2. **Parallelism is the secret sauce**: The entire sequence can be processed simultaneously, drastically reducing training time.\n",
      "3. **Modularity**: The encoder‑decoder blocks are reusable; you can stack more layers, increase hidden size, or mix with other modalities.\n",
      "4. **Foundational for modern AI**: The Transformer is the backbone of GPT‑3/4, BERT, RoBERTa, T5, CLIP, ViT, and many other state‑of‑the‑art models.\n",
      "\n",
      "---\n",
      "\n",
      "### Quick Glossary\n",
      "\n",
      "| Term | What it means |\n",
      "|------|---------------|\n",
      "| **Self‑attention** | Each token attends to all tokens in the same sequence. |\n",
      "| **Multi‑head attention** | Parallel attention mechanisms with different projections. |\n",
      "| **Encoder** | Processes source sequence → hidden representation. |\n",
      "| **Decoder** | Generates target sequence using encoder output + previous tokens. |\n",
      "| **Positional encoding** | Adds token‑order information. |\n",
      "| **Feed‑forward network** | Two‑layer MLP applied to each position independently. |\n",
      "| **BLEU** | Bilingual Evaluation Understudy – a metric for translation quality. |\n",
      "\n",
      "---\n",
      "\n",
      "**Bottom line:** *“Attention Is All You Need”* showed that a purely attention‑based architecture can outperform RNN‑based models while being far more efficient, and it sparked a revolution that reshaped how we build and train neural networks across AI.\n"
     ]
    }
   ],
   "source": [
    "messages=graph.invoke({\"messages\":HumanMessage(content=\"what is attention is all you need\")})\n",
    "for m in messages['messages']:\n",
    "    m.pretty_print()"
   ]
  },
  {
   "cell_type": "code",
   "execution_count": 22,
   "id": "aed8aab7",
   "metadata": {},
   "outputs": [
    {
     "name": "stdout",
     "output_type": "stream",
     "text": [
      "================================\u001b[1m Human Message \u001b[0m=================================\n",
      "\n",
      "1706.03762\n",
      "==================================\u001b[1m Ai Message \u001b[0m==================================\n",
      "Tool Calls:\n",
      "  arxiv (fc_db0b6e10-21f9-4592-86f2-1d55c74ab4fb)\n",
      " Call ID: fc_db0b6e10-21f9-4592-86f2-1d55c74ab4fb\n",
      "  Args:\n",
      "    query: 1706.03762\n",
      "=================================\u001b[1m Tool Message \u001b[0m=================================\n",
      "Name: arxiv\n",
      "\n",
      "Published: 2023-08-02\n",
      "Title: Attention Is All You Need\n",
      "Authors: Ashish Vaswani, Noam Shazeer, Niki Parmar, Jakob Uszkoreit, Llion Jones, Aidan N. Gomez, Lukasz Kaiser, Illia Polosukhin\n",
      "Summary: The dominant sequence transduction models are based on complex recurrent or\n",
      "convolutional neural networks in an encoder-decoder configuration. The best\n",
      "performing models also connect the encoder and decoder through an attention\n",
      "mechanism. We propose a new simple network architecture, the Transformer, base\n"
     ]
    }
   ],
   "source": [
    "messages=graph.invoke({\"messages\":HumanMessage(content=\"1706.03762\")})\n",
    "for m in messages['messages']:\n",
    "    m.pretty_print()"
   ]
  },
  {
   "cell_type": "code",
   "execution_count": 23,
   "id": "db26a677",
   "metadata": {},
   "outputs": [
    {
     "name": "stdout",
     "output_type": "stream",
     "text": [
      "================================\u001b[1m Human Message \u001b[0m=================================\n",
      "\n",
      "who is barrack obama\n",
      "==================================\u001b[1m Ai Message \u001b[0m==================================\n",
      "\n",
      "Barack Hussein Obama II (born August 4, 1961) is an American politician and attorney who served as the 44th President of the United States from 2009 to 2017. He was the first African‑American to hold the presidency. Prior to his presidency, Obama was a U.S. Senator from Illinois (2005–2008) and a state senator in Illinois (1997–2004). He is a graduate of Columbia University and Harvard Law School, where he was president of the *Harvard Law Review*. After leaving office, he has remained active in public life through the Obama Foundation, various speaking engagements, and the publication of his memoirs.\n"
     ]
    }
   ],
   "source": [
    "messages=graph.invoke({\"messages\":HumanMessage(content=\"who is barrack obama\")})\n",
    "for m in messages['messages']:\n",
    "    m.pretty_print()"
   ]
  },
  {
   "cell_type": "markdown",
   "id": "4abdd9a8",
   "metadata": {},
   "source": [
    "What is React\n",
    "It is a generatal Agent Architecture\n",
    "3 imp steps\n",
    "1. Act -> Model based on specific input calls specific tool\n",
    "2. Observe -> Once the tool execute and give the output. it does not end the conversation, instead it passes the tool's output back to the model. \n",
    "3. Reason -> After output is back to the model the model will again reason about the output from the tool. based on the output response from the tool the next step model will decide (Smart Agent)"
   ]
  },
  {
   "cell_type": "code",
   "execution_count": 24,
   "id": "d70ed78a",
   "metadata": {},
   "outputs": [],
   "source": [
    "os.environ[\"LANGSMITH_API_KEY\"]=os.getenv(\"LANGSMITH_API_KEY\")\n",
    "os.environ[\"LANGSMITH_TRACING_V2\"]=\"true\"\n",
    "os.environ[\"LANGCHAIN_PROJECT\"]=\"ReAct_Agent\""
   ]
  },
  {
   "cell_type": "code",
   "execution_count": 25,
   "id": "88f46107",
   "metadata": {},
   "outputs": [],
   "source": [
    "### Add custom functions\n",
    "def multiply(a:int, b: int) -> int:\n",
    "    \"\"\"Multiply a and b\n",
    "    Args:\n",
    "        a: first int\n",
    "        b: second int\n",
    "    \"\"\"\n",
    "    return a*b\n",
    "def add(a: int, b:int )-> int:\n",
    "    \"\"\" Adds a and b\n",
    "        a: first int\n",
    "        b: second int\n",
    "    \"\"\"\n",
    "    return a+b\n",
    "def divide(a: int, b:int )-> int:\n",
    "    \"\"\" divide a by b\n",
    "        a: first int\n",
    "        b: second int\n",
    "    \"\"\"\n",
    "    return a/b\n",
    "tools_all= [arxiv,wiki,tavily, add,multiply,divide]"
   ]
  },
  {
   "cell_type": "code",
   "execution_count": 26,
   "id": "59ae3f94",
   "metadata": {},
   "outputs": [],
   "source": [
    "### intialize my llm model\n",
    "from langchain_groq import ChatGroq\n",
    "llm_new=ChatGroq(model=\"openai/gpt-oss-20b\")\n",
    "### bind llm with tools (list of tools)\n",
    "llm_with_all_tools=llm_new.bind_tools(tools_all)"
   ]
  },
  {
   "cell_type": "code",
   "execution_count": 27,
   "id": "08d88368",
   "metadata": {},
   "outputs": [],
   "source": [
    "### Node definition\n",
    "def tool_calling_llm_all(state:State):\n",
    "    return {\"messages\":[llm_with_all_tools.invoke(state[\"messages\"])]}"
   ]
  },
  {
   "cell_type": "code",
   "execution_count": 28,
   "id": "965da7fd",
   "metadata": {},
   "outputs": [],
   "source": [
    "from typing_extensions import TypedDict\n",
    "from langchain_core.messages import AnyMessage\n",
    "from typing import Annotated\n",
    "from langgraph.graph.message import add_messages\n",
    "class State(TypedDict):\n",
    "    messages:Annotated[list[AnyMessage],add_messages]"
   ]
  },
  {
   "cell_type": "code",
   "execution_count": 29,
   "id": "643963a4",
   "metadata": {},
   "outputs": [],
   "source": [
    "builder_new=StateGraph(State)\n",
    "builder_new.add_node(\"tool_calling_llm_new\",tool_calling_llm_all)\n",
    "builder_new.add_node(\"tools\",ToolNode(tools_all))\n",
    "builder_new.add_edge(START,\"tool_calling_llm_new\")\n",
    "\n",
    "builder_new.add_conditional_edges(\n",
    "    \"tool_calling_llm_new\",\n",
    "    tools_condition\n",
    ")\n",
    "builder_new.add_edge(\"tools\",\"tool_calling_llm_new\")\n",
    "graph_new=builder_new.compile()"
   ]
  },
  {
   "cell_type": "code",
   "execution_count": 30,
   "id": "496b08b5",
   "metadata": {},
   "outputs": [
    {
     "data": {
      "image/png": "[encoded data removed]",
      "text/plain": [
       "<IPython.core.display.Image object>"
      ]
     },
     "metadata": {},
     "output_type": "display_data"
    }
   ],
   "source": [
    "display(Image(graph_new.get_graph().draw_mermaid_png()))"
   ]
  },
  {
   "cell_type": "code",
   "execution_count": 31,
   "id": "a9fbae53",
   "metadata": {},
   "outputs": [
    {
     "name": "stdout",
     "output_type": "stream",
     "text": [
      "================================\u001b[1m Human Message \u001b[0m=================================\n",
      "\n",
      "what is attention is all you need\n",
      "==================================\u001b[1m Ai Message \u001b[0m==================================\n",
      "Tool Calls:\n",
      "  arxiv (fc_da5ded48-91cd-42e9-ada6-2f5f42dcb496)\n",
      " Call ID: fc_da5ded48-91cd-42e9-ada6-2f5f42dcb496\n",
      "  Args:\n",
      "    query: Attention Is All You Need arXiv\n",
      "=================================\u001b[1m Tool Message \u001b[0m=================================\n",
      "Name: arxiv\n",
      "\n",
      "Published: 2022-07-05\n",
      "Title: Betti numbers of attention graphs is all you really need\n",
      "Authors: Laida Kushnareva, Dmitri Piontkovski, Irina Piontkovskaya\n",
      "Summary: We apply methods of topological analysis to the attention graphs, calculated\n",
      "on the attention heads of the BERT model ( arXiv:1810.04805v2 ). Our research\n",
      "shows that the classifier built upon basic persistent topological features\n",
      "(namely, Betti numbers) of the trained neural network can achieve\n",
      "classification results on par with the con\n",
      "==================================\u001b[1m Ai Message \u001b[0m==================================\n",
      "\n",
      "**“Attention Is All You Need”**  \n",
      "*Vaswani, A., Shazeer, N., Parmar, N., et al. 2017 – *NeurIPS* (arXiv:1706.03762)*  \n",
      "\n",
      "---\n",
      "\n",
      "### 1. What the paper introduced\n",
      "The paper proposed the **Transformer** architecture, a neural network that relies **exclusively on self‑attention mechanisms** (no recurrent or convolutional layers) to process sequential data. It was originally evaluated on English‑German machine‑translation and quickly became the foundation for virtually all modern NLP models (BERT, GPT‑3/4, T5, etc.).\n",
      "\n",
      "---\n",
      "\n",
      "### 2. Core ideas\n",
      "\n",
      "| Component | Description | Why it matters |\n",
      "|-----------|-------------|----------------|\n",
      "| **Scaled Dot‑Product Attention** | Computes attention weights via dot product of query (Q) and key (K) vectors, scales by \\(\\sqrt{d_k}\\), then applies softmax. The result is multiplied by the value (V) vectors. | Enables the model to weigh different parts of the input when forming each output token, capturing long‑range dependencies. |\n",
      "| **Multi‑Head Attention** | Parallel attention layers (heads) each learn different representation subspaces; outputs concatenated and linearly projected. | Allows the model to jointly attend to information from different representation sub‑spaces at different positions. |\n",
      "| **Positional Encoding** | Adds sinusoidal position information to token embeddings (or learned embeddings). | Provides the model with a sense of token order, necessary because self‑attention is permutation‑invariant. |\n",
      "| **Encoder–Decoder Structure** | Stacked encoder layers (self‑attention + feed‑forward) feed into decoder layers (masked self‑attention + encoder‑decoder attention + feed‑forward). | Mirrors the sequence‑to‑sequence paradigm but replaces RNNs/conv nets with attention. |\n",
      "| **Layer Normalization & Residual Connections** | Each sub‑layer is wrapped with residual connection and layer norm. | Stabilizes training and allows deeper models. |\n",
      "| **Position‑wise Feed‑Forward Networks** | Two linear layers with ReLU in between applied to each position independently. | Adds non‑linearity and capacity beyond attention alone. |\n",
      "\n",
      "---\n",
      "\n",
      "### 3. Training & Results\n",
      "\n",
      "| Task | Dataset | BLEU Score (Transformer) | BLEU Score (Recurrent Baseline) |\n",
      "|------|---------|--------------------------|---------------------------------|\n",
      "| English‑German MT | WMT 2014 | **28.4** | 26.4 (LSTM) |\n",
      "| English‑French MT | WMT 2014 | 41.8 | 40.4 (LSTM) |\n",
      "\n",
      "*The Transformer achieved state‑of‑the‑art BLEU scores while being **4× faster** to train and **10× faster** to decode than comparable RNN models.*\n",
      "\n",
      "---\n",
      "\n",
      "### 4. Why it was revolutionary\n",
      "\n",
      "1. **Parallelizable** – Self‑attention can be computed for all positions simultaneously, unlike RNNs that process sequentially.\n",
      "2. **Long‑range dependencies** – Attention directly connects any two positions; distance is irrelevant.\n",
      "3. **Scalability** – The same architecture scales from small models (BERT‑Base) to huge ones (GPT‑3, 175 B parameters) with minimal architectural changes.\n",
      "4. **Modularity** – The same building blocks (attention, feed‑forward, positional encoding) are reused across tasks: translation, language modeling, summarization, vision, etc.\n",
      "\n",
      "---\n",
      "\n",
      "### 5. Impact & Evolution\n",
      "\n",
      "| Model | Year | Key Extension |\n",
      "|-------|------|---------------|\n",
      "| BERT | 2018 | Masked LM + Next‑Sentence Prediction |\n",
      "| GPT‑2/3 | 2019/2020 | Unidirectional language modeling, massive scale |\n",
      "| T5 | 2020 | Text‑to‑text framework, “span corruption” pre‑training |\n",
      "| Vision Transformer (ViT) | 2020 | Applies Transformer to image patches |\n",
      "| XLNet, RoBERTa, ALBERT, etc. | 2019–2021 | Various optimizations, pre‑training tricks |\n",
      "\n",
      "---\n",
      "\n",
      "### 6. Take‑away\n",
      "\n",
      "“Attention Is All You Need” showed that a **pure attention‑based architecture** can outperform the best recurrent/conv‑based models on translation and other sequence tasks, while offering far superior parallelism and scalability. The Transformer has become the de‑facto standard for almost all modern deep learning models dealing with sequences, and its principles continue to guide new research across NLP, computer vision, and multimodal domains.\n"
     ]
    }
   ],
   "source": [
    "from langchain.schema import HumanMessage\n",
    "\n",
    "result = graph_new.invoke({\n",
    "    \"messages\": [HumanMessage(content=\"what is attention is all you need\")]\n",
    "})\n",
    "\n",
    "for m in result[\"messages\"]:\n",
    "    m.pretty_print()"
   ]
  },
  {
   "cell_type": "code",
   "execution_count": 32,
   "id": "cfea19c7",
   "metadata": {},
   "outputs": [
    {
     "name": "stdout",
     "output_type": "stream",
     "text": [
      "================================\u001b[1m Human Message \u001b[0m=================================\n",
      "\n",
      "1706.03762\n",
      "==================================\u001b[1m Ai Message \u001b[0m==================================\n",
      "Tool Calls:\n",
      "  arxiv (fc_8942045e-1974-43a8-b17e-7a1dca44c4e5)\n",
      " Call ID: fc_8942045e-1974-43a8-b17e-7a1dca44c4e5\n",
      "  Args:\n",
      "    query: 1706.03762\n",
      "=================================\u001b[1m Tool Message \u001b[0m=================================\n",
      "Name: arxiv\n",
      "\n",
      "Published: 2023-08-02\n",
      "Title: Attention Is All You Need\n",
      "Authors: Ashish Vaswani, Noam Shazeer, Niki Parmar, Jakob Uszkoreit, Llion Jones, Aidan N. Gomez, Lukasz Kaiser, Illia Polosukhin\n",
      "Summary: The dominant sequence transduction models are based on complex recurrent or\n",
      "convolutional neural networks in an encoder-decoder configuration. The best\n",
      "performing models also connect the encoder and decoder through an attention\n",
      "mechanism. We propose a new simple network architecture, the Transformer, base\n",
      "==================================\u001b[1m Ai Message \u001b[0m==================================\n",
      "\n",
      "**1706.03762 – “Attention Is All You Need”**  \n",
      "*Authors:* Ashish Vaswani, Noam Shazeer, Niki Parmar, Jakob Uszkoreit, Llion Jones, Aidan N. Gomez, Lukasz Kaiser, Illia Polosukhin  \n",
      "*Published:* 2017 (arXiv:1706.03762)\n",
      "\n",
      "### Core Idea\n",
      "The paper introduces the **Transformer**, a neural network architecture that relies **entirely on self‑attention mechanisms** and eschews recurrence and convolution. This design allows the model to process sequences in parallel, dramatically speeding up training and inference.\n",
      "\n",
      "### Key Contributions\n",
      "| Feature | Description |\n",
      "|---------|-------------|\n",
      "| **Scaled Dot‑Product Attention** | Computes attention weights efficiently, scaling the dot products by \\(1/\\sqrt{d_k}\\) to keep gradients stable. |\n",
      "| **Multi‑Head Attention** | Parallel attention heads capture information from different representation subspaces. |\n",
      "| **Positional Encoding** | Adds deterministic positional information (sinusoidal or learned) to the token embeddings, compensating for the lack of recurrence. |\n",
      "| **Layer Normalization & Residual Connections** | Stabilize training and enable deeper models. |\n",
      "| **Encoder–Decoder Architecture** | The encoder produces contextualized representations; the decoder attends to encoder outputs while also attending to its own past outputs. |\n",
      "| **Feed‑Forward Networks** | Position‑wise MLPs applied identically to each token. |\n",
      "\n",
      "### Results\n",
      "- **Machine Translation (WMT 2014 English‑German/English‑French)**: Achieved state‑of‑the‑art BLEU scores with **≈30% less training time** than the best RNN/LSTM baselines.\n",
      "- **Scalability**: The Transformer scales linearly with sequence length, enabling efficient parallelism on GPUs/TPUs.\n",
      "- **Versatility**: The architecture has become the foundation for subsequent models such as BERT, GPT, and many others across NLP, vision, and multimodal tasks.\n",
      "\n",
      "### Impact\n",
      "The Transformer has fundamentally shifted the field of sequence modeling:\n",
      "- **Standardized architecture** for many downstream tasks (text, speech, image).\n",
      "- **Pre‑trained language models** (BERT, RoBERTa, GPT‑n) are all Transformer‑based.\n",
      "- **Cross‑domain adoption**: Vision Transformers (ViT), audio models, and even protein folding (AlphaFold) use variants of the Transformer.\n",
      "\n",
      "---\n",
      "\n",
      "**Bottom line:**  \n",
      "\"Attention Is All You Need\" presents a lightweight, highly parallelizable neural architecture that replaces recurrence with self‑attention, achieving superior performance on sequence‑to‑sequence tasks and sparking a wave of Transformer‑based models across machine learning.\n"
     ]
    }
   ],
   "source": [
    "messages=graph_new.invoke({\"messages\":HumanMessage(content=\"1706.03762\")})\n",
    "for m in messages['messages']:\n",
    "    m.pretty_print()"
   ]
  },
  {
   "cell_type": "code",
   "execution_count": 33,
   "id": "490ae253",
   "metadata": {},
   "outputs": [
    {
     "name": "stdout",
     "output_type": "stream",
     "text": [
      "================================\u001b[1m Human Message \u001b[0m=================================\n",
      "\n",
      "who is barrack obama\n",
      "==================================\u001b[1m Ai Message \u001b[0m==================================\n",
      "\n",
      "Barack Obama (born August 4, 1961) is an American politician and attorney who served as the 44th President of the United States from 2009 to 2017. He was the first African‑American to hold the office. Prior to his presidency, Obama was a U.S. Senator from Illinois (2005–2008) and a state senator in Illinois (1997–2004). He is known for major domestic initiatives such as the Affordable Care Act, the Dodd‑Frank Wall Street Reform Act, and the repeal of “Don’t‑Ask, Don’t‑Tell.” Obama has also been active in public life since leaving office, writing books, engaging in public speaking, and founding the Obama Foundation.\n"
     ]
    }
   ],
   "source": [
    "messages=graph_new.invoke({\"messages\":HumanMessage(content=\"who is barrack obama\")})\n",
    "for m in messages['messages']:\n",
    "    m.pretty_print()"
   ]
  },
  {
   "cell_type": "code",
   "execution_count": 34,
   "id": "8c88228f",
   "metadata": {},
   "outputs": [
    {
     "name": "stdout",
     "output_type": "stream",
     "text": [
      "================================\u001b[1m Human Message \u001b[0m=================================\n",
      "\n",
      "first add two numbers 3 and 4 then multiply by 5 then divide by 10\n",
      "==================================\u001b[1m Ai Message \u001b[0m==================================\n",
      "Tool Calls:\n",
      "  add (fc_69cdcdfe-3b22-4140-8f1f-3ae5e68470ed)\n",
      " Call ID: fc_69cdcdfe-3b22-4140-8f1f-3ae5e68470ed\n",
      "  Args:\n",
      "    a: 3\n",
      "    b: 4\n",
      "=================================\u001b[1m Tool Message \u001b[0m=================================\n",
      "Name: add\n",
      "\n",
      "7\n",
      "==================================\u001b[1m Ai Message \u001b[0m==================================\n",
      "\n",
      "First, add 3 and 4:  \n",
      "\\(3 + 4 = 7\\)\n",
      "\n",
      "Next, multiply the result by 5:  \n",
      "\\(7 \\times 5 = 35\\)\n",
      "\n",
      "Finally, divide by 10:  \n",
      "\\(35 \\div 10 = 3.5\\)\n",
      "\n",
      "**Result: 3.5**\n"
     ]
    }
   ],
   "source": [
    "messages=graph_new.invoke({\"messages\":HumanMessage(content=\"first add two numbers 3 and 4 then multiply by 5 then divide by 10\")})\n",
    "for m in messages['messages']:\n",
    "    m.pretty_print()"
   ]
  },
  {
   "cell_type": "markdown",
   "id": "d4ba6469",
   "metadata": {},
   "source": [
    "### MemorySaver in langgraph"
   ]
  },
  {
   "cell_type": "markdown",
   "id": "bc374b75",
   "metadata": {},
   "source": [
    "Langgraph can use a checkpointer to automatically save the graph state after each step.\n",
    "\n",
    "This built-in persistance layer gives us memory, allowing LangGraph to pick up from the last state update.\n",
    "\n",
    "One of the easisest checkpointers to use is MemorySaver ias in-memory key value store for the graph state.\n",
    "\n",
    "All we need to do is simply compile the graph with a checkpointer and our graph has memory"
   ]
  },
  {
   "attachments": {
    "Screenshot from 2025-10-16 23-39-40.png": {
     "image/png": "[encoded data removed]"
    }
   },
   "cell_type": "markdown",
   "id": "5507ff31",
   "metadata": {},
   "source": [
    "![Screenshot from 2025-10-16 23-39-40.png](<attachment:Screenshot from 2025-10-16 23-39-40.png>)"
   ]
  },
  {
   "cell_type": "code",
   "execution_count": 35,
   "id": "8f7cb2ae",
   "metadata": {},
   "outputs": [],
   "source": [
    "### Specify the Thread (bottom top approach)"
   ]
  },
  {
   "cell_type": "code",
   "execution_count": 36,
   "id": "d71f7cd9",
   "metadata": {},
   "outputs": [],
   "source": [
    "from typing_extensions import TypedDict\n",
    "from langchain_core.messages import AnyMessage\n",
    "from typing import Annotated\n",
    "from langgraph.graph.message import add_messages\n",
    "class State(TypedDict):\n",
    "    messages:Annotated[list[AnyMessage],add_messages]"
   ]
  },
  {
   "cell_type": "code",
   "execution_count": null,
   "id": "1955431e",
   "metadata": {},
   "outputs": [],
   "source": [
    "builder_new=StateGraph(State)\n",
    "builder_new.add_node(\"tool_calling_llm_new\",tool_calling_llm_all)\n",
    "builder_new.add_node(\"tools\",ToolNode(tools_all))\n",
    "builder_new.add_edge(START,\"tool_calling_llm_new\")\n",
    "\n",
    "builder_new.add_conditional_edges(\n",
    "    \"tool_calling_llm_new\",\n",
    "    tools_condition\n",
    ")\n",
    "builder_new.add_edge(\"tools\",\"tool_calling_llm_new\")\n"
   ]
  },
  {
   "cell_type": "code",
   "execution_count": 38,
   "id": "a146af99",
   "metadata": {},
   "outputs": [
    {
     "data": {
      "image/png": "[encoded data removed]",
      "text/plain": [
       "<IPython.core.display.Image object>"
      ]
     },
     "metadata": {},
     "output_type": "display_data"
    }
   ],
   "source": [
    "from langgraph.checkpoint.memory import MemorySaver\n",
    "memory=MemorySaver()\n",
    "## intialize graph with memory\n",
    "graph_with_memory=builder_new.compile(checkpointer=memory) \n",
    "display(Image(graph_with_memory.get_graph().draw_mermaid_png()))"
   ]
  },
  {
   "cell_type": "code",
   "execution_count": 39,
   "id": "26805c15",
   "metadata": {},
   "outputs": [
    {
     "name": "stdout",
     "output_type": "stream",
     "text": [
      "================================\u001b[1m Human Message \u001b[0m=================================\n",
      "\n",
      "Add 12 and 13\n",
      "==================================\u001b[1m Ai Message \u001b[0m==================================\n",
      "Tool Calls:\n",
      "  add (fc_014dbb3e-b12b-472e-8b0c-fdeb5a13297c)\n",
      " Call ID: fc_014dbb3e-b12b-472e-8b0c-fdeb5a13297c\n",
      "  Args:\n",
      "    a: 12\n",
      "    b: 13\n",
      "=================================\u001b[1m Tool Message \u001b[0m=================================\n",
      "Name: add\n",
      "\n",
      "25\n",
      "==================================\u001b[1m Ai Message \u001b[0m==================================\n",
      "\n",
      "25\n"
     ]
    }
   ],
   "source": [
    "### how to exeucte with memory\n",
    "## specify a thread\n",
    "## Thread id is unique (we can make per user unique thread id)\n",
    "config={\"configurable\":{\"thread_id\":\"1\"}}\n",
    "messages=[HumanMessage(content=\"Add 12 and 13\")]\n",
    "messages=graph_with_memory.invoke({\"messages\":messages},config=config)\n",
    "for m in messages['messages']:\n",
    "    m.pretty_print()"
   ]
  },
  {
   "cell_type": "code",
   "execution_count": 40,
   "id": "08dc37a3",
   "metadata": {},
   "outputs": [
    {
     "name": "stdout",
     "output_type": "stream",
     "text": [
      "================================\u001b[1m Human Message \u001b[0m=================================\n",
      "\n",
      "Add 12 and 13\n",
      "==================================\u001b[1m Ai Message \u001b[0m==================================\n",
      "Tool Calls:\n",
      "  add (fc_014dbb3e-b12b-472e-8b0c-fdeb5a13297c)\n",
      " Call ID: fc_014dbb3e-b12b-472e-8b0c-fdeb5a13297c\n",
      "  Args:\n",
      "    a: 12\n",
      "    b: 13\n",
      "=================================\u001b[1m Tool Message \u001b[0m=================================\n",
      "Name: add\n",
      "\n",
      "25\n",
      "==================================\u001b[1m Ai Message \u001b[0m==================================\n",
      "\n",
      "25\n",
      "================================\u001b[1m Human Message \u001b[0m=================================\n",
      "\n",
      "Add that number to 25\n",
      "==================================\u001b[1m Ai Message \u001b[0m==================================\n",
      "Tool Calls:\n",
      "  add (fc_0ac5e865-993f-45a5-9242-7aa779886193)\n",
      " Call ID: fc_0ac5e865-993f-45a5-9242-7aa779886193\n",
      "  Args:\n",
      "    a: 25\n",
      "    b: 25\n",
      "=================================\u001b[1m Tool Message \u001b[0m=================================\n",
      "Name: add\n",
      "\n",
      "50\n",
      "==================================\u001b[1m Ai Message \u001b[0m==================================\n",
      "\n",
      "50\n"
     ]
    }
   ],
   "source": [
    "### above response is saved into the memory with specific to thread_id\n",
    "## use same config and ask anothe message\n",
    "messages=[HumanMessage(content=\"Add that number to 25\")]\n",
    "messages=graph_with_memory.invoke({\"messages\":messages},config=config)\n",
    "for m in messages['messages']:\n",
    "    m.pretty_print()"
   ]
  },
  {
   "cell_type": "code",
   "execution_count": 42,
   "id": "2630a265",
   "metadata": {},
   "outputs": [
    {
     "name": "stdout",
     "output_type": "stream",
     "text": [
      "================================\u001b[1m Human Message \u001b[0m=================================\n",
      "\n",
      "Add 12 and 13\n",
      "==================================\u001b[1m Ai Message \u001b[0m==================================\n",
      "Tool Calls:\n",
      "  add (fc_014dbb3e-b12b-472e-8b0c-fdeb5a13297c)\n",
      " Call ID: fc_014dbb3e-b12b-472e-8b0c-fdeb5a13297c\n",
      "  Args:\n",
      "    a: 12\n",
      "    b: 13\n",
      "=================================\u001b[1m Tool Message \u001b[0m=================================\n",
      "Name: add\n",
      "\n",
      "25\n",
      "==================================\u001b[1m Ai Message \u001b[0m==================================\n",
      "\n",
      "25\n",
      "================================\u001b[1m Human Message \u001b[0m=================================\n",
      "\n",
      "Add that number to 25\n",
      "==================================\u001b[1m Ai Message \u001b[0m==================================\n",
      "Tool Calls:\n",
      "  add (fc_0ac5e865-993f-45a5-9242-7aa779886193)\n",
      " Call ID: fc_0ac5e865-993f-45a5-9242-7aa779886193\n",
      "  Args:\n",
      "    a: 25\n",
      "    b: 25\n",
      "=================================\u001b[1m Tool Message \u001b[0m=================================\n",
      "Name: add\n",
      "\n",
      "50\n",
      "==================================\u001b[1m Ai Message \u001b[0m==================================\n",
      "\n",
      "50\n",
      "================================\u001b[1m Human Message \u001b[0m=================================\n",
      "\n",
      "then multiply that number by 2, and use let me know the current temperature of capital city of france\n",
      "==================================\u001b[1m Ai Message \u001b[0m==================================\n",
      "Tool Calls:\n",
      "  tavily_search_results_json (fc_4209d805-1a20-45a4-b36f-0e0fda251242)\n",
      " Call ID: fc_4209d805-1a20-45a4-b36f-0e0fda251242\n",
      "  Args:\n",
      "    query: current temperature in Paris\n",
      "=================================\u001b[1m Tool Message \u001b[0m=================================\n",
      "Name: tavily_search_results_json\n",
      "\n",
      "[{\"title\": \"Paris weather in October 2025 - Weather25.com\", \"url\": \"https://www.weather25.com/europe/france/ile-de-france/paris?page=month&month=October\", \"content\": \"| 26  12° /9° | 27  11° /7° | 28  11° /8° | 29  12° /7° | 30  12° /8° | 31  16° /11° | [...] | Month | Temperatures | Rainy Days | Dry Days | Snowy Days | Rainfall | Weather | More details |\\n ---  ---  ---  --- |\\n| January | 7° / 2° | 7 | 21 | 4 | 51 mm | Awful | Paris in January |\\n| February | 8° / 3° | 6 | 19 | 3 | 48 mm | Bad | Paris in February |\\n| March | 12° / 5° | 5 | 25 | 1 | 43 mm | Ok | Paris in March |\\n| April | 16° / 7° | 4 | 26 | 0 | 47 mm | Good | Paris in April |\\n| May | 19° / 10° | 6 | 25 | 0 | 88 mm | Good | Paris in May | [...] Oct 24\\n\\n0 mm\\n\\n14° / 9°Saturday\\n\\nOct 25\\n\\n0.5 mm\\n\\n14° / 11°Sunday\\n\\nOct 26\\n\\n0.8 mm\\n\\n12° / 9°Monday\\n\\nOct 27\\n\\n0 mm\\n\\n11° / 7°Tuesday\\n\\nOct 28\\n\\n3.3 mm\\n\\n11° / 8°Wednesday\\n\\nOct 29\\n\\n0 mm\\n\\n12° / 7°Thursday\\n\\nOct 30\\n\\n0 mm\\n\\n12° / 8° NextMonth >>\\n\\n## The average weather in Paris in October\\n\\nThe temperatures in Paris in October are usually low and can range between 10°C and 17°C.\", \"score\": 0.59033114}, {\"title\": \"October 2025 Daily Weather Forecast for 75839 CEDEX 17 (Paris ...\", \"url\": \"https://www.weathertab.com/en/d/o/10/republic-of-france/ile-de-france/75839-cedex-17-paris-17/\", \"content\": \"| 29  Wed | 53% | 54 to 64 °F 40 to 50 °F 10 to 20 °C 2 to 12 °C | Sunrise  8:06AM  Sunset  7:06PM | Waning Gibbous |\\n| 30  Thu | 56% | 52 to 62 °F 40 to 50 °F 8 to 18 °C 2 to 12 °C | Sunrise  8:08AM  Sunset  7:04PM | Last Quarter |\\n| 31  Fri | 39% | 51 to 61 °F 38 to 48 °F 8 to 18 °C 1 to 11 °C | Sunrise  8:09AM  Sunset  7:02PM | Waning Crescent | [...] | 25  Sat | 57% | 54 to 64 °F 41 to 51 °F 10 to 20 °C 2 to 12 °C | Sunrise  8:00AM  Sunset  7:14PM | Waning Gibbous |\\n| 26  Sun | 60% | 54 to 64 °F 42 to 52 °F 10 to 20 °C 3 to 13 °C | Sunrise  8:02AM  Sunset  7:12PM | Waning Gibbous |\\n| 27  Mon | 58% | 53 to 63 °F 41 to 51 °F 9 to 19 °C 2 to 12 °C | Sunrise  8:03AM  Sunset  7:10PM | Waning Gibbous |\\n| 28  Tue | 51% | 54 to 64 °F 41 to 51 °F 10 to 20 °C 2 to 12 °C | Sunrise  8:05AM  Sunset  7:08PM | Waning Gibbous | [...] |  |  |  |  |  |\\n ---  --- \\n| 18  Sat | 57% | 56 to 66 °F 43 to 53 °F 11 to 21 °C 3 to 13 °C | Sunrise  7:50AM  Sunset  7:29PM | Waxing Gibbous |\\n| 19  Sun | 70% | 56 to 66 °F 43 to 53 °F 11 to 21 °C 3 to 13 °C | Sunrise  7:51AM  Sunset  7:27PM | Waxing Gibbous |\\n| 20  Mon | 59% | 54 to 64 °F 41 to 51 °F 10 to 20 °C 2 to 12 °C | Sunrise  7:53AM  Sunset  7:25PM | Waxing Gibbous |\", \"score\": 0.559411}, {\"title\": \"10-Day Weather Forecast for Paris, France\", \"url\": \"https://weather.com/weather/tenday/l/1a8af5b9d8971c46dd5a52547f9221e22cd895d8d8639267a87df614d0912830\", \"content\": \"## Night\\n\\nMostly cloudy skies. Low 54F. Winds SW at 5 to 10 mph.\\n\\n## Wed 22\\n\\n## Day\\n\\nConsiderable cloudiness with occasional rain showers. High around 60F. Winds SSW at 5 to 10 mph. Chance of rain 50%.\\n\\n## Night\\n\\nCloudy with showers. Low 58F. Winds SSW at 10 to 15 mph. Chance of rain 60%.\\n\\n## Thu 23\\n\\n## Day\\n\\nShowers early becoming less numerous later in the day. High 63F. Winds SW at 10 to 20 mph. Chance of rain 60%.\\n\\n## Night [...] Showers in the morning with some clearing in the afternoon. High 54F. Winds WSW at 10 to 15 mph. Chance of rain 40%.\\n\\n## Night\\n\\nMostly cloudy skies with a few showers late. Low 47F. Winds WSW at 5 to 10 mph. Chance of rain 30%.\\n\\n## Fri 31\\n\\n## Day\\n\\nA few showers early with mostly cloudy conditions later in the day. High around 55F. Winds SSW at 5 to 10 mph. Chance of rain 30%.\\n\\n## Night\\n\\nCloudy with occasional rain showers. Low 48F. Winds SSW at 5 to 10 mph. Chance of rain 50%.\\n\\n## Latest News [...] Rain. Low 58F. Winds S at 10 to 20 mph. Chance of rain 80%. Rainfall near a quarter of an inch.\\n\\n## Mon 20\\n\\n## Day\\n\\nConsiderable cloudiness with occasional rain showers. High 63F. Winds SSW at 10 to 20 mph. Chance of rain 50%.\\n\\n## Night\\n\\nConsiderable cloudiness with occasional rain showers. Low 56F. Winds SW at 10 to 20 mph. Chance of rain 40%.\\n\\n## Tue 21\\n\\n## Day\\n\\nA few showers early with mostly cloudy conditions later in the day. High 61F. Winds SW at 10 to 15 mph. Chance of rain 40%.\", \"score\": 0.53925073}, {\"title\": \"Paris - BBC Weather\", \"url\": \"https://www.bbc.com/weather/2988507\", \"content\": \"## Accessibility links\\n\\n## Search for a location\\n\\n# Paris - Weather warnings issued\\n\\n## Forecast - Paris\\n\\n### Day by day forecast\\n\\n### Environmental Summary\\n\\n### Sunrise Sunset\\n\\n### Sunrise Sunset\\n\\n### Sunrise Sunset\\n\\n### Sunrise Sunset\\n\\n### Sunrise Sunset\\n\\n### Sunrise Sunset\\n\\n### Sunrise Sunset\\n\\n### Sunrise Sunset\\n\\n### Sunrise Sunset\\n\\n### Sunrise Sunset\\n\\n### Sunrise Sunset\\n\\n### Sunrise Sunset\\n\\n### Sunrise Sunset\\n\\n### Sunrise Sunset\\n\\n### Hour by hour forecast\\n\\n### Environmental Summary [...] Observed at 14:00,\\n\\nFriday 17 October\\n\\n## Settings\\n\\n## More Weather\\n\\n### UK\\n\\n### About BBC Weather\\n\\n### Elsewhere\\n\\nBBC Weather in association with MeteoGroup, external\\n\\nAll times are Central European Summer Time (Europe/Paris, GMT+2) unless otherwise stated.\\n\\n## Explore the BBC [...] ### Sunrise Sunset\\n\\n### Sunrise Sunset\\n\\n### Sunrise Sunset\\n\\n### Sunrise Sunset\\n\\n### Sunrise Sunset\\n\\n### Sunrise Sunset\\n\\n### Sunrise Sunset\\n\\n### Sunrise Sunset\\n\\n### Sunrise Sunset\\n\\n### Sunrise Sunset\\n\\n### Sunrise Sunset\\n\\n### Sunrise Sunset\\n\\n### Sunrise Sunset\\n\\n### Sunrise Sunset\\n\\n## Outlook forecast map\\n\\n## Forecast for Europe\\n\\n### Latest forecast for Europe\\n\\n## To play this video you need to enable JavaScript in your browser.\\n\\nThis video can not be played\\n\\n## Observations - Paris-Montsouris\", \"score\": 0.18804085}, {\"title\": \"2025 - Paris, Ville de Paris, France Monthly Weather | AccuWeather\", \"url\": \"https://www.accuweather.com/en/fr/paris/75243/october-weather/179349_pc\", \"content\": \"Get the monthly weather forecast for Paris, Ville de Paris, France, including daily high/low, historical averages, to help you plan ahead.\", \"score\": 0.18185851}]\n",
      "==================================\u001b[1m Ai Message \u001b[0m==================================\n",
      "Tool Calls:\n",
      "  tavily_search_results_json (fc_c5bd76b3-1a2f-4755-b934-41f990cae852)\n",
      " Call ID: fc_c5bd76b3-1a2f-4755-b934-41f990cae852\n",
      "  Args:\n",
      "    query: current temperature Paris 2025-10-18\n",
      "=================================\u001b[1m Tool Message \u001b[0m=================================\n",
      "Name: tavily_search_results_json\n",
      "\n",
      "[{\"title\": \"Weather in Paris in October 2025 (Île-de-France)\", \"url\": \"https://world-weather.info/forecast/france/paris/october-2025/\", \"content\": \"day\\n:   +108°F\\n\\nnight\\n:   +82°F\\n\\nTemperature units\\n\\n°F°C [...] +54°\\n\\n  +52°\\n\\n  10.3 mph SW 29.8 inHg83 %08:26 am06:42 pm\\n 26\\n\\n  +55°\\n\\n  +46°\\n\\n  6.9 mph W 30 inHg82 %07:28 am05:40 pm\\n 27\\n\\n  +48°\\n\\n  +46°\\n\\n  8.9 mph SW 30 inHg63 %07:30 am05:38 pm\\n 28\\n\\n  +50°\\n\\n  +45°\\n\\n  8.9 mph NW 30.4 inHg34 %07:31 am05:37 pm\\n 29\\n\\n  +55°\\n\\n  +46°\\n\\n  10.1 mph NW 30.4 inHg31 %07:33 am05:35 pm\\n 30\\n\\n  +59°\\n\\n  +57°\\n\\n  13.9 mph SW 30.5 inHg95 %07:34 am05:33 pm\\n 31\\n\\n  +57°\\n\\n  +55°\\n\\n  9.4 mph W 30.3 inHg69 %07:36 am05:32 pm\\n\\n## Extended weather forecast in Paris [...] +57°\\n\\n  5.4 mph N 30.3 inHg81 %08:03 am07:11 pm\\n 11\\n\\n  +64°\\n\\n  +55°\\n\\n  4.7 mph NE 30.4 inHg85 %08:05 am07:09 pm\\n 12\\n\\n  +64°\\n\\n  +54°\\n\\n  4.9 mph NE 30.4 inHg88 %08:06 am07:07 pm\\n 13\\n\\n  +63°\\n\\n  +54°\\n\\n  5.8 mph NE 30.2 inHg82 %08:08 am07:05 pm\\n 14\\n\\n  +63°\\n\\n  +55°\\n\\n  5.8 mph NE 30.2 inHg90 %08:09 am07:03 pm\\n 15\\n\\n  +61°\\n\\n  +54°\\n\\n  7.4 mph NE 30.2 inHg66 %08:11 am07:01 pm\\n 16\\n\\n  +59°\\n\\n  +54°\\n\\n  7.2 mph NE 30.2 inHg66 %08:12 am06:59 pm\\n 17\\n\\n  +61°\\n\\n  +54°\", \"score\": 0.8934678}, {\"title\": \"October 2025 Daily Weather Forecast for Paris 01 Louvre, Île-de ...\", \"url\": \"https://www.weathertab.com/en/d/10/republic-of-france/ile-de-france/paris-01-louvre/\", \"content\": \"|  |  |  |  |  |\\n ---  --- \\n| 18  Sat | 57% | 56 to 66 °F 43 to 53 °F 11 to 21 °C 3 to 13 °C | Sunrise  7:50AM  Sunset  7:29PM | Waxing Gibbous |\\n| 19  Sun | 70% | 56 to 66 °F 43 to 53 °F 11 to 21 °C 3 to 13 °C | Sunrise  7:51AM  Sunset  7:27PM | Waxing Gibbous |\\n| 20  Mon | 59% | 54 to 64 °F 41 to 51 °F 10 to 20 °C 2 to 12 °C | Sunrise  7:53AM  Sunset  7:25PM | Waxing Gibbous | [...] | 25  Sat | 57% | 54 to 64 °F 41 to 51 °F 10 to 20 °C 2 to 12 °C | Sunrise  8:00AM  Sunset  7:14PM | Waning Gibbous |\\n| 26  Sun | 60% | 54 to 64 °F 42 to 52 °F 10 to 20 °C 3 to 13 °C | Sunrise  8:02AM  Sunset  7:12PM | Waning Gibbous |\\n| 27  Mon | 58% | 53 to 63 °F 41 to 51 °F 9 to 19 °C 2 to 12 °C | Sunrise  8:03AM  Sunset  7:10PM | Waning Gibbous |\\n| 28  Tue | 51% | 54 to 64 °F 41 to 51 °F 10 to 20 °C 2 to 12 °C | Sunrise  8:05AM  Sunset  7:08PM | Waning Gibbous | [...] | 21  Tue | 43% | 54 to 64 °F 41 to 51 °F 10 to 20 °C 2 to 12 °C | Sunrise  7:54AM  Sunset  7:22PM | Waxing Gibbous |\\n| 22  Wed | 79% | 53 to 63 °F 41 to 51 °F 9 to 19 °C 2 to 12 °C | Sunrise  7:56AM  Sunset  7:20PM | Waxing Gibbous |\\n| 23  Thu | 66% | 53 to 63 °F 41 to 51 °F 9 to 19 °C 2 to 12 °C | Sunrise  7:57AM  Sunset  7:18PM | Waxing Gibbous |\\n| 24  Fri | 65% | 53 to 63 °F 41 to 51 °F 9 to 19 °C 2 to 12 °C | Sunrise  7:59AM  Sunset  7:16PM | Full Moon |\", \"score\": 0.8775715}, {\"title\": \"Paris weather in October 2025 | France: How hot?\", \"url\": \"https://www.weather2travel.com/france/paris/october/\", \"content\": \"weather2travel.com - travel deals for your holiday in the sun\\nClick to search\\n\\n# Paris weather in October 2025\\n\\nExpect  daytime maximum temperatures of 16°C in Paris, France in October based on long-term weather averages. There are 4 hours of sunshine per day on average with 14 days with some rainfall and typically 59 mm of rainfall in the month. [...] | Date | Sunrise times | Sunset times |\\n --- \\n| Wednesday, 1st October 2025 | 06:50 | 18:29 |\\n| Thursday, 16th October 2025 | 07:13 | 17:59 |\\n| Friday, 31st October 2025 | 07:36 | 17:32 |\\n\\n## Be inspired\\n\\nGet your weekly fix of holiday inspiration from some of the world's best travel writers plus save on your next trip with the latest exclusive offers\\n\\nWe promise not to share your details\\n\\n## Related posts [...] An alternative guide to Paris during the Olympics\\nAn alternative guide to Paris during the Olympics\\nFree things to do in Paris in winter\\nFree things to do in Paris in winter\\nNice or Marseille: which French city should you choose?\\nNice or Marseille: which French city should you choose?\\n\\n### How warm is it in Paris in October?\\n\\nDaytime temperatures usually reach 16°C in Paris in October, falling to 8°C at night.\\n\\n### How sunny is it in Paris in October?\", \"score\": 0.8306082}, {\"title\": \"Paris weather in October 2025 | Paris 14 day weather\", \"url\": \"https://www.weather25.com/europe/france/ile-de-france/paris?page=month&month=October\", \"content\": \"weather25.com\\nSearch\\nweather in France\\nRemove from your favorite locations\\nAdd to my locations\\nShare\\nweather in France\\n\\n# Paris weather in October 2025\\n\\nCloudy\\nOvercast\\nLight drizzle\\nPatchy rain possible\\nLight rain shower\\nPatchy rain possible\\nLight drizzle\\nClear\\nPatchy rain possible\\nPatchy rain possible\\nPatchy rain possible\\nLight rain\\nCloudy\\nPatchy rain possible\\n\\n## The average weather in Paris in October\\n\\nThe temperatures in Paris in October are usually low and can range between 10°C and 17°C. [...] | 26 Patchy rain possible 12° /9° | 27 Patchy rain possible 11° /7° | 28 Light rain 11° /8° | 29 Cloudy 12° /7° | 30 Patchy rain possible 12° /8° | 31 Light rain shower 16° /11° |  | [...] You can expect about 3 to 8 days of rain in Paris during the month of October. It’s a good idea to bring along your umbrella so that you don’t get caught in poor weather.\\n\\nOur weather forecast can give you a great sense of what weather to expect in Paris in October 2025.\\n\\nIf you’re planning to visit Paris in the near future, we highly recommend that you review the 14 day weather forecast for Paris before you arrive.\\n\\nTemperatures\\nRainy Days\\nSnowy Days\\nDry Days\\nRainfall\\n9.2\", \"score\": 0.82391036}, {\"title\": \"Monthly Weather Forecast for Paris, France - weather.com\", \"url\": \"https://weather.com/weather/monthly/l/1a8af5b9d8971c46dd5a52547f9221e22cd895d8d8639267a87df614d0912830\", \"content\": \"| Yesterday | 60° | 47° | 0.00 in |\\n| Last 7 Days | 67° | 47° | 0.00 |\\n| Month to Date | 69° | 47° | 0.42 |\\n\\n| Historical Monthly Avg |\\n\\n| October | 59° | 46° | 0 |\\n| November | 49° | 39° | 0 |\\n| December | 45° | 36° | 0 |\\n\\n## Sun & Moon\\n\\n## Stay Safe\\n\\n## Travel Far, Travel Often\\n\\nThe Weather Company\\nThe Weather Channel\\nWeather Underground\\nStorm Radar\\nGeorgia Org\\nLink to eSSENTIAL Accessibility assistive technology [...] We recognize our responsibility to use data and technology for good. We may use or share your data with our data vendors. Take control of your data.\\n\\nThe Weather Channel is the world's most accurate forecaster according to ForecastWatch, Global and Regional Weather Forecast Accuracy Overview, 2021-2024, commissioned by The Weather Company.\\n\\nWeather Channel\\n\\n© The Weather Company, LLC 2025 [...] ## Recents\\n\\n## Weather Forecasts\\n\\n## Radar & Maps\\n\\n## News & Media\\n\\n## Products & Account\\n\\n## Lifestyle\\n\\n### Specialty Forecasts\\n\\n# Monthly Weather-Paris, France\\n\\n## Night\\n\\nPartly cloudy skies. Low 46F. Winds ENE at 5 to 10 mph.\\n\\n## We Love Our Critters\\n\\n## Travel\\n\\n## Home, Garage & Garden\\n\\n| Oct 17 | High | Low | Precip |\\n ---  --- |\\n| Averages | 59°F | 46° \\n| Records  -- \\n\\n| Reported Conditions |\", \"score\": 0.35884774}]\n",
      "==================================\u001b[1m Ai Message \u001b[0m==================================\n",
      "Tool Calls:\n",
      "  tavily_search_results_json (fc_940095f2-a17b-4c0c-88bc-54df645b1d7c)\n",
      " Call ID: fc_940095f2-a17b-4c0c-88bc-54df645b1d7c\n",
      "  Args:\n",
      "    query: current temperature Paris\n",
      "=================================\u001b[1m Tool Message \u001b[0m=================================\n",
      "Name: tavily_search_results_json\n",
      "\n",
      "[{\"title\": \"Paris, Ville de Paris, France Weather Forecast - AccuWeather\", \"url\": \"https://www.accuweather.com/en/fr/paris/623/weather-forecast/623\", \"content\": \"# Paris, Ville de Paris\\n\\nParis\\n\\nVille de Paris\\n\\n## Around the Globe\\n\\nAround the Globe\\n\\n### Hurricane Tracker\\n\\n### Severe Weather\\n\\n### Radar & Maps\\n\\n### News & Features\\n\\n### Astronomy\\n\\n### Business\\n\\n### Climate\\n\\n### Health\\n\\n### Recreation\\n\\n### Sports\\n\\n### Travel\\n\\n### Warnings\\n\\n### Data Suite\\n\\n### Forensics\\n\\n### Advertising\\n\\n### Superior Accuracy™\\n\\n### Video\\n\\n## Today\\n\\n## Today's Weather\\n\\nFri, Oct 17\\n\\nSome sun, then increasing clouds\\nHi: 63°\\n\\nTonight: Mainly clear\\nLo: 46°\\n\\n## Current Weather [...] Mon\\n\\n10/20\\n\\nA couple of afternoon showers\\n\\nRain; breezy in the evening\\n\\nTue\\n\\n10/21\\n\\nA couple of afternoon showers\\n\\nMostly cloudy\\n\\nWed\\n\\n10/22\\n\\nMostly cloudy\\n\\nA little rain early; cloudy\\n\\nThu\\n\\n10/23\\n\\nA.M. rain; decreasing clouds\\n\\nClear\\n\\nFri\\n\\n10/24\\n\\nA little morning rain; cloudy\\n\\nMainly clear\\n\\nSat\\n\\n10/25\\n\\nOvercast with afternoon rain\\n\\nA shower early, then showers\\n\\nSun\\n\\n10/26\\n\\nA little morning rain; cloudy\\n\\nOccasional rain\\n\\n## Sun & Moon\\n\\n## Air Quality [...] The planet hits its first climate tipping point, landmark report finds\\n\\n3 days ago\\n\\nWeather News\\n\\nGhostly shot of hyena wins Wildlife Photographer of the Year award\\n\\n1 day ago\\n\\n## Weather Near Paris:\\n\\n...\\n\\n...\\n\\n...\", \"score\": 0.6882385}, {\"title\": \"Paris weather in October 2025 - Weather25.com\", \"url\": \"https://www.weather25.com/europe/france/ile-de-france/paris?page=month&month=October\", \"content\": \"| 26  12° /9° | 27  11° /7° | 28  11° /8° | 29  12° /7° | 30  12° /8° | 31  16° /11° | [...] | Month | Temperatures | Rainy Days | Dry Days | Snowy Days | Rainfall | Weather | More details |\\n ---  ---  ---  --- |\\n| January | 7° / 2° | 7 | 21 | 4 | 51 mm | Awful | Paris in January |\\n| February | 8° / 3° | 6 | 19 | 3 | 48 mm | Bad | Paris in February |\\n| March | 12° / 5° | 5 | 25 | 1 | 43 mm | Ok | Paris in March |\\n| April | 16° / 7° | 4 | 26 | 0 | 47 mm | Good | Paris in April |\\n| May | 19° / 10° | 6 | 25 | 0 | 88 mm | Good | Paris in May | [...] | June | 22° / 13° | 7 | 23 | 0 | 109 mm | Ok | Paris in June |\\n| July | 25° / 15° | 4 | 27 | 0 | 92 mm | Perfect | Paris in July |\\n| August | 25° / 16° | 4 | 27 | 0 | 76 mm | Perfect | Paris in August |\\n| September | 22° / 13° | 3 | 27 | 0 | 48 mm | Good | Paris in September |\\n| October | 17° / 10° | 5 | 26 | 0 | 67 mm | Good | Paris in October |\\n| November | 11° / 6° | 6 | 23 | 1 | 75 mm | Ok | Paris in November |\\n| December | 8° / 4° | 8 | 21 | 3 | 83 mm | Awful | Paris in December |\", \"score\": 0.59796065}, {\"title\": \"Weather in Paris in October 2025 (Île-de-France)\", \"url\": \"https://world-weather.info/forecast/france/paris/october-2025/\", \"content\": \"day\\n:   +108°F\\n\\nnight\\n:   +82°F\\n\\nTemperature units\\n\\n°F°C [...] +54°\\n\\n  +52°\\n\\n  10.3 mph SW 29.8 inHg83 %08:26 am06:42 pm\\n 26\\n\\n  +55°\\n\\n  +46°\\n\\n  6.9 mph W 30 inHg82 %07:28 am05:40 pm\\n 27\\n\\n  +48°\\n\\n  +46°\\n\\n  8.9 mph SW 30 inHg63 %07:30 am05:38 pm\\n 28\\n\\n  +50°\\n\\n  +45°\\n\\n  8.9 mph NW 30.4 inHg34 %07:31 am05:37 pm\\n 29\\n\\n  +55°\\n\\n  +46°\\n\\n  10.1 mph NW 30.4 inHg31 %07:33 am05:35 pm\\n 30\\n\\n  +59°\\n\\n  +57°\\n\\n  13.9 mph SW 30.5 inHg95 %07:34 am05:33 pm\\n 31\\n\\n  +57°\\n\\n  +55°\\n\\n  9.4 mph W 30.3 inHg69 %07:36 am05:32 pm\\n\\n## Extended weather forecast in Paris [...] +57°\\n\\n  5.4 mph N 30.3 inHg81 %08:03 am07:11 pm\\n 11\\n\\n  +64°\\n\\n  +55°\\n\\n  4.7 mph NE 30.4 inHg85 %08:05 am07:09 pm\\n 12\\n\\n  +64°\\n\\n  +54°\\n\\n  4.9 mph NE 30.4 inHg88 %08:06 am07:07 pm\\n 13\\n\\n  +63°\\n\\n  +54°\\n\\n  5.8 mph NE 30.2 inHg82 %08:08 am07:05 pm\\n 14\\n\\n  +63°\\n\\n  +55°\\n\\n  5.8 mph NE 30.2 inHg90 %08:09 am07:03 pm\\n 15\\n\\n  +61°\\n\\n  +54°\\n\\n  7.4 mph NE 30.2 inHg66 %08:11 am07:01 pm\\n 16\\n\\n  +59°\\n\\n  +54°\\n\\n  7.2 mph NE 30.2 inHg66 %08:12 am06:59 pm\\n 17\\n\\n  +61°\\n\\n  +54°\", \"score\": 0.575517}, {\"title\": \"Paris weather in October 2025 | France: How hot?\", \"url\": \"https://www.weather2travel.com/france/paris/october/\", \"content\": \"| Date | Sunrise times | Sunset times |\\n --- \\n| Wednesday, 1st October 2025 | 06:50 | 18:29 |\\n| Thursday, 16th October 2025 | 07:13 | 17:59 |\\n| Friday, 31st October 2025 | 07:36 | 17:32 |\\n\\n## Be inspired\\n\\nGet your weekly fix of holiday inspiration from some of the world's best travel writers plus save on your next trip with the latest exclusive offers\\n\\nWe promise not to share your details\\n\\n## Related posts [...] weather2travel.com - travel deals for your holiday in the sun\\nClick to search\\n\\n# Paris weather in October 2025\\n\\nExpect  daytime maximum temperatures of 16°C in Paris, France in October based on long-term weather averages. There are 4 hours of sunshine per day on average with 14 days with some rainfall and typically 59 mm of rainfall in the month. [...] An alternative guide to Paris during the Olympics\\nAn alternative guide to Paris during the Olympics\\nFree things to do in Paris in winter\\nFree things to do in Paris in winter\\nNice or Marseille: which French city should you choose?\\nNice or Marseille: which French city should you choose?\\n\\n### How warm is it in Paris in October?\\n\\nDaytime temperatures usually reach 16°C in Paris in October, falling to 8°C at night.\\n\\n### How sunny is it in Paris in October?\", \"score\": 0.43900222}, {\"title\": \"2025 - Paris, Ville de Paris, France Monthly Weather | AccuWeather\", \"url\": \"https://www.accuweather.com/en/fr/paris/75243/october-weather/179349_pc\", \"content\": \"# Paris, Ville de Paris\\n\\nParis\\n\\nVille de Paris\\n\\n## Around the Globe\\n\\nAround the Globe\\n\\n### Hurricane Tracker\\n\\n### Severe Weather\\n\\n### Radar & Maps\\n\\n### News & Features\\n\\n### Astronomy\\n\\n### Business\\n\\n### Climate\\n\\n### Health\\n\\n### Recreation\\n\\n### Sports\\n\\n### Travel\\n\\n### Warnings\\n\\n### Data Suite\\n\\n### Forensics\\n\\n### Advertising\\n\\n### Superior Accuracy™\\n\\n### Video\\n\\n## Monthly\\n\\n## October\\n\\n## 2025\\n\\n## Daily\\n\\n## Temperature Graph\\n\\n## Further Ahead\\n\\nFurther Ahead\\n\\n### November 2025\\n\\n### December 2025 [...] Drought lowering Mississippi River levels again, disrupting shipping\\n\\n3 hours ago\\n\\nSevere Weather\\n\\nTexas lawmakers launch new investigation into July flood disaster\\n\\n1 day ago\\n\\nFeatured Stories\\n\\nAccuWeather Ready\\n\\nDaylight Saving Time: 5 things to do after changing the clocks\\n\\n23 hours ago\\n\\nWinter Weather\\n\\nDeadly Mt. Everest blizzard had sleet and thundersnow\\n\\n2 days ago\\n\\nSevere Weather\\n\\n64 dead, many missing in southern Mexico floods\\n\\n3 days ago\\n\\nClimate [...] The planet hits its first climate tipping point, landmark report finds\\n\\n3 days ago\\n\\nWeather News\\n\\nGhostly shot of hyena wins Wildlife Photographer of the Year award\\n\\n1 day ago\\n\\n...\\n\\n...\\n\\n...\", \"score\": 0.2538892}]\n",
      "================================\u001b[1m Human Message \u001b[0m=================================\n",
      "\n",
      "then multiply that number by 2, and let me know the current temperature of capital city of france\n",
      "==================================\u001b[1m Ai Message \u001b[0m==================================\n",
      "\n",
      "- **Result of the arithmetic:**  \n",
      "  \\(50 \\times 2 = 100\\)\n",
      "\n",
      "- **Current temperature in Paris (capital city of France):**  \n",
      "  According to the latest forecast from AccuWeather, the temperature in Paris today is **about 63 °F (≈ 17 °C)**.\n"
     ]
    }
   ],
   "source": [
    "messages=[HumanMessage(content=\"then multiply that number by 2, and let me know the current temperature of capital city of france\")]\n",
    "messages=graph_with_memory.invoke({\"messages\":messages},config=config)\n",
    "for m in messages['messages']:\n",
    "    m.pretty_print()"
   ]
  },
  {
   "cell_type": "code",
   "execution_count": 43,
   "id": "b451b602",
   "metadata": {},
   "outputs": [
    {
     "name": "stdout",
     "output_type": "stream",
     "text": [
      "================================\u001b[1m Human Message \u001b[0m=================================\n",
      "\n",
      "Add 12 and 13\n",
      "==================================\u001b[1m Ai Message \u001b[0m==================================\n",
      "Tool Calls:\n",
      "  add (fc_014dbb3e-b12b-472e-8b0c-fdeb5a13297c)\n",
      " Call ID: fc_014dbb3e-b12b-472e-8b0c-fdeb5a13297c\n",
      "  Args:\n",
      "    a: 12\n",
      "    b: 13\n",
      "=================================\u001b[1m Tool Message \u001b[0m=================================\n",
      "Name: add\n",
      "\n",
      "25\n",
      "==================================\u001b[1m Ai Message \u001b[0m==================================\n",
      "\n",
      "25\n",
      "================================\u001b[1m Human Message \u001b[0m=================================\n",
      "\n",
      "Add that number to 25\n",
      "==================================\u001b[1m Ai Message \u001b[0m==================================\n",
      "Tool Calls:\n",
      "  add (fc_0ac5e865-993f-45a5-9242-7aa779886193)\n",
      " Call ID: fc_0ac5e865-993f-45a5-9242-7aa779886193\n",
      "  Args:\n",
      "    a: 25\n",
      "    b: 25\n",
      "=================================\u001b[1m Tool Message \u001b[0m=================================\n",
      "Name: add\n",
      "\n",
      "50\n",
      "==================================\u001b[1m Ai Message \u001b[0m==================================\n",
      "\n",
      "50\n",
      "================================\u001b[1m Human Message \u001b[0m=================================\n",
      "\n",
      "then multiply that number by 2, and use let me know the current temperature of capital city of france\n",
      "==================================\u001b[1m Ai Message \u001b[0m==================================\n",
      "Tool Calls:\n",
      "  tavily_search_results_json (fc_4209d805-1a20-45a4-b36f-0e0fda251242)\n",
      " Call ID: fc_4209d805-1a20-45a4-b36f-0e0fda251242\n",
      "  Args:\n",
      "    query: current temperature in Paris\n",
      "=================================\u001b[1m Tool Message \u001b[0m=================================\n",
      "Name: tavily_search_results_json\n",
      "\n",
      "[{\"title\": \"Paris weather in October 2025 - Weather25.com\", \"url\": \"https://www.weather25.com/europe/france/ile-de-france/paris?page=month&month=October\", \"content\": \"| 26  12° /9° | 27  11° /7° | 28  11° /8° | 29  12° /7° | 30  12° /8° | 31  16° /11° | [...] | Month | Temperatures | Rainy Days | Dry Days | Snowy Days | Rainfall | Weather | More details |\\n ---  ---  ---  --- |\\n| January | 7° / 2° | 7 | 21 | 4 | 51 mm | Awful | Paris in January |\\n| February | 8° / 3° | 6 | 19 | 3 | 48 mm | Bad | Paris in February |\\n| March | 12° / 5° | 5 | 25 | 1 | 43 mm | Ok | Paris in March |\\n| April | 16° / 7° | 4 | 26 | 0 | 47 mm | Good | Paris in April |\\n| May | 19° / 10° | 6 | 25 | 0 | 88 mm | Good | Paris in May | [...] Oct 24\\n\\n0 mm\\n\\n14° / 9°Saturday\\n\\nOct 25\\n\\n0.5 mm\\n\\n14° / 11°Sunday\\n\\nOct 26\\n\\n0.8 mm\\n\\n12° / 9°Monday\\n\\nOct 27\\n\\n0 mm\\n\\n11° / 7°Tuesday\\n\\nOct 28\\n\\n3.3 mm\\n\\n11° / 8°Wednesday\\n\\nOct 29\\n\\n0 mm\\n\\n12° / 7°Thursday\\n\\nOct 30\\n\\n0 mm\\n\\n12° / 8° NextMonth >>\\n\\n## The average weather in Paris in October\\n\\nThe temperatures in Paris in October are usually low and can range between 10°C and 17°C.\", \"score\": 0.59033114}, {\"title\": \"October 2025 Daily Weather Forecast for 75839 CEDEX 17 (Paris ...\", \"url\": \"https://www.weathertab.com/en/d/o/10/republic-of-france/ile-de-france/75839-cedex-17-paris-17/\", \"content\": \"| 29  Wed | 53% | 54 to 64 °F 40 to 50 °F 10 to 20 °C 2 to 12 °C | Sunrise  8:06AM  Sunset  7:06PM | Waning Gibbous |\\n| 30  Thu | 56% | 52 to 62 °F 40 to 50 °F 8 to 18 °C 2 to 12 °C | Sunrise  8:08AM  Sunset  7:04PM | Last Quarter |\\n| 31  Fri | 39% | 51 to 61 °F 38 to 48 °F 8 to 18 °C 1 to 11 °C | Sunrise  8:09AM  Sunset  7:02PM | Waning Crescent | [...] | 25  Sat | 57% | 54 to 64 °F 41 to 51 °F 10 to 20 °C 2 to 12 °C | Sunrise  8:00AM  Sunset  7:14PM | Waning Gibbous |\\n| 26  Sun | 60% | 54 to 64 °F 42 to 52 °F 10 to 20 °C 3 to 13 °C | Sunrise  8:02AM  Sunset  7:12PM | Waning Gibbous |\\n| 27  Mon | 58% | 53 to 63 °F 41 to 51 °F 9 to 19 °C 2 to 12 °C | Sunrise  8:03AM  Sunset  7:10PM | Waning Gibbous |\\n| 28  Tue | 51% | 54 to 64 °F 41 to 51 °F 10 to 20 °C 2 to 12 °C | Sunrise  8:05AM  Sunset  7:08PM | Waning Gibbous | [...] |  |  |  |  |  |\\n ---  --- \\n| 18  Sat | 57% | 56 to 66 °F 43 to 53 °F 11 to 21 °C 3 to 13 °C | Sunrise  7:50AM  Sunset  7:29PM | Waxing Gibbous |\\n| 19  Sun | 70% | 56 to 66 °F 43 to 53 °F 11 to 21 °C 3 to 13 °C | Sunrise  7:51AM  Sunset  7:27PM | Waxing Gibbous |\\n| 20  Mon | 59% | 54 to 64 °F 41 to 51 °F 10 to 20 °C 2 to 12 °C | Sunrise  7:53AM  Sunset  7:25PM | Waxing Gibbous |\", \"score\": 0.559411}, {\"title\": \"10-Day Weather Forecast for Paris, France\", \"url\": \"https://weather.com/weather/tenday/l/1a8af5b9d8971c46dd5a52547f9221e22cd895d8d8639267a87df614d0912830\", \"content\": \"## Night\\n\\nMostly cloudy skies. Low 54F. Winds SW at 5 to 10 mph.\\n\\n## Wed 22\\n\\n## Day\\n\\nConsiderable cloudiness with occasional rain showers. High around 60F. Winds SSW at 5 to 10 mph. Chance of rain 50%.\\n\\n## Night\\n\\nCloudy with showers. Low 58F. Winds SSW at 10 to 15 mph. Chance of rain 60%.\\n\\n## Thu 23\\n\\n## Day\\n\\nShowers early becoming less numerous later in the day. High 63F. Winds SW at 10 to 20 mph. Chance of rain 60%.\\n\\n## Night [...] Showers in the morning with some clearing in the afternoon. High 54F. Winds WSW at 10 to 15 mph. Chance of rain 40%.\\n\\n## Night\\n\\nMostly cloudy skies with a few showers late. Low 47F. Winds WSW at 5 to 10 mph. Chance of rain 30%.\\n\\n## Fri 31\\n\\n## Day\\n\\nA few showers early with mostly cloudy conditions later in the day. High around 55F. Winds SSW at 5 to 10 mph. Chance of rain 30%.\\n\\n## Night\\n\\nCloudy with occasional rain showers. Low 48F. Winds SSW at 5 to 10 mph. Chance of rain 50%.\\n\\n## Latest News [...] Rain. Low 58F. Winds S at 10 to 20 mph. Chance of rain 80%. Rainfall near a quarter of an inch.\\n\\n## Mon 20\\n\\n## Day\\n\\nConsiderable cloudiness with occasional rain showers. High 63F. Winds SSW at 10 to 20 mph. Chance of rain 50%.\\n\\n## Night\\n\\nConsiderable cloudiness with occasional rain showers. Low 56F. Winds SW at 10 to 20 mph. Chance of rain 40%.\\n\\n## Tue 21\\n\\n## Day\\n\\nA few showers early with mostly cloudy conditions later in the day. High 61F. Winds SW at 10 to 15 mph. Chance of rain 40%.\", \"score\": 0.53925073}, {\"title\": \"Paris - BBC Weather\", \"url\": \"https://www.bbc.com/weather/2988507\", \"content\": \"## Accessibility links\\n\\n## Search for a location\\n\\n# Paris - Weather warnings issued\\n\\n## Forecast - Paris\\n\\n### Day by day forecast\\n\\n### Environmental Summary\\n\\n### Sunrise Sunset\\n\\n### Sunrise Sunset\\n\\n### Sunrise Sunset\\n\\n### Sunrise Sunset\\n\\n### Sunrise Sunset\\n\\n### Sunrise Sunset\\n\\n### Sunrise Sunset\\n\\n### Sunrise Sunset\\n\\n### Sunrise Sunset\\n\\n### Sunrise Sunset\\n\\n### Sunrise Sunset\\n\\n### Sunrise Sunset\\n\\n### Sunrise Sunset\\n\\n### Sunrise Sunset\\n\\n### Hour by hour forecast\\n\\n### Environmental Summary [...] Observed at 14:00,\\n\\nFriday 17 October\\n\\n## Settings\\n\\n## More Weather\\n\\n### UK\\n\\n### About BBC Weather\\n\\n### Elsewhere\\n\\nBBC Weather in association with MeteoGroup, external\\n\\nAll times are Central European Summer Time (Europe/Paris, GMT+2) unless otherwise stated.\\n\\n## Explore the BBC [...] ### Sunrise Sunset\\n\\n### Sunrise Sunset\\n\\n### Sunrise Sunset\\n\\n### Sunrise Sunset\\n\\n### Sunrise Sunset\\n\\n### Sunrise Sunset\\n\\n### Sunrise Sunset\\n\\n### Sunrise Sunset\\n\\n### Sunrise Sunset\\n\\n### Sunrise Sunset\\n\\n### Sunrise Sunset\\n\\n### Sunrise Sunset\\n\\n### Sunrise Sunset\\n\\n### Sunrise Sunset\\n\\n## Outlook forecast map\\n\\n## Forecast for Europe\\n\\n### Latest forecast for Europe\\n\\n## To play this video you need to enable JavaScript in your browser.\\n\\nThis video can not be played\\n\\n## Observations - Paris-Montsouris\", \"score\": 0.18804085}, {\"title\": \"2025 - Paris, Ville de Paris, France Monthly Weather | AccuWeather\", \"url\": \"https://www.accuweather.com/en/fr/paris/75243/october-weather/179349_pc\", \"content\": \"Get the monthly weather forecast for Paris, Ville de Paris, France, including daily high/low, historical averages, to help you plan ahead.\", \"score\": 0.18185851}]\n",
      "==================================\u001b[1m Ai Message \u001b[0m==================================\n",
      "Tool Calls:\n",
      "  tavily_search_results_json (fc_c5bd76b3-1a2f-4755-b934-41f990cae852)\n",
      " Call ID: fc_c5bd76b3-1a2f-4755-b934-41f990cae852\n",
      "  Args:\n",
      "    query: current temperature Paris 2025-10-18\n",
      "=================================\u001b[1m Tool Message \u001b[0m=================================\n",
      "Name: tavily_search_results_json\n",
      "\n",
      "[{\"title\": \"Weather in Paris in October 2025 (Île-de-France)\", \"url\": \"https://world-weather.info/forecast/france/paris/october-2025/\", \"content\": \"day\\n:   +108°F\\n\\nnight\\n:   +82°F\\n\\nTemperature units\\n\\n°F°C [...] +54°\\n\\n  +52°\\n\\n  10.3 mph SW 29.8 inHg83 %08:26 am06:42 pm\\n 26\\n\\n  +55°\\n\\n  +46°\\n\\n  6.9 mph W 30 inHg82 %07:28 am05:40 pm\\n 27\\n\\n  +48°\\n\\n  +46°\\n\\n  8.9 mph SW 30 inHg63 %07:30 am05:38 pm\\n 28\\n\\n  +50°\\n\\n  +45°\\n\\n  8.9 mph NW 30.4 inHg34 %07:31 am05:37 pm\\n 29\\n\\n  +55°\\n\\n  +46°\\n\\n  10.1 mph NW 30.4 inHg31 %07:33 am05:35 pm\\n 30\\n\\n  +59°\\n\\n  +57°\\n\\n  13.9 mph SW 30.5 inHg95 %07:34 am05:33 pm\\n 31\\n\\n  +57°\\n\\n  +55°\\n\\n  9.4 mph W 30.3 inHg69 %07:36 am05:32 pm\\n\\n## Extended weather forecast in Paris [...] +57°\\n\\n  5.4 mph N 30.3 inHg81 %08:03 am07:11 pm\\n 11\\n\\n  +64°\\n\\n  +55°\\n\\n  4.7 mph NE 30.4 inHg85 %08:05 am07:09 pm\\n 12\\n\\n  +64°\\n\\n  +54°\\n\\n  4.9 mph NE 30.4 inHg88 %08:06 am07:07 pm\\n 13\\n\\n  +63°\\n\\n  +54°\\n\\n  5.8 mph NE 30.2 inHg82 %08:08 am07:05 pm\\n 14\\n\\n  +63°\\n\\n  +55°\\n\\n  5.8 mph NE 30.2 inHg90 %08:09 am07:03 pm\\n 15\\n\\n  +61°\\n\\n  +54°\\n\\n  7.4 mph NE 30.2 inHg66 %08:11 am07:01 pm\\n 16\\n\\n  +59°\\n\\n  +54°\\n\\n  7.2 mph NE 30.2 inHg66 %08:12 am06:59 pm\\n 17\\n\\n  +61°\\n\\n  +54°\", \"score\": 0.8934678}, {\"title\": \"October 2025 Daily Weather Forecast for Paris 01 Louvre, Île-de ...\", \"url\": \"https://www.weathertab.com/en/d/10/republic-of-france/ile-de-france/paris-01-louvre/\", \"content\": \"|  |  |  |  |  |\\n ---  --- \\n| 18  Sat | 57% | 56 to 66 °F 43 to 53 °F 11 to 21 °C 3 to 13 °C | Sunrise  7:50AM  Sunset  7:29PM | Waxing Gibbous |\\n| 19  Sun | 70% | 56 to 66 °F 43 to 53 °F 11 to 21 °C 3 to 13 °C | Sunrise  7:51AM  Sunset  7:27PM | Waxing Gibbous |\\n| 20  Mon | 59% | 54 to 64 °F 41 to 51 °F 10 to 20 °C 2 to 12 °C | Sunrise  7:53AM  Sunset  7:25PM | Waxing Gibbous | [...] | 25  Sat | 57% | 54 to 64 °F 41 to 51 °F 10 to 20 °C 2 to 12 °C | Sunrise  8:00AM  Sunset  7:14PM | Waning Gibbous |\\n| 26  Sun | 60% | 54 to 64 °F 42 to 52 °F 10 to 20 °C 3 to 13 °C | Sunrise  8:02AM  Sunset  7:12PM | Waning Gibbous |\\n| 27  Mon | 58% | 53 to 63 °F 41 to 51 °F 9 to 19 °C 2 to 12 °C | Sunrise  8:03AM  Sunset  7:10PM | Waning Gibbous |\\n| 28  Tue | 51% | 54 to 64 °F 41 to 51 °F 10 to 20 °C 2 to 12 °C | Sunrise  8:05AM  Sunset  7:08PM | Waning Gibbous | [...] | 21  Tue | 43% | 54 to 64 °F 41 to 51 °F 10 to 20 °C 2 to 12 °C | Sunrise  7:54AM  Sunset  7:22PM | Waxing Gibbous |\\n| 22  Wed | 79% | 53 to 63 °F 41 to 51 °F 9 to 19 °C 2 to 12 °C | Sunrise  7:56AM  Sunset  7:20PM | Waxing Gibbous |\\n| 23  Thu | 66% | 53 to 63 °F 41 to 51 °F 9 to 19 °C 2 to 12 °C | Sunrise  7:57AM  Sunset  7:18PM | Waxing Gibbous |\\n| 24  Fri | 65% | 53 to 63 °F 41 to 51 °F 9 to 19 °C 2 to 12 °C | Sunrise  7:59AM  Sunset  7:16PM | Full Moon |\", \"score\": 0.8775715}, {\"title\": \"Paris weather in October 2025 | France: How hot?\", \"url\": \"https://www.weather2travel.com/france/paris/october/\", \"content\": \"weather2travel.com - travel deals for your holiday in the sun\\nClick to search\\n\\n# Paris weather in October 2025\\n\\nExpect  daytime maximum temperatures of 16°C in Paris, France in October based on long-term weather averages. There are 4 hours of sunshine per day on average with 14 days with some rainfall and typically 59 mm of rainfall in the month. [...] | Date | Sunrise times | Sunset times |\\n --- \\n| Wednesday, 1st October 2025 | 06:50 | 18:29 |\\n| Thursday, 16th October 2025 | 07:13 | 17:59 |\\n| Friday, 31st October 2025 | 07:36 | 17:32 |\\n\\n## Be inspired\\n\\nGet your weekly fix of holiday inspiration from some of the world's best travel writers plus save on your next trip with the latest exclusive offers\\n\\nWe promise not to share your details\\n\\n## Related posts [...] An alternative guide to Paris during the Olympics\\nAn alternative guide to Paris during the Olympics\\nFree things to do in Paris in winter\\nFree things to do in Paris in winter\\nNice or Marseille: which French city should you choose?\\nNice or Marseille: which French city should you choose?\\n\\n### How warm is it in Paris in October?\\n\\nDaytime temperatures usually reach 16°C in Paris in October, falling to 8°C at night.\\n\\n### How sunny is it in Paris in October?\", \"score\": 0.8306082}, {\"title\": \"Paris weather in October 2025 | Paris 14 day weather\", \"url\": \"https://www.weather25.com/europe/france/ile-de-france/paris?page=month&month=October\", \"content\": \"weather25.com\\nSearch\\nweather in France\\nRemove from your favorite locations\\nAdd to my locations\\nShare\\nweather in France\\n\\n# Paris weather in October 2025\\n\\nCloudy\\nOvercast\\nLight drizzle\\nPatchy rain possible\\nLight rain shower\\nPatchy rain possible\\nLight drizzle\\nClear\\nPatchy rain possible\\nPatchy rain possible\\nPatchy rain possible\\nLight rain\\nCloudy\\nPatchy rain possible\\n\\n## The average weather in Paris in October\\n\\nThe temperatures in Paris in October are usually low and can range between 10°C and 17°C. [...] | 26 Patchy rain possible 12° /9° | 27 Patchy rain possible 11° /7° | 28 Light rain 11° /8° | 29 Cloudy 12° /7° | 30 Patchy rain possible 12° /8° | 31 Light rain shower 16° /11° |  | [...] You can expect about 3 to 8 days of rain in Paris during the month of October. It’s a good idea to bring along your umbrella so that you don’t get caught in poor weather.\\n\\nOur weather forecast can give you a great sense of what weather to expect in Paris in October 2025.\\n\\nIf you’re planning to visit Paris in the near future, we highly recommend that you review the 14 day weather forecast for Paris before you arrive.\\n\\nTemperatures\\nRainy Days\\nSnowy Days\\nDry Days\\nRainfall\\n9.2\", \"score\": 0.82391036}, {\"title\": \"Monthly Weather Forecast for Paris, France - weather.com\", \"url\": \"https://weather.com/weather/monthly/l/1a8af5b9d8971c46dd5a52547f9221e22cd895d8d8639267a87df614d0912830\", \"content\": \"| Yesterday | 60° | 47° | 0.00 in |\\n| Last 7 Days | 67° | 47° | 0.00 |\\n| Month to Date | 69° | 47° | 0.42 |\\n\\n| Historical Monthly Avg |\\n\\n| October | 59° | 46° | 0 |\\n| November | 49° | 39° | 0 |\\n| December | 45° | 36° | 0 |\\n\\n## Sun & Moon\\n\\n## Stay Safe\\n\\n## Travel Far, Travel Often\\n\\nThe Weather Company\\nThe Weather Channel\\nWeather Underground\\nStorm Radar\\nGeorgia Org\\nLink to eSSENTIAL Accessibility assistive technology [...] We recognize our responsibility to use data and technology for good. We may use or share your data with our data vendors. Take control of your data.\\n\\nThe Weather Channel is the world's most accurate forecaster according to ForecastWatch, Global and Regional Weather Forecast Accuracy Overview, 2021-2024, commissioned by The Weather Company.\\n\\nWeather Channel\\n\\n© The Weather Company, LLC 2025 [...] ## Recents\\n\\n## Weather Forecasts\\n\\n## Radar & Maps\\n\\n## News & Media\\n\\n## Products & Account\\n\\n## Lifestyle\\n\\n### Specialty Forecasts\\n\\n# Monthly Weather-Paris, France\\n\\n## Night\\n\\nPartly cloudy skies. Low 46F. Winds ENE at 5 to 10 mph.\\n\\n## We Love Our Critters\\n\\n## Travel\\n\\n## Home, Garage & Garden\\n\\n| Oct 17 | High | Low | Precip |\\n ---  --- |\\n| Averages | 59°F | 46° \\n| Records  -- \\n\\n| Reported Conditions |\", \"score\": 0.35884774}]\n",
      "==================================\u001b[1m Ai Message \u001b[0m==================================\n",
      "Tool Calls:\n",
      "  tavily_search_results_json (fc_940095f2-a17b-4c0c-88bc-54df645b1d7c)\n",
      " Call ID: fc_940095f2-a17b-4c0c-88bc-54df645b1d7c\n",
      "  Args:\n",
      "    query: current temperature Paris\n",
      "=================================\u001b[1m Tool Message \u001b[0m=================================\n",
      "Name: tavily_search_results_json\n",
      "\n",
      "[{\"title\": \"Paris, Ville de Paris, France Weather Forecast - AccuWeather\", \"url\": \"https://www.accuweather.com/en/fr/paris/623/weather-forecast/623\", \"content\": \"# Paris, Ville de Paris\\n\\nParis\\n\\nVille de Paris\\n\\n## Around the Globe\\n\\nAround the Globe\\n\\n### Hurricane Tracker\\n\\n### Severe Weather\\n\\n### Radar & Maps\\n\\n### News & Features\\n\\n### Astronomy\\n\\n### Business\\n\\n### Climate\\n\\n### Health\\n\\n### Recreation\\n\\n### Sports\\n\\n### Travel\\n\\n### Warnings\\n\\n### Data Suite\\n\\n### Forensics\\n\\n### Advertising\\n\\n### Superior Accuracy™\\n\\n### Video\\n\\n## Today\\n\\n## Today's Weather\\n\\nFri, Oct 17\\n\\nSome sun, then increasing clouds\\nHi: 63°\\n\\nTonight: Mainly clear\\nLo: 46°\\n\\n## Current Weather [...] Mon\\n\\n10/20\\n\\nA couple of afternoon showers\\n\\nRain; breezy in the evening\\n\\nTue\\n\\n10/21\\n\\nA couple of afternoon showers\\n\\nMostly cloudy\\n\\nWed\\n\\n10/22\\n\\nMostly cloudy\\n\\nA little rain early; cloudy\\n\\nThu\\n\\n10/23\\n\\nA.M. rain; decreasing clouds\\n\\nClear\\n\\nFri\\n\\n10/24\\n\\nA little morning rain; cloudy\\n\\nMainly clear\\n\\nSat\\n\\n10/25\\n\\nOvercast with afternoon rain\\n\\nA shower early, then showers\\n\\nSun\\n\\n10/26\\n\\nA little morning rain; cloudy\\n\\nOccasional rain\\n\\n## Sun & Moon\\n\\n## Air Quality [...] The planet hits its first climate tipping point, landmark report finds\\n\\n3 days ago\\n\\nWeather News\\n\\nGhostly shot of hyena wins Wildlife Photographer of the Year award\\n\\n1 day ago\\n\\n## Weather Near Paris:\\n\\n...\\n\\n...\\n\\n...\", \"score\": 0.6882385}, {\"title\": \"Paris weather in October 2025 - Weather25.com\", \"url\": \"https://www.weather25.com/europe/france/ile-de-france/paris?page=month&month=October\", \"content\": \"| 26  12° /9° | 27  11° /7° | 28  11° /8° | 29  12° /7° | 30  12° /8° | 31  16° /11° | [...] | Month | Temperatures | Rainy Days | Dry Days | Snowy Days | Rainfall | Weather | More details |\\n ---  ---  ---  --- |\\n| January | 7° / 2° | 7 | 21 | 4 | 51 mm | Awful | Paris in January |\\n| February | 8° / 3° | 6 | 19 | 3 | 48 mm | Bad | Paris in February |\\n| March | 12° / 5° | 5 | 25 | 1 | 43 mm | Ok | Paris in March |\\n| April | 16° / 7° | 4 | 26 | 0 | 47 mm | Good | Paris in April |\\n| May | 19° / 10° | 6 | 25 | 0 | 88 mm | Good | Paris in May | [...] | June | 22° / 13° | 7 | 23 | 0 | 109 mm | Ok | Paris in June |\\n| July | 25° / 15° | 4 | 27 | 0 | 92 mm | Perfect | Paris in July |\\n| August | 25° / 16° | 4 | 27 | 0 | 76 mm | Perfect | Paris in August |\\n| September | 22° / 13° | 3 | 27 | 0 | 48 mm | Good | Paris in September |\\n| October | 17° / 10° | 5 | 26 | 0 | 67 mm | Good | Paris in October |\\n| November | 11° / 6° | 6 | 23 | 1 | 75 mm | Ok | Paris in November |\\n| December | 8° / 4° | 8 | 21 | 3 | 83 mm | Awful | Paris in December |\", \"score\": 0.59796065}, {\"title\": \"Weather in Paris in October 2025 (Île-de-France)\", \"url\": \"https://world-weather.info/forecast/france/paris/october-2025/\", \"content\": \"day\\n:   +108°F\\n\\nnight\\n:   +82°F\\n\\nTemperature units\\n\\n°F°C [...] +54°\\n\\n  +52°\\n\\n  10.3 mph SW 29.8 inHg83 %08:26 am06:42 pm\\n 26\\n\\n  +55°\\n\\n  +46°\\n\\n  6.9 mph W 30 inHg82 %07:28 am05:40 pm\\n 27\\n\\n  +48°\\n\\n  +46°\\n\\n  8.9 mph SW 30 inHg63 %07:30 am05:38 pm\\n 28\\n\\n  +50°\\n\\n  +45°\\n\\n  8.9 mph NW 30.4 inHg34 %07:31 am05:37 pm\\n 29\\n\\n  +55°\\n\\n  +46°\\n\\n  10.1 mph NW 30.4 inHg31 %07:33 am05:35 pm\\n 30\\n\\n  +59°\\n\\n  +57°\\n\\n  13.9 mph SW 30.5 inHg95 %07:34 am05:33 pm\\n 31\\n\\n  +57°\\n\\n  +55°\\n\\n  9.4 mph W 30.3 inHg69 %07:36 am05:32 pm\\n\\n## Extended weather forecast in Paris [...] +57°\\n\\n  5.4 mph N 30.3 inHg81 %08:03 am07:11 pm\\n 11\\n\\n  +64°\\n\\n  +55°\\n\\n  4.7 mph NE 30.4 inHg85 %08:05 am07:09 pm\\n 12\\n\\n  +64°\\n\\n  +54°\\n\\n  4.9 mph NE 30.4 inHg88 %08:06 am07:07 pm\\n 13\\n\\n  +63°\\n\\n  +54°\\n\\n  5.8 mph NE 30.2 inHg82 %08:08 am07:05 pm\\n 14\\n\\n  +63°\\n\\n  +55°\\n\\n  5.8 mph NE 30.2 inHg90 %08:09 am07:03 pm\\n 15\\n\\n  +61°\\n\\n  +54°\\n\\n  7.4 mph NE 30.2 inHg66 %08:11 am07:01 pm\\n 16\\n\\n  +59°\\n\\n  +54°\\n\\n  7.2 mph NE 30.2 inHg66 %08:12 am06:59 pm\\n 17\\n\\n  +61°\\n\\n  +54°\", \"score\": 0.575517}, {\"title\": \"Paris weather in October 2025 | France: How hot?\", \"url\": \"https://www.weather2travel.com/france/paris/october/\", \"content\": \"| Date | Sunrise times | Sunset times |\\n --- \\n| Wednesday, 1st October 2025 | 06:50 | 18:29 |\\n| Thursday, 16th October 2025 | 07:13 | 17:59 |\\n| Friday, 31st October 2025 | 07:36 | 17:32 |\\n\\n## Be inspired\\n\\nGet your weekly fix of holiday inspiration from some of the world's best travel writers plus save on your next trip with the latest exclusive offers\\n\\nWe promise not to share your details\\n\\n## Related posts [...] weather2travel.com - travel deals for your holiday in the sun\\nClick to search\\n\\n# Paris weather in October 2025\\n\\nExpect  daytime maximum temperatures of 16°C in Paris, France in October based on long-term weather averages. There are 4 hours of sunshine per day on average with 14 days with some rainfall and typically 59 mm of rainfall in the month. [...] An alternative guide to Paris during the Olympics\\nAn alternative guide to Paris during the Olympics\\nFree things to do in Paris in winter\\nFree things to do in Paris in winter\\nNice or Marseille: which French city should you choose?\\nNice or Marseille: which French city should you choose?\\n\\n### How warm is it in Paris in October?\\n\\nDaytime temperatures usually reach 16°C in Paris in October, falling to 8°C at night.\\n\\n### How sunny is it in Paris in October?\", \"score\": 0.43900222}, {\"title\": \"2025 - Paris, Ville de Paris, France Monthly Weather | AccuWeather\", \"url\": \"https://www.accuweather.com/en/fr/paris/75243/october-weather/179349_pc\", \"content\": \"# Paris, Ville de Paris\\n\\nParis\\n\\nVille de Paris\\n\\n## Around the Globe\\n\\nAround the Globe\\n\\n### Hurricane Tracker\\n\\n### Severe Weather\\n\\n### Radar & Maps\\n\\n### News & Features\\n\\n### Astronomy\\n\\n### Business\\n\\n### Climate\\n\\n### Health\\n\\n### Recreation\\n\\n### Sports\\n\\n### Travel\\n\\n### Warnings\\n\\n### Data Suite\\n\\n### Forensics\\n\\n### Advertising\\n\\n### Superior Accuracy™\\n\\n### Video\\n\\n## Monthly\\n\\n## October\\n\\n## 2025\\n\\n## Daily\\n\\n## Temperature Graph\\n\\n## Further Ahead\\n\\nFurther Ahead\\n\\n### November 2025\\n\\n### December 2025 [...] Drought lowering Mississippi River levels again, disrupting shipping\\n\\n3 hours ago\\n\\nSevere Weather\\n\\nTexas lawmakers launch new investigation into July flood disaster\\n\\n1 day ago\\n\\nFeatured Stories\\n\\nAccuWeather Ready\\n\\nDaylight Saving Time: 5 things to do after changing the clocks\\n\\n23 hours ago\\n\\nWinter Weather\\n\\nDeadly Mt. Everest blizzard had sleet and thundersnow\\n\\n2 days ago\\n\\nSevere Weather\\n\\n64 dead, many missing in southern Mexico floods\\n\\n3 days ago\\n\\nClimate [...] The planet hits its first climate tipping point, landmark report finds\\n\\n3 days ago\\n\\nWeather News\\n\\nGhostly shot of hyena wins Wildlife Photographer of the Year award\\n\\n1 day ago\\n\\n...\\n\\n...\\n\\n...\", \"score\": 0.2538892}]\n",
      "================================\u001b[1m Human Message \u001b[0m=================================\n",
      "\n",
      "then multiply that number by 2, and let me know the current temperature of capital city of france\n",
      "==================================\u001b[1m Ai Message \u001b[0m==================================\n",
      "\n",
      "- **Result of the arithmetic:**  \n",
      "  \\(50 \\times 2 = 100\\)\n",
      "\n",
      "- **Current temperature in Paris (capital city of France):**  \n",
      "  According to the latest forecast from AccuWeather, the temperature in Paris today is **about 63 °F (≈ 17 °C)**.\n",
      "================================\u001b[1m Human Message \u001b[0m=================================\n",
      "\n",
      "ok now convert that termperature into kelvin\n",
      "==================================\u001b[1m Ai Message \u001b[0m==================================\n",
      "\n",
      "**63 °F → 17.22 °C**  \n",
      "**17.22 °C → 290.37 K**\n",
      "\n",
      "So the current temperature in Paris is approximately **290 K** (rounded to the nearest kelvin).\n"
     ]
    }
   ],
   "source": [
    "messages=[HumanMessage(content=\"ok now convert that termperature into kelvin\")]\n",
    "messages=graph_with_memory.invoke({\"messages\":messages},config=config)\n",
    "for m in messages['messages']:\n",
    "    m.pretty_print()"
   ]
  },
  {
   "cell_type": "code",
   "execution_count": null,
   "id": "70484994",
   "metadata": {},
   "outputs": [],
   "source": []
  }
 ],
 "metadata": {
  "kernelspec": {
   "display_name": "torch-cuda12_8",
   "language": "python",
   "name": "python3"
  },
  "language_info": {
   "codemirror_mode": {
    "name": "ipython",
    "version": 3
   },
   "file_extension": ".py",
   "mimetype": "text/x-python",
   "name": "python",
   "nbconvert_exporter": "python",
   "pygments_lexer": "ipython3",
   "version": "3.12.11"
  }
 },
 "nbformat": 4,
 "nbformat_minor": 5
}
