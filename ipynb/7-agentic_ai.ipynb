{
 "cells": [
  {
   "cell_type": "markdown",
   "id": "bd6fc4f7",
   "metadata": {},
   "source": [
    "### Building chatbot with multiple tools using langgraph"
   ]
  },
  {
   "cell_type": "markdown",
   "id": "3978ca10",
   "metadata": {},
   "source": [
    "### Create a chatbot with tool capabilities with arxiv, wikipedia search and some functions"
   ]
  },
  {
   "cell_type": "code",
   "execution_count": 1,
   "id": "68d5ea4a",
   "metadata": {},
   "outputs": [],
   "source": [
    "from typing_extensions import TypedDict\n",
    "from langgraph.graph import StateGraph,START,END"
   ]
  },
  {
   "cell_type": "code",
   "execution_count": 11,
   "id": "23a8290e",
   "metadata": {},
   "outputs": [],
   "source": [
    "import os\n",
    "from dotenv import load_dotenv\n",
    "load_dotenv()\n",
    "os.environ[\"OPENAI_API_KEY\"]=os.getenv(\"OPENAI_API_KEY\")\n",
    "os.environ[\"GROQ_API_KEY\"]=os.getenv(\"GROQ_API_KEY\")\n",
    "os.environ[\"TAVILY_API_KEY\"]=os.getenv(\"TAVILY_API_KEY\")"
   ]
  },
  {
   "cell_type": "code",
   "execution_count": 3,
   "id": "440f133f",
   "metadata": {},
   "outputs": [
    {
     "name": "stderr",
     "output_type": "stream",
     "text": [
      "/home/sachchida/anaconda3/envs/torch-cuda12_8/lib/python3.12/site-packages/tqdm/auto.py:21: TqdmWarning: IProgress not found. Please update jupyter and ipywidgets. See https://ipywidgets.readthedocs.io/en/stable/user_install.html\n",
      "  from .autonotebook import tqdm as notebook_tqdm\n"
     ]
    },
    {
     "data": {
      "text/plain": [
       "AIMessage(content=\"Hi Sachchida, nice to meet you. It's great to hear that you're an AI enthusiast. Artificial Intelligence is a fascinating field with endless possibilities and applications. What aspects of AI interest you the most? Are you more into machine learning, natural language processing, computer vision, or something else?\", additional_kwargs={}, response_metadata={'token_usage': {'completion_tokens': 62, 'prompt_tokens': 46, 'total_tokens': 108, 'completion_time': 0.158216253, 'prompt_time': 0.002418389, 'queue_time': 0.048710351, 'total_time': 0.160634642}, 'model_name': 'llama-3.3-70b-versatile', 'system_fingerprint': 'fp_34d416ee39', 'service_tier': 'on_demand', 'finish_reason': 'stop', 'logprobs': None}, id='run--9ab46265-009b-4b95-89f0-e2292328261e-0', usage_metadata={'input_tokens': 46, 'output_tokens': 62, 'total_tokens': 108})"
      ]
     },
     "execution_count": 3,
     "metadata": {},
     "output_type": "execute_result"
    }
   ],
   "source": [
    "from langchain_groq import ChatGroq\n",
    "llm_groq=ChatGroq(model=\"llama-3.3-70b-versatile\")\n",
    "llm_groq.invoke(\"hi I am sachchida. I am AI enthusiast\")"
   ]
  },
  {
   "cell_type": "code",
   "execution_count": 5,
   "id": "1dbd2cf1",
   "metadata": {},
   "outputs": [],
   "source": [
    "from langchain_community.tools import ArxivQueryRun,WikipediaQueryRun\n",
    "from langchain_community.utilities import WikipediaAPIWrapper, ArxivAPIWrapper"
   ]
  },
  {
   "cell_type": "code",
   "execution_count": 7,
   "id": "954ccedd",
   "metadata": {},
   "outputs": [
    {
     "name": "stdout",
     "output_type": "stream",
     "text": [
      "arxiv\n"
     ]
    }
   ],
   "source": [
    "api_wrapper_arxiv=ArxivAPIWrapper(top_k_results=2, doc_content_chars_max=500)\n",
    "arxiv=ArxivQueryRun(api_wrapper=api_wrapper_arxiv)\n",
    "print(arxiv.name)"
   ]
  },
  {
   "cell_type": "code",
   "execution_count": 8,
   "id": "992f85fa",
   "metadata": {},
   "outputs": [
    {
     "data": {
      "text/plain": [
       "\"Published: 2024-07-22\\nTitle: Attention Is All You Need But You Don't Need All Of It For Inference of Large Language Models\\nAuthors: Georgy Tyukin, Gbetondji J-S Dovonon, Jean Kaddour, Pasquale Minervini\\nSummary: The inference demand for LLMs has skyrocketed in recent months, and serving\\nmodels with low latencies remains challenging due to the quadratic input length\\ncomplexity of the attention layers. In this work, we investigate the effect of\\ndropping MLP and attention layers at inference time o\""
      ]
     },
     "execution_count": 8,
     "metadata": {},
     "output_type": "execute_result"
    }
   ],
   "source": [
    "arxiv.invoke(\"Attention is all you need\")"
   ]
  },
  {
   "cell_type": "code",
   "execution_count": 9,
   "id": "5b34e09b",
   "metadata": {},
   "outputs": [
    {
     "name": "stdout",
     "output_type": "stream",
     "text": [
      "wikipedia\n"
     ]
    }
   ],
   "source": [
    "api_wrapper_wiki=WikipediaAPIWrapper(top_k_results=2, doc_content_chars_max=500)\n",
    "wiki=WikipediaQueryRun(api_wrapper=api_wrapper_wiki)\n",
    "print(wiki.name)"
   ]
  },
  {
   "cell_type": "code",
   "execution_count": 10,
   "id": "39d67ae5",
   "metadata": {},
   "outputs": [
    {
     "data": {
      "text/plain": [
       "'Page: Barack Obama\\nSummary: Barack Hussein Obama II (born August 4, 1961) is an American politician who served as the 44th president of the United States from 2009 to 2017. A member of the Democratic Party, he was the first African American president. Obama previously served as a U.S. senator representing Illinois from 2005 to 2008 and as an Illinois state senator from 1997 to 2004.\\nBorn in Honolulu, Hawaii, Obama graduated from Columbia University in 1983 with a Bachelor of Arts degree in polit'"
      ]
     },
     "execution_count": 10,
     "metadata": {},
     "output_type": "execute_result"
    }
   ],
   "source": [
    "wiki.invoke(\"barack obama\")"
   ]
  },
  {
   "cell_type": "code",
   "execution_count": 12,
   "id": "4796726f",
   "metadata": {},
   "outputs": [
    {
     "name": "stderr",
     "output_type": "stream",
     "text": [
      "/tmp/ipykernel_10472/3543858584.py:2: LangChainDeprecationWarning: The class `TavilySearchResults` was deprecated in LangChain 0.3.25 and will be removed in 1.0. An updated version of the class exists in the :class:`~langchain-tavily package and should be used instead. To use it run `pip install -U :class:`~langchain-tavily` and import as `from :class:`~langchain_tavily import TavilySearch``.\n",
      "  tavily=TavilySearchResults()\n"
     ]
    }
   ],
   "source": [
    "from langchain_community.tools.tavily_search import TavilySearchResults\n",
    "tavily=TavilySearchResults()"
   ]
  },
  {
   "cell_type": "code",
   "execution_count": 13,
   "id": "b94f70d3",
   "metadata": {},
   "outputs": [
    {
     "data": {
      "text/plain": [
       "[{'title': 'US dollar to Indian rupees Exchange Rate History - Wise',\n",
       "  'url': 'https://wise.com/us/currency-converter/usd-to-inr-rate/history',\n",
       "  'content': 'The exchange rate for US dollar to Indian rupees is currently 87.8944 today, reflecting a -0.184% change since yesterday. Over the past week, the value of US dollar has remained relatively stable, with a -1.059% decrease compared to its value 7 days ago. [...] During the past week, the exchange rate of US dollar to Indian rupees has fluctuated between a high of 88.8897 on 09-10-2025 and a low of 87.6904 on 16-10-2025. The largest 24-hour price movement occurred on 15-10-2025, with a -0.482% decrease in value.\\n\\n### USD to INR conversion chart\\n\\nPercentage change in the last last 1 day\\n\\n## 0\\n\\nWe use the real, mid-market rate with no sneaky mark-up to hide the fees.Learn more\\n\\n## Top currency pairings for USD\\n\\nPercentage change in the last 24 hours [...] | 1 USD to INR | Last 7 days |\\n --- |\\n| High | 88.8244 |\\n| Low | 87.8944 |\\n| Average | 88.6443 |\\n| Change | -1.04% |\\n\\n| 1 USD to INR | Last 7 days |\\n --- |\\n| High | 88.8244 |\\n| Low | 87.8944 |\\n| Average | 88.6443 |\\n| Change | -1.04% |\\n\\n| 1 USD to INR | Last 7 days |\\n --- |\\n| High | 88.8244 |\\n| Low | 87.8944 |\\n| Average | 88.6443 |\\n| Change | -1.04% |\\n\\n| 1 USD to INR | Last 7 days |\\n --- |\\n| High | 88.8244 |\\n| Low | 87.8944 |\\n| Average | 88.6443 |\\n| Change | -1.04% |',\n",
       "  'score': 0.8993429},\n",
       " {'title': 'USD to INR Exchange Rate History for 2025',\n",
       "  'url': 'https://www.exchange-rates.org/exchange-rate-history/usd-inr-2025',\n",
       "  'content': '| October 14, 2025 2025-10-14 | 1 USD = 88.782 INR 1 USD = 88.782 INR |\\n| October 15, 2025 2025-10-15 | 1 USD = 87.810 INR 1 USD = 87.810 INR |\\n| Worst USD to INR exchange rate in October 2025: $1 = ₹87.810   Best USD to INR exchange rate in October 2025: $1 = ₹88.866   Average USD to INR exchange rate in October 2025: $1 = ₹88.659 | | |\\n|  | | | [...] | September 30, 2025 2025-9-30 | 1 USD = 88.841 INR 1 USD = 88.841 INR |\\n| Worst USD to INR exchange rate in September 2025: $1 = ₹87.885   Best USD to INR exchange rate in September 2025: $1 = ₹88.841   Average USD to INR exchange rate in September 2025: $1 = ₹88.290 | | |\\n|  | | |\\n| October 2025 | | |\\n| Date | US Dollar to Indian Rupee |\\n| October 1, 2025 2025-10-1 | 1 USD = 88.683 INR 1 USD = 88.683 INR |\\n| October 2, 2025 2025-10-2 | 1 USD = 88.720 INR 1 USD = 88.720 INR | [...] | July 30, 2025 2025-7-30 | 1 USD = 87.671 INR 1 USD = 87.671 INR |\\n| July 31, 2025 2025-7-31 | 1 USD = 87.489 INR 1 USD = 87.489 INR |\\n| Worst USD to INR exchange rate in July 2025: $1 = ₹85.405   Best USD to INR exchange rate in July 2025: $1 = ₹87.671   Average USD to INR exchange rate in July 2025: $1 = ₹86.182 | | |\\n|  | | |\\n| August 2025 | | |\\n| Date | US Dollar to Indian Rupee |\\n| August 1, 2025 2025-8-1 | 1 USD = 87.167 INR 1 USD = 87.167 INR |',\n",
       "  'score': 0.8877607},\n",
       " {'title': 'Exchange rate from US Dollar to Indian Rupee - الان چند',\n",
       "  'url': 'https://alanchand.com/en/exchange-rates/usd-inr',\n",
       "  'content': 'English \\n\\nفارسی   Türkçe\\n\\n# US Dollar to Indian Rupee conversion calculator\\n\\n1USD  87.9356INR\\n\\n## Exchange rate from US Dollar to Indian Rupee\\n\\nThe US Dollar to Indian Rupee exchange rate today, Thursday 16 October 2025, is 87.9. That means 1 US Dollar equals 87.9 Indian Rupee. The US Dollar to Indian Rupee rate yesterday was 88.3.\\n\\n### US Dollar to Indian Rupee conversion statistics [...] |  |  |  |\\n --- \\n| 1 Indian Rupee | = | 0.01137 US Dollar |\\n| 10 Indian Rupee | = | 0.1137 US Dollar |\\n| 25 Indian Rupee | = | 0.284 US Dollar |\\n| 50 Indian Rupee | = | 0.569 US Dollar |\\n| 100 Indian Rupee | = | 1.137 US Dollar |\\n| 150 Indian Rupee | = | 1.706 US Dollar |\\n| 200 Indian Rupee | = | 2.27 US Dollar |\\n| 250 Indian Rupee | = | 2.84 US Dollar |\\n| 500 Indian Rupee | = | 5.69 US Dollar |\\n| 1,000 Indian Rupee | = | 11.37 US Dollar |\\n| 5,000 Indian Rupee | = | 56.9 US Dollar | [...] |  |  |  |\\n --- \\n| 1 US Dollar | = | 87.9 Indian Rupee |\\n| 10 US Dollar | = | 879 Indian Rupee |\\n| 25 US Dollar | = | 2,198 Indian Rupee |\\n| 50 US Dollar | = | 4,397 Indian Rupee |\\n| 100 US Dollar | = | 8,794 Indian Rupee |\\n| 150 US Dollar | = | 13,190 Indian Rupee |\\n| 200 US Dollar | = | 17,587 Indian Rupee |\\n| 250 US Dollar | = | 21,984 Indian Rupee |\\n| 500 US Dollar | = | 43,968 Indian Rupee |\\n| 1,000 US Dollar | = | 87,936 Indian Rupee |\\n| 5,000 US Dollar | = | 439,678 Indian Rupee |',\n",
       "  'score': 0.88564163},\n",
       " {'title': 'US dollars to Indian rupees Exchange Rate. Convert USD/INR - Wise',\n",
       "  'url': 'https://wise.com/us/currency-converter/usd-to-inr-rate',\n",
       "  'content': 'USD | INR || 1 USD | 87.89 INR |\\n| 5 USD | 439.47 INR |\\n| 10 USD | 878.93 INR |\\n| 20 USD | 1,757.87 INR |\\n| 50 USD | 4,394.67 INR |\\n| 100 USD | 8,789.34 INR |\\n| 250 USD | 21,973.35 INR |\\n| 300 USD | 26,368.02 INR |\\n| 500 USD | 43,946.70 INR |\\n| 600 USD | 52,736.04 INR |\\n| 1000 USD | 87,893.40 INR |\\n| 2000 USD | 175,786.80 INR |\\n| 5000 USD | 439,467 INR |\\n| 10000 USD | 878,934 INR |\\n| 25000 USD | 2,197,335 INR |\\n| 50000 USD | 4,394,670 INR |\\n| 100000 USD | 8,789,340 INR | [...] INR | USD || 1 INR | 0.01 USD |\\n| 5 INR | 0.06 USD |\\n| 10 INR | 0.11 USD |\\n| 20 INR | 0.23 USD |\\n| 50 INR | 0.57 USD |\\n| 100 INR | 1.14 USD |\\n| 250 INR | 2.84 USD |\\n| 500 INR | 5.69 USD |\\n| 1000 INR | 11.38 USD |\\n| 2000 INR | 22.75 USD |\\n| 5000 INR | 56.89 USD |\\n| 10000 INR | 113.77 USD |\\n| 25000 INR | 284.44 USD |\\n| 50000 INR | 568.87 USD |\\n| 100000 INR | 1,137.74 USD |\\n| 200000 INR | 2,275.48 USD |\\n| 1000000 INR | 11,377.40 USD |\\n| 5000000 INR | 56,887 USD |\\n| 10000000 INR | 113,774 USD | [...] | 1 USD to INR | Last 30 days | Last 90 days |\\n --- \\n| High | 88.8244 | 88.8244 |\\n| Low | 87.7450 | 86.1500 |\\n| Average | 88.5567 | 87.8313 |\\n| Change | 0.01% | 2.02% |\\n| View full history | | |\\n\\n## 1 USD to INR stats',\n",
       "  'score': 0.8616433},\n",
       " {'title': 'USD to INR | Convert US Dollar to Indian Rupee - Western Union',\n",
       "  'url': 'https://www.westernunion.com/us/en/currency-converter/usd-to-inr-rate.html',\n",
       "  'content': '# Convert {sendAmount} US Dollar to Indian Rupee\\n\\nConvert USD to INR now for today’s Western Union exchange rate. Enter the amount, choose your currencies, and see the latest rates. \\u200b\\n\\nFX: 1.00 USD –   Exchange Rates and Fees shown are estimates, vary by a number of factors including payment and payout methods, and are subject to change. To check current rates and other options, simply click “Send money”.\\u200b  X Fee:\\n\\nBe informed. Be aware. Protect yourself from fraud\\n\\nBe informed. Be aware. [...] .828%200-1.41-.499-1.41-1.255V13.393h3.706l-.052-4.595h-3.654V1.972l-5.338%201.337v5.489h-2.786l-.015%204.595h2.801zM266.636%2011.832V8.798h-4.699v23.988h5.648l-.046-14.67c.073-1.476.568-2.607%201.472-3.36%201.186-.99%203.033-1.328%205.486-1.003l.295.039.05-5.006-.23-.031c-3.384-.462-6.446.572-7.976%203.077%22%2F%3E%3Cg%20transform%3D%22translate(137.638%208 [...] .346%22%2F%3E%3C%2Fg%3E%3C%2Fsvg%3E)',\n",
       "  'score': 0.7938904}]"
      ]
     },
     "execution_count": 13,
     "metadata": {},
     "output_type": "execute_result"
    }
   ],
   "source": [
    "tavily.invoke(\"provide the current USD to INR conversion rate\")"
   ]
  },
  {
   "cell_type": "code",
   "execution_count": 14,
   "id": "d8bd2170",
   "metadata": {},
   "outputs": [],
   "source": [
    "### combine all the tools in the list\n",
    "tools=[arxiv,wiki,tavily]"
   ]
  },
  {
   "cell_type": "code",
   "execution_count": 22,
   "id": "4ecf529a",
   "metadata": {},
   "outputs": [],
   "source": [
    "### intialize my llm model\n",
    "from langchain_groq import ChatGroq\n",
    "llm=ChatGroq(model=\"openai/gpt-oss-20b\")\n",
    "### bind llm with tools (list of tools)\n",
    "llm_with_tools=llm.bind_tools(tools)"
   ]
  },
  {
   "cell_type": "code",
   "execution_count": 23,
   "id": "315c9302",
   "metadata": {},
   "outputs": [],
   "source": [
    "from langchain_core.messages import AIMessage, HumanMessage\n",
    "from pprint import pprint"
   ]
  },
  {
   "cell_type": "code",
   "execution_count": 24,
   "id": "03a1dc30",
   "metadata": {},
   "outputs": [
    {
     "data": {
      "text/plain": [
       "AIMessage(content='', additional_kwargs={'reasoning_content': \"We need to provide recent AI news. Likely need up-to-date info. Use tavily_search_results_json for current news. Let's search.\", 'tool_calls': [{'id': 'fc_c16ba15a-d6ff-42e3-850b-174a3cc34043', 'function': {'arguments': '{\"query\":\"recent AI news 2025 October\"}', 'name': 'tavily_search_results_json'}, 'type': 'function'}]}, response_metadata={'token_usage': {'completion_tokens': 63, 'prompt_tokens': 291, 'total_tokens': 354, 'completion_time': 0.063259625, 'prompt_time': 0.014084271, 'queue_time': 0.043323098, 'total_time': 0.077343896}, 'model_name': 'openai/gpt-oss-20b', 'system_fingerprint': 'fp_3d587a02fb', 'service_tier': 'on_demand', 'finish_reason': 'tool_calls', 'logprobs': None}, id='run--28b770ac-e89c-4de8-8251-940965784dbc-0', tool_calls=[{'name': 'tavily_search_results_json', 'args': {'query': 'recent AI news 2025 October'}, 'id': 'fc_c16ba15a-d6ff-42e3-850b-174a3cc34043', 'type': 'tool_call'}], usage_metadata={'input_tokens': 291, 'output_tokens': 63, 'total_tokens': 354})"
      ]
     },
     "execution_count": 24,
     "metadata": {},
     "output_type": "execute_result"
    }
   ],
   "source": [
    "llm_with_tools.invoke([HumanMessage(content=f\"what is the recent AI news\")])"
   ]
  },
  {
   "cell_type": "code",
   "execution_count": 25,
   "id": "5862fb00",
   "metadata": {},
   "outputs": [
    {
     "data": {
      "text/plain": [
       "[{'name': 'tavily_search_results_json',\n",
       "  'args': {'query': 'recent AI news'},\n",
       "  'id': 'fc_cff7315e-ba3e-45ef-aade-817e1be79a57',\n",
       "  'type': 'tool_call'}]"
      ]
     },
     "execution_count": 25,
     "metadata": {},
     "output_type": "execute_result"
    }
   ],
   "source": [
    "llm_with_tools.invoke([HumanMessage(content=f\"what is the recent AI news\")]).tool_calls"
   ]
  }
 ],
 "metadata": {
  "kernelspec": {
   "display_name": "torch-cuda12_8",
   "language": "python",
   "name": "python3"
  },
  "language_info": {
   "codemirror_mode": {
    "name": "ipython",
    "version": 3
   },
   "file_extension": ".py",
   "mimetype": "text/x-python",
   "name": "python",
   "nbconvert_exporter": "python",
   "pygments_lexer": "ipython3",
   "version": "3.12.11"
  }
 },
 "nbformat": 4,
 "nbformat_minor": 5
}
