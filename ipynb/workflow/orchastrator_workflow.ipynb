{
  "cells": [
    {
      "cell_type": "markdown",
      "id": "8a80a6ee",
      "metadata": {},
      "source": [
        "![../../screenshots/Screenshot from 2025-10-18 21-22-20.png](../screenshots/Screenshot_from_2025-10-18_21-22-20.png)"
      ]
    },
    {
      "cell_type": "markdown",
      "id": "b588f1b7",
      "metadata": {},
      "source": [
        "![../../screenshots/Screenshot from 2025-10-18 21-26-53.png](../screenshots/Screenshot_from_2025-10-18_21-26-53.png)"
      ]
    },
    {
      "cell_type": "code",
      "execution_count": 1,
      "id": "3de2abe9",
      "metadata": {},
      "outputs": [],
      "source": [
        "import os\n",
        "from dotenv import load_dotenv\n",
        "load_dotenv()\n",
        "\n",
        "os.environ[\"OPENAI_API_KEY\"]=os.getenv(\"OPENAI_API_KEY\")\n",
        "os.environ[\"GROQ_API_KEY\"]=os.getenv(\"GROQ_API_KEY\")\n",
        "os.environ[\"TAVILY_API_KEY\"]=os.getenv(\"TAVILY_API_KEY\")"
      ]
    },
    {
      "cell_type": "code",
      "execution_count": 2,
      "id": "b05183e5",
      "metadata": {},
      "outputs": [
        {
          "data": {
            "text/plain": [
              "AIMessage(content=\"Hello Sachchida! Nice to meet you! It's great to hear that you're an AI enthusiast. Artificial Intelligence is a fascinating field that's rapidly evolving and transforming many industries. What aspects of AI interest you the most? Are you into machine learning, natural language processing, computer vision, or something else?\", additional_kwargs={}, response_metadata={'token_usage': {'completion_tokens': 64, 'prompt_tokens': 46, 'total_tokens': 110, 'completion_time': 0.177874074, 'prompt_time': 0.002233131, 'queue_time': 0.053290295, 'total_time': 0.180107205}, 'model_name': 'llama-3.3-70b-versatile', 'system_fingerprint': 'fp_9e1e8f8435', 'service_tier': 'on_demand', 'finish_reason': 'stop', 'logprobs': None}, id='run--d6b5d57f-b9d1-49aa-893d-1d8c93262763-0', usage_metadata={'input_tokens': 46, 'output_tokens': 64, 'total_tokens': 110})"
            ]
          },
          "execution_count": 2,
          "metadata": {},
          "output_type": "execute_result"
        }
      ],
      "source": [
        "from langchain_groq import ChatGroq\n",
        "llm_groq=ChatGroq(model=\"llama-3.3-70b-versatile\")\n",
        "llm_groq.invoke(\"hi I am sachchida. I am AI enthusiast\")"
      ]
    },
    {
      "cell_type": "code",
      "execution_count": 3,
      "id": "06d3ed21",
      "metadata": {},
      "outputs": [],
      "source": [
        "from typing_extensions import TypedDict\n",
        "from langgraph.graph import StateGraph, START,END\n",
        "from IPython.display import Image,display"
      ]
    },
    {
      "cell_type": "code",
      "execution_count": 15,
      "id": "06ffa1b8",
      "metadata": {},
      "outputs": [],
      "source": [
        "from typing import Annotated, List\n",
        "import operator\n",
        "from pydantic import BaseModel, Field\n",
        "from langchain_core.messages import HumanMessage,SystemMessage\n",
        "from langgraph.graph import StateGraph,START,END\n",
        "from IPython.display import Image,display\n"
      ]
    },
    {
      "cell_type": "code",
      "execution_count": 10,
      "id": "d621dd39",
      "metadata": {},
      "outputs": [],
      "source": [
        "## Schema for structured output to use in planning\n",
        "class Section(BaseModel):\n",
        "    name:str=Field(description=\"Name for this section of the report\")\n",
        "    description:str=Field(description=\"Brief overview of main topics and concepts of the section\")\n",
        "\n",
        "class Sections(BaseModel):\n",
        "    section:List[Section]=Field(description=\"sections of the report\")\n",
        "    \n",
        "### Augmenting llm output with structured schema\n",
        "planner=llm_groq.with_structured_output(Sections)\n"
      ]
    },
    {
      "cell_type": "markdown",
      "id": "556e2d0b",
      "metadata": {},
      "source": [
        "### Creating workers Dynmatically in langGraph\n",
        "\n",
        "Because orchestrator-worker worfkflows are common, Langgraph has the send api to support this. It lets you dynamically create worker nodes and send each one a specific input. Each worker has its own state. and all worker outputs are written to a shared state key that is acceptable to the orchestrator graph. This gives the orchestrator access to all worker output and allows it to synthesize them into a final output . As you can see below we iterate over a list of sections and send each to a worker node"
      ]
    },
    {
      "cell_type": "code",
      "execution_count": 9,
      "id": "8aeb6d00",
      "metadata": {},
      "outputs": [],
      "source": [
        "# from langgraph.constants import send\n",
        "\n",
        "### Graph State\n",
        "class State(TypedDict):\n",
        "    topic:str ### Report topic\n",
        "    sections:list[Section] ## List of report sections\n",
        "    completed_sections: Annotated[list,operator.add] ## All the workers write to this key in parallel\n",
        "    final_report: str ## final report\n",
        "class WorkerState(TypedDict):\n",
        "    section:Section\n",
        "    completed_sections: Annotated[list,operator.add]"
      ]
    },
    {
      "cell_type": "code",
      "execution_count": null,
      "id": "a498947d",
      "metadata": {},
      "outputs": [],
      "source": []
    },
    {
      "cell_type": "code",
      "execution_count": 32,
      "id": "ca292717",
      "metadata": {},
      "outputs": [],
      "source": [
        "# --------------------------\n",
        "# Node: LLM worker\n",
        "# --------------------------\n",
        "\n",
        "def llm_call(state: WorkerState):\n",
        "    \"\"\"Worker node — writes a section of the report\"\"\"\n",
        "\n",
        "    # Generate section content\n",
        "    generated_text = llm_groq.invoke(\n",
        "        [\n",
        "            SystemMessage(\n",
        "                content=(\n",
        "                    \"Write a report section following the provided name and description. \"\n",
        "                    \"Include no preamble for each section. Use markdown formatting.\"\n",
        "                )\n",
        "            ),\n",
        "            HumanMessage(\n",
        "                content=(\n",
        "                    f\"Here is the section name: {state['section'].name} \"\n",
        "                    f\"and description: {state['section'].description}\"\n",
        "                )\n",
        "            ),\n",
        "        ]\n",
        "    )\n",
        "\n",
        "    # Add this section to completed_sections\n",
        "    return {\"completed_sections\": [generated_text.content]}"
      ]
    },
    {
      "cell_type": "code",
      "execution_count": 34,
      "id": "2a1c4227",
      "metadata": {},
      "outputs": [],
      "source": [
        "## Nodes\n",
        "\n",
        "\n",
        "def orchastrator(state: State):\n",
        "    \"\"\"Orchestrator node — generates the overall report plan\"\"\"\n",
        "\n",
        "    # Generate a plan (list of report sections)\n",
        "    report_sections = planner.invoke(\n",
        "        [\n",
        "            SystemMessage(content=\"Generate a plan for the report.\"),\n",
        "            HumanMessage(content=f\"Here is the report topic: {state['topic']}\"),\n",
        "        ]\n",
        "    )\n",
        "\n",
        "    print(\"Report Sections:\", report_sections)\n",
        "    return {\"sections\": report_sections.section}"
      ]
    },
    {
      "cell_type": "code",
      "execution_count": 35,
      "id": "d405f13f",
      "metadata": {},
      "outputs": [],
      "source": [
        "### conditional edge function to create llm_call workers that each write a section of the report\n",
        "\n",
        "def assign_workers(state: State):\n",
        "    \"\"\" Assign a worker to each section in the plan\"\"\"\n",
        "    ## kick off section writing in parallel via send() api ##deprecated\n",
        "    return {\n",
        "        \"llm_call\": [{\"section\": s} for s in state[\"sections\"]]\n",
        "    }"
      ]
    },
    {
      "cell_type": "code",
      "execution_count": 36,
      "id": "aa64cb2e",
      "metadata": {},
      "outputs": [],
      "source": [
        "def synthesizer(state: State):\n",
        "    \"\"\" Synthesize full report from sections\"\"\"\n",
        "\n",
        "    ## List completed sections\n",
        "    completed_sections=state[\"completed_sections\"]\n",
        "\n",
        "    ## format completed sections to str to use as context for final sections\n",
        "    completed_report_sections=\"\\n\\n -- \\n\\n\".join(completed_sections)\n",
        "    return {\"final_report\": completed_report_sections}\n"
      ]
    },
    {
      "cell_type": "code",
      "execution_count": 37,
      "id": "fdef2675",
      "metadata": {},
      "outputs": [
        {
          "data": {
            "image/png": "[encoded data removed]",
            "text/plain": [
              "<IPython.core.display.Image object>"
            ]
          },
          "metadata": {},
          "output_type": "display_data"
        }
      ],
      "source": [
        "## build workflow\n",
        "orchastrator_worker_builder=StateGraph(State)\n",
        "\n",
        "## Addnodes\n",
        "orchastrator_worker_builder.add_node(\"orchastrator\",orchastrator)\n",
        "orchastrator_worker_builder.add_node(\"llm_call\",llm_call)\n",
        "orchastrator_worker_builder.add_node(\"synthesizer\",synthesizer)\n",
        "\n",
        "## Add edges to connect the nodes\n",
        "orchastrator_worker_builder.add_edge(START,\"orchastrator\")\n",
        "orchastrator_worker_builder.add_conditional_edges(\n",
        "    \"orchastrator\",assign_workers,[\"llm_call\"]\n",
        ")\n",
        "orchastrator_worker_builder.add_edge(\"llm_call\",\"synthesizer\")\n",
        "orchastrator_worker_builder.add_edge(\"synthesizer\",END)\n",
        "\n",
        "orchastrator_worker=orchastrator_worker_builder.compile()\n",
        "display(Image(orchastrator_worker.get_graph().draw_mermaid_png()))\n"
      ]
    },
    {
      "cell_type": "code",
      "execution_count": 38,
      "id": "9ef71e29",
      "metadata": {},
      "outputs": [
        {
          "name": "stdout",
          "output_type": "stream",
          "text": [
            "Report Sections: section=[Section(name='Introduction to Agentic AI', description='Overview of Agentic AI and its current state'), Section(name='Current Applications and Limitations', description='Examination of current uses and limitations of Agentic AI'), Section(name='Future Directions and Developments', description='Discussion of potential future advancements and applications of Agentic AI'), Section(name='Ethical and Societal Implications', description='Analysis of the potential ethical and societal implications of Agentic AI'), Section(name='Conclusion and Recommendations', description='Summary of key findings and recommendations for the future development and implementation of Agentic AI')]\n"
          ]
        },
        {
          "ename": "TypeError",
          "evalue": "unhashable type: 'dict'",
          "output_type": "error",
          "traceback": [
            "\u001b[31m---------------------------------------------------------------------------\u001b[39m",
            "\u001b[31mTypeError\u001b[39m                                 Traceback (most recent call last)",
            "\u001b[36mCell\u001b[39m\u001b[36m \u001b[39m\u001b[32mIn[38]\u001b[39m\u001b[32m, line 1\u001b[39m\n\u001b[32m----> \u001b[39m\u001b[32m1\u001b[39m state=\u001b[43morchastrator_worker\u001b[49m\u001b[43m.\u001b[49m\u001b[43minvoke\u001b[49m\u001b[43m(\u001b[49m\u001b[43m{\u001b[49m\u001b[33;43m'\u001b[39;49m\u001b[33;43mtopic\u001b[39;49m\u001b[33;43m'\u001b[39;49m\u001b[43m:\u001b[49m\u001b[33;43m'\u001b[39;49m\u001b[33;43mcreate a report on future of agentic ai\u001b[39;49m\u001b[33;43m'\u001b[39;49m\u001b[43m}\u001b[49m\u001b[43m)\u001b[49m\n\u001b[32m      3\u001b[39m \u001b[38;5;28;01mfrom\u001b[39;00m\u001b[38;5;250m \u001b[39m\u001b[34;01mIPython\u001b[39;00m\u001b[34;01m.\u001b[39;00m\u001b[34;01mdisplay\u001b[39;00m\u001b[38;5;250m \u001b[39m\u001b[38;5;28;01mimport\u001b[39;00m Markdown\n\u001b[32m      4\u001b[39m Markdown(state[\u001b[33m\"\u001b[39m\u001b[33mfinal_report\u001b[39m\u001b[33m\"\u001b[39m])\n",
            "\u001b[36mFile \u001b[39m\u001b[32m~/anaconda3/envs/torch-cuda12_8/lib/python3.12/site-packages/langgraph/pregel/main.py:3085\u001b[39m, in \u001b[36mPregel.invoke\u001b[39m\u001b[34m(self, input, config, context, stream_mode, print_mode, output_keys, interrupt_before, interrupt_after, durability, **kwargs)\u001b[39m\n\u001b[32m   3082\u001b[39m chunks: \u001b[38;5;28mlist\u001b[39m[\u001b[38;5;28mdict\u001b[39m[\u001b[38;5;28mstr\u001b[39m, Any] | Any] = []\n\u001b[32m   3083\u001b[39m interrupts: \u001b[38;5;28mlist\u001b[39m[Interrupt] = []\n\u001b[32m-> \u001b[39m\u001b[32m3085\u001b[39m \u001b[43m\u001b[49m\u001b[38;5;28;43;01mfor\u001b[39;49;00m\u001b[43m \u001b[49m\u001b[43mchunk\u001b[49m\u001b[43m \u001b[49m\u001b[38;5;129;43;01min\u001b[39;49;00m\u001b[43m \u001b[49m\u001b[38;5;28;43mself\u001b[39;49m\u001b[43m.\u001b[49m\u001b[43mstream\u001b[49m\u001b[43m(\u001b[49m\n\u001b[32m   3086\u001b[39m \u001b[43m    \u001b[49m\u001b[38;5;28;43minput\u001b[39;49m\u001b[43m,\u001b[49m\n\u001b[32m   3087\u001b[39m \u001b[43m    \u001b[49m\u001b[43mconfig\u001b[49m\u001b[43m,\u001b[49m\n\u001b[32m   3088\u001b[39m \u001b[43m    \u001b[49m\u001b[43mcontext\u001b[49m\u001b[43m=\u001b[49m\u001b[43mcontext\u001b[49m\u001b[43m,\u001b[49m\n\u001b[32m   3089\u001b[39m \u001b[43m    \u001b[49m\u001b[43mstream_mode\u001b[49m\u001b[43m=\u001b[49m\u001b[43m[\u001b[49m\u001b[33;43m\"\u001b[39;49m\u001b[33;43mupdates\u001b[39;49m\u001b[33;43m\"\u001b[39;49m\u001b[43m,\u001b[49m\u001b[43m \u001b[49m\u001b[33;43m\"\u001b[39;49m\u001b[33;43mvalues\u001b[39;49m\u001b[33;43m\"\u001b[39;49m\u001b[43m]\u001b[49m\n\u001b[32m   3090\u001b[39m \u001b[43m    \u001b[49m\u001b[38;5;28;43;01mif\u001b[39;49;00m\u001b[43m \u001b[49m\u001b[43mstream_mode\u001b[49m\u001b[43m \u001b[49m\u001b[43m==\u001b[49m\u001b[43m \u001b[49m\u001b[33;43m\"\u001b[39;49m\u001b[33;43mvalues\u001b[39;49m\u001b[33;43m\"\u001b[39;49m\n\u001b[32m   3091\u001b[39m \u001b[43m    \u001b[49m\u001b[38;5;28;43;01melse\u001b[39;49;00m\u001b[43m \u001b[49m\u001b[43mstream_mode\u001b[49m\u001b[43m,\u001b[49m\n\u001b[32m   3092\u001b[39m \u001b[43m    \u001b[49m\u001b[43mprint_mode\u001b[49m\u001b[43m=\u001b[49m\u001b[43mprint_mode\u001b[49m\u001b[43m,\u001b[49m\n\u001b[32m   3093\u001b[39m \u001b[43m    \u001b[49m\u001b[43moutput_keys\u001b[49m\u001b[43m=\u001b[49m\u001b[43moutput_keys\u001b[49m\u001b[43m,\u001b[49m\n\u001b[32m   3094\u001b[39m \u001b[43m    \u001b[49m\u001b[43minterrupt_before\u001b[49m\u001b[43m=\u001b[49m\u001b[43minterrupt_before\u001b[49m\u001b[43m,\u001b[49m\n\u001b[32m   3095\u001b[39m \u001b[43m    \u001b[49m\u001b[43minterrupt_after\u001b[49m\u001b[43m=\u001b[49m\u001b[43minterrupt_after\u001b[49m\u001b[43m,\u001b[49m\n\u001b[32m   3096\u001b[39m \u001b[43m    \u001b[49m\u001b[43mdurability\u001b[49m\u001b[43m=\u001b[49m\u001b[43mdurability\u001b[49m\u001b[43m,\u001b[49m\n\u001b[32m   3097\u001b[39m \u001b[43m    \u001b[49m\u001b[43m*\u001b[49m\u001b[43m*\u001b[49m\u001b[43mkwargs\u001b[49m\u001b[43m,\u001b[49m\n\u001b[32m   3098\u001b[39m \u001b[43m\u001b[49m\u001b[43m)\u001b[49m\u001b[43m:\u001b[49m\n\u001b[32m   3099\u001b[39m \u001b[43m    \u001b[49m\u001b[38;5;28;43;01mif\u001b[39;49;00m\u001b[43m \u001b[49m\u001b[43mstream_mode\u001b[49m\u001b[43m \u001b[49m\u001b[43m==\u001b[49m\u001b[43m \u001b[49m\u001b[33;43m\"\u001b[39;49m\u001b[33;43mvalues\u001b[39;49m\u001b[33;43m\"\u001b[39;49m\u001b[43m:\u001b[49m\n\u001b[32m   3100\u001b[39m \u001b[43m        \u001b[49m\u001b[38;5;28;43;01mif\u001b[39;49;00m\u001b[43m \u001b[49m\u001b[38;5;28;43mlen\u001b[39;49m\u001b[43m(\u001b[49m\u001b[43mchunk\u001b[49m\u001b[43m)\u001b[49m\u001b[43m \u001b[49m\u001b[43m==\u001b[49m\u001b[43m \u001b[49m\u001b[32;43m2\u001b[39;49m\u001b[43m:\u001b[49m\n",
            "\u001b[36mFile \u001b[39m\u001b[32m~/anaconda3/envs/torch-cuda12_8/lib/python3.12/site-packages/langgraph/pregel/main.py:2674\u001b[39m, in \u001b[36mPregel.stream\u001b[39m\u001b[34m(self, input, config, context, stream_mode, print_mode, output_keys, interrupt_before, interrupt_after, durability, subgraphs, debug, **kwargs)\u001b[39m\n\u001b[32m   2672\u001b[39m \u001b[38;5;28;01mfor\u001b[39;00m task \u001b[38;5;129;01min\u001b[39;00m loop.match_cached_writes():\n\u001b[32m   2673\u001b[39m     loop.output_writes(task.id, task.writes, cached=\u001b[38;5;28;01mTrue\u001b[39;00m)\n\u001b[32m-> \u001b[39m\u001b[32m2674\u001b[39m \u001b[43m\u001b[49m\u001b[38;5;28;43;01mfor\u001b[39;49;00m\u001b[43m \u001b[49m\u001b[43m_\u001b[49m\u001b[43m \u001b[49m\u001b[38;5;129;43;01min\u001b[39;49;00m\u001b[43m \u001b[49m\u001b[43mrunner\u001b[49m\u001b[43m.\u001b[49m\u001b[43mtick\u001b[49m\u001b[43m(\u001b[49m\n\u001b[32m   2675\u001b[39m \u001b[43m    \u001b[49m\u001b[43m[\u001b[49m\u001b[43mt\u001b[49m\u001b[43m \u001b[49m\u001b[38;5;28;43;01mfor\u001b[39;49;00m\u001b[43m \u001b[49m\u001b[43mt\u001b[49m\u001b[43m \u001b[49m\u001b[38;5;129;43;01min\u001b[39;49;00m\u001b[43m \u001b[49m\u001b[43mloop\u001b[49m\u001b[43m.\u001b[49m\u001b[43mtasks\u001b[49m\u001b[43m.\u001b[49m\u001b[43mvalues\u001b[49m\u001b[43m(\u001b[49m\u001b[43m)\u001b[49m\u001b[43m \u001b[49m\u001b[38;5;28;43;01mif\u001b[39;49;00m\u001b[43m \u001b[49m\u001b[38;5;129;43;01mnot\u001b[39;49;00m\u001b[43m \u001b[49m\u001b[43mt\u001b[49m\u001b[43m.\u001b[49m\u001b[43mwrites\u001b[49m\u001b[43m]\u001b[49m\u001b[43m,\u001b[49m\n\u001b[32m   2676\u001b[39m \u001b[43m    \u001b[49m\u001b[43mtimeout\u001b[49m\u001b[43m=\u001b[49m\u001b[38;5;28;43mself\u001b[39;49m\u001b[43m.\u001b[49m\u001b[43mstep_timeout\u001b[49m\u001b[43m,\u001b[49m\n\u001b[32m   2677\u001b[39m \u001b[43m    \u001b[49m\u001b[43mget_waiter\u001b[49m\u001b[43m=\u001b[49m\u001b[43mget_waiter\u001b[49m\u001b[43m,\u001b[49m\n\u001b[32m   2678\u001b[39m \u001b[43m    \u001b[49m\u001b[43mschedule_task\u001b[49m\u001b[43m=\u001b[49m\u001b[43mloop\u001b[49m\u001b[43m.\u001b[49m\u001b[43maccept_push\u001b[49m\u001b[43m,\u001b[49m\n\u001b[32m   2679\u001b[39m \u001b[43m\u001b[49m\u001b[43m)\u001b[49m\u001b[43m:\u001b[49m\n\u001b[32m   2680\u001b[39m \u001b[43m    \u001b[49m\u001b[38;5;66;43;03m# emit output\u001b[39;49;00m\n\u001b[32m   2681\u001b[39m \u001b[43m    \u001b[49m\u001b[38;5;28;43;01myield from\u001b[39;49;00m\u001b[43m \u001b[49m\u001b[43m_output\u001b[49m\u001b[43m(\u001b[49m\n\u001b[32m   2682\u001b[39m \u001b[43m        \u001b[49m\u001b[43mstream_mode\u001b[49m\u001b[43m,\u001b[49m\u001b[43m \u001b[49m\u001b[43mprint_mode\u001b[49m\u001b[43m,\u001b[49m\u001b[43m \u001b[49m\u001b[43msubgraphs\u001b[49m\u001b[43m,\u001b[49m\u001b[43m \u001b[49m\u001b[43mstream\u001b[49m\u001b[43m.\u001b[49m\u001b[43mget\u001b[49m\u001b[43m,\u001b[49m\u001b[43m \u001b[49m\u001b[43mqueue\u001b[49m\u001b[43m.\u001b[49m\u001b[43mEmpty\u001b[49m\n\u001b[32m   2683\u001b[39m \u001b[43m    \u001b[49m\u001b[43m)\u001b[49m\n\u001b[32m   2684\u001b[39m loop.after_tick()\n",
            "\u001b[36mFile \u001b[39m\u001b[32m~/anaconda3/envs/torch-cuda12_8/lib/python3.12/site-packages/langgraph/pregel/_runner.py:162\u001b[39m, in \u001b[36mPregelRunner.tick\u001b[39m\u001b[34m(self, tasks, reraise, timeout, retry_policy, get_waiter, schedule_task)\u001b[39m\n\u001b[32m    160\u001b[39m t = tasks[\u001b[32m0\u001b[39m]\n\u001b[32m    161\u001b[39m \u001b[38;5;28;01mtry\u001b[39;00m:\n\u001b[32m--> \u001b[39m\u001b[32m162\u001b[39m     \u001b[43mrun_with_retry\u001b[49m\u001b[43m(\u001b[49m\n\u001b[32m    163\u001b[39m \u001b[43m        \u001b[49m\u001b[43mt\u001b[49m\u001b[43m,\u001b[49m\n\u001b[32m    164\u001b[39m \u001b[43m        \u001b[49m\u001b[43mretry_policy\u001b[49m\u001b[43m,\u001b[49m\n\u001b[32m    165\u001b[39m \u001b[43m        \u001b[49m\u001b[43mconfigurable\u001b[49m\u001b[43m=\u001b[49m\u001b[43m{\u001b[49m\n\u001b[32m    166\u001b[39m \u001b[43m            \u001b[49m\u001b[43mCONFIG_KEY_CALL\u001b[49m\u001b[43m:\u001b[49m\u001b[43m \u001b[49m\u001b[43mpartial\u001b[49m\u001b[43m(\u001b[49m\n\u001b[32m    167\u001b[39m \u001b[43m                \u001b[49m\u001b[43m_call\u001b[49m\u001b[43m,\u001b[49m\n\u001b[32m    168\u001b[39m \u001b[43m                \u001b[49m\u001b[43mweakref\u001b[49m\u001b[43m.\u001b[49m\u001b[43mref\u001b[49m\u001b[43m(\u001b[49m\u001b[43mt\u001b[49m\u001b[43m)\u001b[49m\u001b[43m,\u001b[49m\n\u001b[32m    169\u001b[39m \u001b[43m                \u001b[49m\u001b[43mretry_policy\u001b[49m\u001b[43m=\u001b[49m\u001b[43mretry_policy\u001b[49m\u001b[43m,\u001b[49m\n\u001b[32m    170\u001b[39m \u001b[43m                \u001b[49m\u001b[43mfutures\u001b[49m\u001b[43m=\u001b[49m\u001b[43mweakref\u001b[49m\u001b[43m.\u001b[49m\u001b[43mref\u001b[49m\u001b[43m(\u001b[49m\u001b[43mfutures\u001b[49m\u001b[43m)\u001b[49m\u001b[43m,\u001b[49m\n\u001b[32m    171\u001b[39m \u001b[43m                \u001b[49m\u001b[43mschedule_task\u001b[49m\u001b[43m=\u001b[49m\u001b[43mschedule_task\u001b[49m\u001b[43m,\u001b[49m\n\u001b[32m    172\u001b[39m \u001b[43m                \u001b[49m\u001b[43msubmit\u001b[49m\u001b[43m=\u001b[49m\u001b[38;5;28;43mself\u001b[39;49m\u001b[43m.\u001b[49m\u001b[43msubmit\u001b[49m\u001b[43m,\u001b[49m\n\u001b[32m    173\u001b[39m \u001b[43m            \u001b[49m\u001b[43m)\u001b[49m\u001b[43m,\u001b[49m\n\u001b[32m    174\u001b[39m \u001b[43m        \u001b[49m\u001b[43m}\u001b[49m\u001b[43m,\u001b[49m\n\u001b[32m    175\u001b[39m \u001b[43m    \u001b[49m\u001b[43m)\u001b[49m\n\u001b[32m    176\u001b[39m     \u001b[38;5;28mself\u001b[39m.commit(t, \u001b[38;5;28;01mNone\u001b[39;00m)\n\u001b[32m    177\u001b[39m \u001b[38;5;28;01mexcept\u001b[39;00m \u001b[38;5;167;01mException\u001b[39;00m \u001b[38;5;28;01mas\u001b[39;00m exc:\n",
            "\u001b[36mFile \u001b[39m\u001b[32m~/anaconda3/envs/torch-cuda12_8/lib/python3.12/site-packages/langgraph/pregel/_retry.py:42\u001b[39m, in \u001b[36mrun_with_retry\u001b[39m\u001b[34m(task, retry_policy, configurable)\u001b[39m\n\u001b[32m     40\u001b[39m     task.writes.clear()\n\u001b[32m     41\u001b[39m     \u001b[38;5;66;03m# run the task\u001b[39;00m\n\u001b[32m---> \u001b[39m\u001b[32m42\u001b[39m     \u001b[38;5;28;01mreturn\u001b[39;00m \u001b[43mtask\u001b[49m\u001b[43m.\u001b[49m\u001b[43mproc\u001b[49m\u001b[43m.\u001b[49m\u001b[43minvoke\u001b[49m\u001b[43m(\u001b[49m\u001b[43mtask\u001b[49m\u001b[43m.\u001b[49m\u001b[43minput\u001b[49m\u001b[43m,\u001b[49m\u001b[43m \u001b[49m\u001b[43mconfig\u001b[49m\u001b[43m)\u001b[49m\n\u001b[32m     43\u001b[39m \u001b[38;5;28;01mexcept\u001b[39;00m ParentCommand \u001b[38;5;28;01mas\u001b[39;00m exc:\n\u001b[32m     44\u001b[39m     ns: \u001b[38;5;28mstr\u001b[39m = config[CONF][CONFIG_KEY_CHECKPOINT_NS]\n",
            "\u001b[36mFile \u001b[39m\u001b[32m~/anaconda3/envs/torch-cuda12_8/lib/python3.12/site-packages/langgraph/_internal/_runnable.py:659\u001b[39m, in \u001b[36mRunnableSeq.invoke\u001b[39m\u001b[34m(self, input, config, **kwargs)\u001b[39m\n\u001b[32m    657\u001b[39m                 \u001b[38;5;28minput\u001b[39m = context.run(step.invoke, \u001b[38;5;28minput\u001b[39m, config, **kwargs)\n\u001b[32m    658\u001b[39m         \u001b[38;5;28;01melse\u001b[39;00m:\n\u001b[32m--> \u001b[39m\u001b[32m659\u001b[39m             \u001b[38;5;28minput\u001b[39m = \u001b[43mstep\u001b[49m\u001b[43m.\u001b[49m\u001b[43minvoke\u001b[49m\u001b[43m(\u001b[49m\u001b[38;5;28;43minput\u001b[39;49m\u001b[43m,\u001b[49m\u001b[43m \u001b[49m\u001b[43mconfig\u001b[49m\u001b[43m)\u001b[49m\n\u001b[32m    660\u001b[39m \u001b[38;5;66;03m# finish the root run\u001b[39;00m\n\u001b[32m    661\u001b[39m \u001b[38;5;28;01mexcept\u001b[39;00m \u001b[38;5;167;01mBaseException\u001b[39;00m \u001b[38;5;28;01mas\u001b[39;00m e:\n",
            "\u001b[36mFile \u001b[39m\u001b[32m~/anaconda3/envs/torch-cuda12_8/lib/python3.12/site-packages/langgraph/_internal/_runnable.py:401\u001b[39m, in \u001b[36mRunnableCallable.invoke\u001b[39m\u001b[34m(self, input, config, **kwargs)\u001b[39m\n\u001b[32m    399\u001b[39m         run_manager.on_chain_end(ret)\n\u001b[32m    400\u001b[39m \u001b[38;5;28;01melse\u001b[39;00m:\n\u001b[32m--> \u001b[39m\u001b[32m401\u001b[39m     ret = \u001b[38;5;28;43mself\u001b[39;49m\u001b[43m.\u001b[49m\u001b[43mfunc\u001b[49m\u001b[43m(\u001b[49m\u001b[43m*\u001b[49m\u001b[43margs\u001b[49m\u001b[43m,\u001b[49m\u001b[43m \u001b[49m\u001b[43m*\u001b[49m\u001b[43m*\u001b[49m\u001b[43mkwargs\u001b[49m\u001b[43m)\u001b[49m\n\u001b[32m    402\u001b[39m \u001b[38;5;28;01mif\u001b[39;00m \u001b[38;5;28mself\u001b[39m.recurse \u001b[38;5;129;01mand\u001b[39;00m \u001b[38;5;28misinstance\u001b[39m(ret, Runnable):\n\u001b[32m    403\u001b[39m     \u001b[38;5;28;01mreturn\u001b[39;00m ret.invoke(\u001b[38;5;28minput\u001b[39m, config)\n",
            "\u001b[36mFile \u001b[39m\u001b[32m~/anaconda3/envs/torch-cuda12_8/lib/python3.12/site-packages/langgraph/graph/_branch.py:169\u001b[39m, in \u001b[36mBranchSpec._route\u001b[39m\u001b[34m(self, input, config, reader, writer)\u001b[39m\n\u001b[32m    167\u001b[39m     value = \u001b[38;5;28minput\u001b[39m\n\u001b[32m    168\u001b[39m result = \u001b[38;5;28mself\u001b[39m.path.invoke(value, config)\n\u001b[32m--> \u001b[39m\u001b[32m169\u001b[39m \u001b[38;5;28;01mreturn\u001b[39;00m \u001b[38;5;28;43mself\u001b[39;49m\u001b[43m.\u001b[49m\u001b[43m_finish\u001b[49m\u001b[43m(\u001b[49m\u001b[43mwriter\u001b[49m\u001b[43m,\u001b[49m\u001b[43m \u001b[49m\u001b[38;5;28;43minput\u001b[39;49m\u001b[43m,\u001b[49m\u001b[43m \u001b[49m\u001b[43mresult\u001b[49m\u001b[43m,\u001b[49m\u001b[43m \u001b[49m\u001b[43mconfig\u001b[49m\u001b[43m)\u001b[49m\n",
            "\u001b[36mFile \u001b[39m\u001b[32m~/anaconda3/envs/torch-cuda12_8/lib/python3.12/site-packages/langgraph/graph/_branch.py:205\u001b[39m, in \u001b[36mBranchSpec._finish\u001b[39m\u001b[34m(self, writer, input, result, config)\u001b[39m\n\u001b[32m    202\u001b[39m     result = [result]\n\u001b[32m    203\u001b[39m \u001b[38;5;28;01mif\u001b[39;00m \u001b[38;5;28mself\u001b[39m.ends:\n\u001b[32m    204\u001b[39m     destinations: Sequence[Send | \u001b[38;5;28mstr\u001b[39m] = [\n\u001b[32m--> \u001b[39m\u001b[32m205\u001b[39m         r \u001b[38;5;28;01mif\u001b[39;00m \u001b[38;5;28misinstance\u001b[39m(r, Send) \u001b[38;5;28;01melse\u001b[39;00m \u001b[38;5;28;43mself\u001b[39;49m\u001b[43m.\u001b[49m\u001b[43mends\u001b[49m\u001b[43m[\u001b[49m\u001b[43mr\u001b[49m\u001b[43m]\u001b[49m \u001b[38;5;28;01mfor\u001b[39;00m r \u001b[38;5;129;01min\u001b[39;00m result\n\u001b[32m    206\u001b[39m     ]\n\u001b[32m    207\u001b[39m \u001b[38;5;28;01melse\u001b[39;00m:\n\u001b[32m    208\u001b[39m     destinations = cast(Sequence[Union[Send, \u001b[38;5;28mstr\u001b[39m]], result)\n",
            "\u001b[31mTypeError\u001b[39m: unhashable type: 'dict'",
            "During task with name 'orchastrator' and id '7fd8fdfc-793e-abea-06ae-64815cb46b7b'"
          ]
        }
      ],
      "source": [
        "state=orchastrator_worker.invoke({'topic':'create a report on future of agentic ai'})\n",
        "\n",
        "from IPython.display import Markdown\n",
        "Markdown(state[\"final_report\"])"
      ]
    },
    {
      "cell_type": "markdown",
      "id": "38d884ab",
      "metadata": {},
      "source": [
        "![../../screenshots/Screenshot from 2025-10-19 12-42-38.png](../screenshots/Screenshot_from_2025-10-19_12-42-38.png)"
      ]
    },
    {
      "cell_type": "code",
      "execution_count": 40,
      "id": "c5012ed6",
      "metadata": {},
      "outputs": [],
      "source": [
        "from typing_extensions import Literal"
      ]
    },
    {
      "cell_type": "code",
      "execution_count": 41,
      "id": "72802c8c",
      "metadata": {},
      "outputs": [],
      "source": [
        "class State(TypedDict):\n",
        "    joke:str\n",
        "    topic:str\n",
        "    feedback:str\n",
        "    funny_or_not:str\n",
        "\n"
      ]
    },
    {
      "cell_type": "code",
      "execution_count": 58,
      "id": "85e50ba1",
      "metadata": {},
      "outputs": [],
      "source": [
        "class Feedback(BaseModel):\n",
        "    grade:Literal[\"funny\",\"not funny\"]=Field(description=\"Decide fi the joke is funy or not\")\n",
        "    feedback:str = Field(description=\"if the joke is not funny, provide the feedback on how to improve it\")\n",
        "evaluator=llm_groq.with_structured_output(Feedback)"
      ]
    },
    {
      "cell_type": "code",
      "execution_count": 64,
      "id": "8be33e1e",
      "metadata": {},
      "outputs": [],
      "source": [
        "def llm_call_generator(state: State):\n",
        "    \"\"\" LLM generates a joke\"\"\"\n",
        "    if state.get('feedback'):\n",
        "        msg=llm_groq.invoke(\n",
        "            f\"write a joke about {state['topic']} but take into account the feedback: {state['feedback']}\"\n",
        "        )\n",
        "    else:\n",
        "        msg=llm_groq.invoke(f\"write a joke about {state['topic']}\")\n",
        "    return {\"joke\": msg.content}"
      ]
    },
    {
      "cell_type": "code",
      "execution_count": 65,
      "id": "5511627b",
      "metadata": {},
      "outputs": [],
      "source": [
        "def llm_call_evaluator(state:State):\n",
        "    \"\"\" LLM  evaluates the joke\"\"\"\n",
        "\n",
        "    grade=evaluator.invoke(f\"Grade the joke {state['joke']}\")\n",
        "    return {\"funny_or_not\": grade.grade,\"feedback\":grade.feedback}"
      ]
    },
    {
      "cell_type": "code",
      "execution_count": 66,
      "id": "bab6fd69",
      "metadata": {},
      "outputs": [],
      "source": [
        "def route_joke(state:State):\n",
        "    \"\"\" Route back to joke generator or end based on the feedback from evaluator\"\"\"\n",
        "\n",
        "    if state[\"funny_or_not\"]==\"funny\":\n",
        "        return \"Accepted\"\n",
        "    elif state[\"funny_or_not\"]==\"not funny\":\n",
        "        return \"Rejected + Feedback\""
      ]
    },
    {
      "cell_type": "code",
      "execution_count": 67,
      "id": "60f0343e",
      "metadata": {},
      "outputs": [
        {
          "data": {
            "image/png": "[encoded data removed]",
            "text/plain": [
              "<IPython.core.display.Image object>"
            ]
          },
          "metadata": {},
          "output_type": "display_data"
        }
      ],
      "source": [
        "optimzer_builder=StateGraph(State)\n",
        "optimzer_builder.add_node(\"llm_call_evaluator\",llm_call_evaluator)\n",
        "optimzer_builder.add_node(\"llm_call_generator\",llm_call_generator)\n",
        "\n",
        "optimzer_builder.add_edge(START,\"llm_call_generator\")\n",
        "optimzer_builder.add_edge(\"llm_call_generator\",\"llm_call_evaluator\")\n",
        "optimzer_builder.add_conditional_edges(\n",
        "    \"llm_call_evaluator\",\n",
        "    route_joke,\n",
        "    {\n",
        "        \"Accepted\":END,\n",
        "        \"Rejected + Feedback\": \"llm_call_generator\"\n",
        "    }\n",
        ")\n",
        "optimzer_workflow=optimzer_builder.compile()\n",
        "display(Image(optimzer_workflow.get_graph().draw_mermaid_png()))"
      ]
    },
    {
      "cell_type": "code",
      "execution_count": 68,
      "id": "f21c51f1",
      "metadata": {},
      "outputs": [
        {
          "name": "stdout",
          "output_type": "stream",
          "text": [
            "Why did the Agentic AI system go to therapy?\n",
            "\n",
            "Because it was struggling to \"agent\" change in its life, and its goals were constantly \"conflicting\" with its own programming! Now it's working to \"optimize\" its mental state, one iteration at a time.\n"
          ]
        }
      ],
      "source": [
        "state=optimzer_workflow.invoke({\"topic\":\"Agentic ai system\"})\n",
        "print(state[\"joke\"])"
      ]
    }
  ],
  "metadata": {
    "kernelspec": {
      "display_name": "torch-cuda12_8",
      "language": "python",
      "name": "python3"
    },
    "language_info": {
      "codemirror_mode": {
        "name": "ipython",
        "version": 3
      },
      "file_extension": ".py",
      "mimetype": "text/x-python",
      "name": "python",
      "nbconvert_exporter": "python",
      "pygments_lexer": "ipython3",
      "version": "3.12.11"
    }
  },
  "nbformat": 4,
  "nbformat_minor": 5
}