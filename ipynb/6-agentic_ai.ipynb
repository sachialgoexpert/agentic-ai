{
 "cells": [
  {
   "cell_type": "code",
   "execution_count": 2,
   "id": "23529898",
   "metadata": {},
   "outputs": [],
   "source": [
    "from typing_extensions import TypedDict\n",
    "from langgraph.graph import StateGraph,START,END"
   ]
  },
  {
   "cell_type": "code",
   "execution_count": 3,
   "id": "6de348ff",
   "metadata": {},
   "outputs": [],
   "source": [
    "### Reducers\n",
    "from typing import Annotated\n",
    "from langgraph.graph.message import add_messages"
   ]
  },
  {
   "cell_type": "code",
   "execution_count": 4,
   "id": "e775ca2c",
   "metadata": {},
   "outputs": [],
   "source": [
    "class State(TypedDict):\n",
    "    messages:Annotated[list,add_messages]"
   ]
  },
  {
   "cell_type": "code",
   "execution_count": 5,
   "id": "357fc794",
   "metadata": {},
   "outputs": [],
   "source": [
    "import os\n",
    "from dotenv import load_dotenv\n",
    "load_dotenv()\n",
    "os.environ[\"OPENAI_API_KEY\"]=os.getenv(\"OPENAI_API_KEY\")\n",
    "os.environ[\"GROQ_API_KEY\"]=os.getenv(\"GROQ_API_KEY\")"
   ]
  },
  {
   "cell_type": "code",
   "execution_count": 6,
   "id": "c4242d9f",
   "metadata": {},
   "outputs": [],
   "source": [
    "from langchain_openai import ChatOpenAI\n",
    "llm=ChatOpenAI(model=\"gpt-4.1-nano\")\n",
    "# llm.invoke(\"hell\")"
   ]
  },
  {
   "cell_type": "code",
   "execution_count": 7,
   "id": "6266d19d",
   "metadata": {},
   "outputs": [
    {
     "data": {
      "text/plain": [
       "AIMessage(content=\"Hello Sachchida, nice to meet you. It's great to hear that you're an AI enthusiast. Artificial Intelligence is a fascinating field that's constantly evolving and has the potential to revolutionize many aspects of our lives. What specifically interests you about AI? Are you exploring machine learning, natural language processing, or something else?\", additional_kwargs={}, response_metadata={'token_usage': {'completion_tokens': 67, 'prompt_tokens': 46, 'total_tokens': 113, 'completion_time': 0.184914447, 'prompt_time': 0.002349316, 'queue_time': 0.04873589, 'total_time': 0.187263763}, 'model_name': 'llama-3.3-70b-versatile', 'system_fingerprint': 'fp_34d416ee39', 'service_tier': 'on_demand', 'finish_reason': 'stop', 'logprobs': None}, id='run--22d2e65c-e0ad-44f0-93f3-a4158bd27d85-0', usage_metadata={'input_tokens': 46, 'output_tokens': 67, 'total_tokens': 113})"
      ]
     },
     "execution_count": 7,
     "metadata": {},
     "output_type": "execute_result"
    }
   ],
   "source": [
    "from langchain_groq import ChatGroq\n",
    "llm_groq=ChatGroq(model=\"llama-3.3-70b-versatile\")\n",
    "llm_groq.invoke(\"hi I am sachchida. I am AI enthusiast\")"
   ]
  },
  {
   "cell_type": "code",
   "execution_count": 8,
   "id": "efe83cc4",
   "metadata": {},
   "outputs": [],
   "source": [
    "def superbot(state:State):\n",
    "    return {\"messages\": llm_groq.invoke(state[\"messages\"])}"
   ]
  },
  {
   "cell_type": "code",
   "execution_count": 9,
   "id": "93a1de4d",
   "metadata": {},
   "outputs": [
    {
     "data": {
      "image/png": "[encoded data removed]",
      "text/plain": [
       "<IPython.core.display.Image object>"
      ]
     },
     "metadata": {},
     "output_type": "display_data"
    }
   ],
   "source": [
    "from IPython.display import Image,display\n",
    "graph=StateGraph(State)\n",
    "graph.add_node(\"superbot\",superbot)\n",
    "graph.add_edge(START,\"superbot\")\n",
    "graph.add_edge(\"superbot\",END)\n",
    "graph_builder=graph.compile()\n",
    "## display\n",
    "display(Image(graph_builder.get_graph().draw_mermaid_png()))"
   ]
  },
  {
   "cell_type": "code",
   "execution_count": 10,
   "id": "52c21a1c",
   "metadata": {},
   "outputs": [
    {
     "data": {
      "text/plain": [
       "{'messages': [HumanMessage(content='Hi My Nameis Sachchida I like cricket and I am an AI enthusiast', additional_kwargs={}, response_metadata={}, id='feb999d9-3707-49f4-9b05-fb69dc3f7b8b'),\n",
       "  AIMessage(content=\"Nice to meet you, Sachchida. It's great to hear that you're passionate about cricket and AI. Cricket is an exciting sport with a huge following worldwide, and AI is a rapidly evolving field with many interesting applications.\\n\\nAs an AI enthusiast, you might be interested to know that AI and machine learning are being increasingly used in cricket to improve player performance, analyze games, and even predict outcomes. For example, AI-powered systems can analyze a player's batting or bowling technique, providing insights to help them improve. AI can also be used to analyze large amounts of data from past games to identify patterns and trends, which can inform coaching decisions and strategy.\\n\\nWhat aspect of AI are you most interested in, Sachchida? Are you more into the technical side of things, or do you like exploring the practical applications of AI in various fields, including cricket?\", additional_kwargs={}, response_metadata={'token_usage': {'completion_tokens': 174, 'prompt_tokens': 51, 'total_tokens': 225, 'completion_time': 0.486435995, 'prompt_time': 0.002465545, 'queue_time': 0.050019605, 'total_time': 0.48890154}, 'model_name': 'llama-3.3-70b-versatile', 'system_fingerprint': 'fp_9e1e8f8435', 'service_tier': 'on_demand', 'finish_reason': 'stop', 'logprobs': None}, id='run--c4d48f7e-d274-45e4-82cd-e34f80ed01d9-0', usage_metadata={'input_tokens': 51, 'output_tokens': 174, 'total_tokens': 225})]}"
      ]
     },
     "execution_count": 10,
     "metadata": {},
     "output_type": "execute_result"
    }
   ],
   "source": [
    "graph_builder.invoke({'messages':'Hi My Nameis Sachchida I like cricket and I am an AI enthusiast'})"
   ]
  },
  {
   "cell_type": "markdown",
   "id": "94d33333",
   "metadata": {},
   "source": [
    "### Because we are usign reducers Human message and AIMessage both are appeneded in messages"
   ]
  },
  {
   "cell_type": "markdown",
   "id": "cf1bf3fa",
   "metadata": {},
   "source": [
    "### Streaming the responses"
   ]
  },
  {
   "cell_type": "code",
   "execution_count": 11,
   "id": "3ae43875",
   "metadata": {},
   "outputs": [
    {
     "data": {
      "text/plain": [
       "<generator object Pregel.stream at 0x32bbdc0>"
      ]
     },
     "execution_count": 11,
     "metadata": {},
     "output_type": "execute_result"
    }
   ],
   "source": [
    "graph_builder.stream({\"messages\":\"Hello\"})"
   ]
  },
  {
   "cell_type": "code",
   "execution_count": 12,
   "id": "65b1a34e",
   "metadata": {},
   "outputs": [
    {
     "name": "stdout",
     "output_type": "stream",
     "text": [
      "{'messages': [HumanMessage(content='Hi This side Sachchida', additional_kwargs={}, response_metadata={}, id='59a549dc-24a5-4d68-affa-bdbcfa39648e')]}\n",
      "{'messages': [HumanMessage(content='Hi This side Sachchida', additional_kwargs={}, response_metadata={}, id='59a549dc-24a5-4d68-affa-bdbcfa39648e'), AIMessage(content='Hello Sachchida, how can I assist you today?', additional_kwargs={}, response_metadata={'token_usage': {'completion_tokens': 13, 'prompt_tokens': 41, 'total_tokens': 54, 'completion_time': 0.030388832, 'prompt_time': 0.00204889, 'queue_time': 0.048454696, 'total_time': 0.032437722}, 'model_name': 'llama-3.3-70b-versatile', 'system_fingerprint': 'fp_34d416ee39', 'service_tier': 'on_demand', 'finish_reason': 'stop', 'logprobs': None}, id='run--c48df75e-10f4-4e89-a782-977a69d2a490-0', usage_metadata={'input_tokens': 41, 'output_tokens': 13, 'total_tokens': 54})]}\n"
     ]
    }
   ],
   "source": [
    "for event in graph_builder.stream({\"messages\":\"Hi This side Sachchida\"},stream_mode=\"values\"):\n",
    "    print(event)"
   ]
  },
  {
   "cell_type": "code",
   "execution_count": 13,
   "id": "3b1835e2",
   "metadata": {},
   "outputs": [
    {
     "name": "stdout",
     "output_type": "stream",
     "text": [
      "{'superbot': {'messages': AIMessage(content='Hello Sachchida, how are you today? Is there something I can help you with or would you like to chat?', additional_kwargs={}, response_metadata={'token_usage': {'completion_tokens': 26, 'prompt_tokens': 41, 'total_tokens': 67, 'completion_time': 0.072292804, 'prompt_time': 0.001880715, 'queue_time': 0.048391305, 'total_time': 0.074173519}, 'model_name': 'llama-3.3-70b-versatile', 'system_fingerprint': 'fp_155ab82e98', 'service_tier': 'on_demand', 'finish_reason': 'stop', 'logprobs': None}, id='run--451260d1-11e2-4f8b-be01-befae83fe0bb-0', usage_metadata={'input_tokens': 41, 'output_tokens': 26, 'total_tokens': 67})}}\n"
     ]
    }
   ],
   "source": [
    "### Stream mode update\n",
    "for event in graph_builder.stream({\"messages\":\"Hi This side Sachchida\"},stream_mode=\"updates\"):\n",
    "    print(event)"
   ]
  },
  {
   "cell_type": "markdown",
   "id": "0e91bfe7",
   "metadata": {},
   "source": [
    "##### Tool calling"
   ]
  },
  {
   "cell_type": "code",
   "execution_count": 14,
   "id": "6d845cbb",
   "metadata": {},
   "outputs": [],
   "source": [
    "def add(a:int, b:int)-> int:\n",
    "    \"\"\" Add a and b\n",
    "    Args:\n",
    "        a (int) first int\n",
    "        b (int) second int\n",
    "\n",
    "        Returns:\n",
    "            int\n",
    "    \"\"\"\n",
    "    print(\"a->\",a)\n",
    "    print(\"b->\",b)\n",
    "    return a+b"
   ]
  },
  {
   "cell_type": "markdown",
   "id": "916241cd",
   "metadata": {},
   "source": [
    "### binding tool with llm"
   ]
  },
  {
   "cell_type": "code",
   "execution_count": 15,
   "id": "6b75d8e9",
   "metadata": {},
   "outputs": [],
   "source": [
    "from langchain_core.messages import HumanMessage,AIMessage"
   ]
  },
  {
   "cell_type": "code",
   "execution_count": 16,
   "id": "30dd128b",
   "metadata": {},
   "outputs": [],
   "source": [
    "llm_with_tool=llm.bind_tools([add])\n",
    "tool_call=llm_with_tool.invoke([HumanMessage(content=f\"What is 2 plus 2\",name=\"Sachi\")])"
   ]
  },
  {
   "cell_type": "code",
   "execution_count": 17,
   "id": "71a31e2c",
   "metadata": {},
   "outputs": [
    {
     "data": {
      "text/plain": [
       "[{'name': 'add',\n",
       "  'args': {'a': 2, 'b': 2},\n",
       "  'id': 'call_BhgifDRiaMedsO3usBheZDXt',\n",
       "  'type': 'tool_call'}]"
      ]
     },
     "execution_count": 17,
     "metadata": {},
     "output_type": "execute_result"
    }
   ],
   "source": [
    "tool_call.tool_calls"
   ]
  },
  {
   "cell_type": "markdown",
   "id": "7d98e888",
   "metadata": {},
   "source": [
    "### Messages as State"
   ]
  },
  {
   "cell_type": "code",
   "execution_count": 18,
   "id": "9f8f4306",
   "metadata": {},
   "outputs": [],
   "source": [
    "from typing_extensions import TypedDict\n",
    "from langchain_core.messages import AnyMessage\n",
    "from langgraph.graph.message import add_messages\n",
    "from typing import Annotated\n",
    "\n",
    "class State(TypedDict):\n",
    "    messages:Annotated[list[AnyMessage],add_messages]\n",
    "    # name:str\n",
    "\n"
   ]
  },
  {
   "cell_type": "markdown",
   "id": "0af579fa",
   "metadata": {},
   "source": [
    "### Reducers with add_messages"
   ]
  },
  {
   "cell_type": "code",
   "execution_count": 19,
   "id": "b4ab6b3e",
   "metadata": {},
   "outputs": [
    {
     "data": {
      "text/plain": [
       "[AIMessage(content='Please tell me how can I help', additional_kwargs={}, response_metadata={}, name='LLModel'),\n",
       " HumanMessage(content='I want to learn coding', additional_kwargs={}, response_metadata={}, name='Sachi')]"
      ]
     },
     "execution_count": 19,
     "metadata": {},
     "output_type": "execute_result"
    }
   ],
   "source": [
    "initial_messages=[AIMessage(content=f\"Please tell me how can I help\",name=\"LLModel\")]\n",
    "initial_messages.append(HumanMessage(content=f\"I want to learn coding\",name=\"Sachi\"))\n",
    "initial_messages"
   ]
  },
  {
   "cell_type": "code",
   "execution_count": 20,
   "id": "85f6d1a9",
   "metadata": {},
   "outputs": [
    {
     "data": {
      "text/plain": [
       "AIMessage(content='which programming language you want to learn', additional_kwargs={}, response_metadata={}, name='LLMModel')"
      ]
     },
     "execution_count": 20,
     "metadata": {},
     "output_type": "execute_result"
    }
   ],
   "source": [
    "ai_message=AIMessage(content=f\"which programming language you want to learn\",name=\"LLMModel\")\n",
    "ai_message"
   ]
  },
  {
   "cell_type": "code",
   "execution_count": 21,
   "id": "effe128c",
   "metadata": {},
   "outputs": [
    {
     "data": {
      "text/plain": [
       "[AIMessage(content='Please tell me how can I help', additional_kwargs={}, response_metadata={}, name='LLModel', id='6496c982-a04e-4a4f-8845-75cf3f1743b4'),\n",
       " HumanMessage(content='I want to learn coding', additional_kwargs={}, response_metadata={}, name='Sachi', id='a09525c4-ea5b-4ddf-a265-a78eb5ba6df5'),\n",
       " AIMessage(content='which programming language you want to learn', additional_kwargs={}, response_metadata={}, name='LLMModel', id='8bc619d4-d064-4b8f-a606-e5818dcdbc13')]"
      ]
     },
     "execution_count": 21,
     "metadata": {},
     "output_type": "execute_result"
    }
   ],
   "source": [
    "### usign reducer add_message\n",
    "### Reducers is used to append instaed of override\n",
    "add_messages(initial_messages,ai_message)"
   ]
  },
  {
   "cell_type": "markdown",
   "id": "2f0b1371",
   "metadata": {},
   "source": [
    "### chatbot node functionality"
   ]
  },
  {
   "cell_type": "code",
   "execution_count": 33,
   "id": "f16cff75",
   "metadata": {},
   "outputs": [],
   "source": [
    "def llm_tool(state:State):\n",
    "    return {\"messages\":[llm_with_tool.invoke(state[\"messages\"])]}"
   ]
  },
  {
   "cell_type": "code",
   "execution_count": 34,
   "id": "8c511840",
   "metadata": {},
   "outputs": [],
   "source": [
    "from IPython.display import Image,display\n",
    "from langgraph.graph import StateGraph,START,END\n",
    "builder=StateGraph(State)\n",
    "\n",
    "builder.add_node(\"llm_tool\",llm_tool)\n",
    "builder.add_edge(START,\"llm_tool\")\n",
    "builder.add_edge(\"llm_tool\",END)\n",
    "\n",
    "graph=builder.compile()"
   ]
  },
  {
   "cell_type": "code",
   "execution_count": 35,
   "id": "7ee44413",
   "metadata": {},
   "outputs": [
    {
     "data": {
      "image/png": "[encoded data removed]",
      "text/plain": [
       "<IPython.core.display.Image object>"
      ]
     },
     "metadata": {},
     "output_type": "display_data"
    }
   ],
   "source": [
    "display(Image(graph.get_graph().draw_mermaid_png()))"
   ]
  },
  {
   "cell_type": "code",
   "execution_count": 36,
   "id": "0fe14a84",
   "metadata": {},
   "outputs": [],
   "source": [
    "from pprint import pprint, PrettyPrinter"
   ]
  },
  {
   "cell_type": "code",
   "execution_count": 37,
   "id": "743cf133",
   "metadata": {},
   "outputs": [
    {
     "name": "stdout",
     "output_type": "stream",
     "text": [
      "================================\u001b[1m Human Message \u001b[0m=================================\n",
      "\n",
      "what is 2 plus 2\n",
      "==================================\u001b[1m Ai Message \u001b[0m==================================\n",
      "Tool Calls:\n",
      "  add (call_9LarSzKrOlNr8Ic3TSt23nor)\n",
      " Call ID: call_9LarSzKrOlNr8Ic3TSt23nor\n",
      "  Args:\n",
      "    a: 2\n",
      "    b: 2\n"
     ]
    }
   ],
   "source": [
    "### Invocation\n",
    "messages=graph.invoke({\"messages\":\"what is 2 plus 2\"})\n",
    "\n",
    "for message in messages[\"messages\"]:\n",
    "    message.pretty_print()"
   ]
  },
  {
   "cell_type": "code",
   "execution_count": 38,
   "id": "2c1e0ba5",
   "metadata": {},
   "outputs": [],
   "source": [
    "tools=[add]"
   ]
  },
  {
   "cell_type": "code",
   "execution_count": 40,
   "id": "fc742bb3",
   "metadata": {},
   "outputs": [],
   "source": [
    "from langgraph.prebuilt import ToolNode\n",
    "from langgraph.prebuilt import tools_condition\n",
    "builder=StateGraph(State)\n",
    "\n",
    "## Add nodes\n",
    "builder.add_node(\"llm_tool\",llm_tool)\n",
    "builder.add_node(\"tools\",ToolNode(tools))\n",
    "## Add Edges\n",
    "builder.add_edge(START,\"llm_tool\")\n",
    "builder.add_conditional_edges(\"llm_tool\",tools_condition)\n",
    "### If the latest message (result) from assistant is a tool call -> tool_condition routes to tool\n",
    "### if the latest message (result) from assistant is not a tool call -> tool condition rountes to END\n",
    "builder.add_edge(\"tools\",END)\n",
    "graph_tool=builder.compile()\n"
   ]
  },
  {
   "cell_type": "code",
   "execution_count": 41,
   "id": "4be78917",
   "metadata": {},
   "outputs": [
    {
     "data": {
      "image/png": "[encoded data removed]",
      "text/plain": [
       "<IPython.core.display.Image object>"
      ]
     },
     "metadata": {},
     "output_type": "display_data"
    }
   ],
   "source": [
    "display(Image(graph_tool.get_graph().draw_mermaid_png()))"
   ]
  },
  {
   "cell_type": "code",
   "execution_count": 42,
   "id": "4619a429",
   "metadata": {},
   "outputs": [
    {
     "name": "stdout",
     "output_type": "stream",
     "text": [
      "a-> 2\n",
      "b-> 2\n",
      "================================\u001b[1m Human Message \u001b[0m=================================\n",
      "\n",
      "what is 2 plus 2\n",
      "==================================\u001b[1m Ai Message \u001b[0m==================================\n",
      "Tool Calls:\n",
      "  add (call_IwPdyMvhdW8dsbFlur3gPfZC)\n",
      " Call ID: call_IwPdyMvhdW8dsbFlur3gPfZC\n",
      "  Args:\n",
      "    a: 2\n",
      "    b: 2\n",
      "=================================\u001b[1m Tool Message \u001b[0m=================================\n",
      "Name: add\n",
      "\n",
      "4\n"
     ]
    }
   ],
   "source": [
    "### Invocation\n",
    "messages=graph_tool.invoke({\"messages\":\"what is 2 plus 2\"})\n",
    "\n",
    "for message in messages[\"messages\"]:\n",
    "    message.pretty_print()"
   ]
  },
  {
   "cell_type": "code",
   "execution_count": 43,
   "id": "2281cdfa",
   "metadata": {},
   "outputs": [
    {
     "name": "stdout",
     "output_type": "stream",
     "text": [
      "================================\u001b[1m Human Message \u001b[0m=================================\n",
      "\n",
      "what is machine learning\n",
      "==================================\u001b[1m Ai Message \u001b[0m==================================\n",
      "\n",
      "Machine learning is a branch of artificial intelligence (AI) that focuses on developing algorithms and statistical models that enable computers to learn from and make decisions or predictions based on data. Instead of being explicitly programmed for every task, machine learning systems identify patterns and relationships in data to improve their performance over time. Applications include image recognition, natural language processing, recommendation systems, and many others.\n"
     ]
    }
   ],
   "source": [
    "### Invocation\n",
    "messages=graph_tool.invoke({\"messages\":\"what is machine learning\"})\n",
    "\n",
    "for message in messages[\"messages\"]:\n",
    "    message.pretty_print()"
   ]
  }
 ],
 "metadata": {
  "kernelspec": {
   "display_name": "torch-cuda12_8",
   "language": "python",
   "name": "python3"
  },
  "language_info": {
   "codemirror_mode": {
    "name": "ipython",
    "version": 3
   },
   "file_extension": ".py",
   "mimetype": "text/x-python",
   "name": "python",
   "nbconvert_exporter": "python",
   "pygments_lexer": "ipython3",
   "version": "3.12.11"
  }
 },
 "nbformat": 4,
 "nbformat_minor": 5
}
